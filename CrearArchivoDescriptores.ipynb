{
  "nbformat": 4,
  "nbformat_minor": 0,
  "metadata": {
    "colab": {
      "name": "CrearArchivoDescriptores.ipynb",
      "provenance": [],
      "include_colab_link": true
    },
    "kernelspec": {
      "name": "python3",
      "display_name": "Python 3"
    }
  },
  "cells": [
    {
      "cell_type": "markdown",
      "metadata": {
        "id": "view-in-github",
        "colab_type": "text"
      },
      "source": [
        "<a href=\"https://colab.research.google.com/github/jdmedinatobon/proyectoMachineLearning/blob/master/CrearArchivoDescriptores.ipynb\" target=\"_parent\"><img src=\"https://colab.research.google.com/assets/colab-badge.svg\" alt=\"Open In Colab\"/></a>"
      ]
    },
    {
      "cell_type": "code",
      "metadata": {
        "id": "JlJnlfnH8hzQ",
        "colab_type": "code",
        "colab": {}
      },
      "source": [
        "import os\n",
        "import numpy as np\n",
        "import nibabel as nib\n",
        "from zipfile import ZipFile\n",
        "import csv"
      ],
      "execution_count": 0,
      "outputs": []
    },
    {
      "cell_type": "code",
      "metadata": {
        "id": "Gx0o5JjLNgue",
        "colab_type": "code",
        "colab": {}
      },
      "source": [
        "#Se descomprime el archivo con los datos preprocesados\n",
        "!unzip PruebaDatos.zip #En verdad no es este archivo."
      ],
      "execution_count": 0,
      "outputs": []
    },
    {
      "cell_type": "code",
      "metadata": {
        "id": "z3EfMD2h-Jjn",
        "colab_type": "code",
        "colab": {}
      },
      "source": [
        "pathArchivoDatosPreprocesados = \"PruebaDatos\" #Ruta del archivo raiz de los datos preprocesados\n",
        "\n",
        "sub = [0, 0]\n",
        "run = 1\n",
        "\n",
        "def darNombreArchivoImagenes(pSub, pRun):\n",
        "  return \"PruebaDatos/func/sub-\" + str(pSub[0]) + str(pSub[1]) + \"_task-LTM_run-\" + str(pRun) + \"_bold.nii.gz\"\n",
        "\n",
        "def darNombreArchivoEtiquetas(pSub, pRun):\n",
        "  return \"PruebaDatos/func/sub-\" + str(pSub[0]) + str(pSub[1]) + \"_task-LTM_run-\" + str(pRun) + \"_events.tsv\"\n",
        "\n",
        "def obtenerImagenes(pImagenes):\n",
        "  \n",
        "  imagenes = np.zeros((64,64,30,30))\n",
        "\n",
        "  for indice in range(0,15):\n",
        "    for i in range(0,64):\n",
        "      for j in range(0,64):\n",
        "          for k in range(0,30):\n",
        "              imagenes[i][j][k][2*indice] = pImagenes[i][j][k][1+indice*13]\n",
        "              imagenes[i][j][k][2*indice+1] = pImagenes[i][j][k][2+indice*13]\n",
        "\n",
        "  return imagenes\n",
        "\n",
        "#object -> 0\n",
        "#place -> 1\n",
        "#face -> 2\n",
        "def leerEtiquetas(pArchivoEtiquetas):\n",
        "  etiquetas = []\n",
        "\n",
        "  with open(pArchivoEtiquetas) as tsvfile:\n",
        "    reader = csv.DictReader(tsvfile, dialect='excel-tab')\n",
        "    for row in reader:\n",
        "      \n",
        "      etiqueta = row['trial_type']\n",
        "\n",
        "      if(etiqueta == 'object'):\n",
        "\n",
        "        etiquetas.append(0)\n",
        "        etiquetas.append(0)\n",
        "      elif(etiqueta == 'place'):\n",
        "\n",
        "        etiquetas.append(1)\n",
        "        etiquetas.append(1)\n",
        "      elif(etiqueta == 'face'):\n",
        "\n",
        "        etiquetas.append(2)\n",
        "        etiquetas.append(2)\n",
        "      else:\n",
        "        print(\"Error en el formato.\")\n",
        "\n",
        "\n",
        "  return etiquetas\n",
        "\n",
        "def importarDatos():\n",
        "  datosPreprocesados = np.zeros((64,64,30,1800))\n",
        "  etiquetasPreprocesados = np.zeros(1800)\n",
        "\n",
        "  contador = 0\n",
        "  for s1 in range(1,2):#(1,11)\n",
        "\n",
        "    if(s1 == 10):\n",
        "      sub[0] = 1\n",
        "      sub[1] = 0\n",
        "    else:\n",
        "      sub[1] = s1\n",
        "\n",
        "      for r in range(1,2):#(1,7)\n",
        "        run = r\n",
        "        archivoImagenes = darNombreArchivoImagenes(sub, run)\n",
        "        archivoEtiquetas = darNombreArchivoEtiquetas(sub, run)\n",
        "\n",
        "        imagenes = nib.load(archivoImagenes).get_fdata()\n",
        "        etiquetas = leerEtiquetas(archivoEtiquetas)\n",
        "\n",
        "        muestras = obtenerImagenes(imagenes)\n",
        "\n",
        "        for indice in range(0,30):\n",
        "          for i in range(0,64):\n",
        "            for j in range(0,64):\n",
        "                for k in range(0,30):\n",
        "                  datosPreprocesados[i][j][k][30*contador+indice] = muestras[i][j][k][indice]\n",
        "                  etiquetasPreprocesados[30*contador+indice] = etiquetas[indice]\n",
        "\n",
        "        contador+=1\n",
        "\n",
        "    return datosPreprocesados, etiquetasPreprocesados\n",
        "\n"
      ],
      "execution_count": 0,
      "outputs": []
    },
    {
      "cell_type": "code",
      "metadata": {
        "id": "pmkda8PRPPnk",
        "colab_type": "code",
        "colab": {}
      },
      "source": [
        "#im = nib.load(\"PruebaDatos/func/sub-01_task-LTM_run-1_bold.nii.gz\").get_fdata()\n",
        "leerEtiquetas(\"PruebaDatos/func/sub-01_task-LTM_run-1_events.tsv\")"
      ],
      "execution_count": 0,
      "outputs": []
    },
    {
      "cell_type": "code",
      "metadata": {
        "id": "DYaELoBmSt69",
        "colab_type": "code",
        "colab": {}
      },
      "source": [
        "imgprueba = nib.load(\"PruebaDatos/func/sub-01_task-LTM_run-1_bold.nii.gz\").get_fdata()\n",
        "test1 = obtenerImagenes(imgprueba)"
      ],
      "execution_count": 0,
      "outputs": []
    },
    {
      "cell_type": "code",
      "metadata": {
        "id": "ggEuEzPRS81Q",
        "colab_type": "code",
        "colab": {}
      },
      "source": [
        "datosPreprocesados = np.zeros((64,64,30,1800))"
      ],
      "execution_count": 0,
      "outputs": []
    },
    {
      "cell_type": "code",
      "metadata": {
        "id": "J4-duenQTB7E",
        "colab_type": "code",
        "colab": {}
      },
      "source": [
        "test, testet=importarDatos()"
      ],
      "execution_count": 0,
      "outputs": []
    },
    {
      "cell_type": "code",
      "metadata": {
        "id": "6R2WYvamY5bo",
        "colab_type": "code",
        "colab": {
          "base_uri": "https://localhost:8080/",
          "height": 34
        },
        "outputId": "d9eb4942-e9c9-4c9c-dfba-9509750347a9"
      },
      "source": [
        "testet.shape"
      ],
      "execution_count": 156,
      "outputs": [
        {
          "output_type": "execute_result",
          "data": {
            "text/plain": [
              "(1800,)"
            ]
          },
          "metadata": {
            "tags": []
          },
          "execution_count": 156
        }
      ]
    },
    {
      "cell_type": "code",
      "metadata": {
        "id": "_B2FBONcY6XF",
        "colab_type": "code",
        "colab": {
          "base_uri": "https://localhost:8080/",
          "height": 51
        },
        "outputId": "7107d2c9-923e-4699-9847-1be631eef4b4"
      },
      "source": [
        "testet[0:30]"
      ],
      "execution_count": 157,
      "outputs": [
        {
          "output_type": "execute_result",
          "data": {
            "text/plain": [
              "array([0., 0., 2., 2., 1., 1., 0., 0., 1., 1., 2., 2., 2., 2., 2., 2., 2.,\n",
              "       2., 0., 0., 1., 1., 0., 0., 1., 1., 1., 1., 0., 0.])"
            ]
          },
          "metadata": {
            "tags": []
          },
          "execution_count": 157
        }
      ]
    },
    {
      "cell_type": "code",
      "metadata": {
        "id": "AWmDNColY85t",
        "colab_type": "code",
        "colab": {
          "base_uri": "https://localhost:8080/",
          "height": 129
        },
        "outputId": "7fc76adb-d65c-4f4c-c44c-fe10987e1edd"
      },
      "source": [
        "contador++"
      ],
      "execution_count": 100,
      "outputs": [
        {
          "output_type": "error",
          "ename": "SyntaxError",
          "evalue": "ignored",
          "traceback": [
            "\u001b[0;36m  File \u001b[0;32m\"<ipython-input-100-422cc3c04f18>\"\u001b[0;36m, line \u001b[0;32m1\u001b[0m\n\u001b[0;31m    contador++\u001b[0m\n\u001b[0m              ^\u001b[0m\n\u001b[0;31mSyntaxError\u001b[0m\u001b[0;31m:\u001b[0m invalid syntax\n"
          ]
        }
      ]
    },
    {
      "cell_type": "code",
      "metadata": {
        "id": "hu2b3XMWY91E",
        "colab_type": "code",
        "colab": {}
      },
      "source": [
        "contador+=1"
      ],
      "execution_count": 0,
      "outputs": []
    },
    {
      "cell_type": "code",
      "metadata": {
        "id": "rpMIGWvtY_Gs",
        "colab_type": "code",
        "colab": {
          "base_uri": "https://localhost:8080/",
          "height": 34
        },
        "outputId": "9f96c22a-9f9a-4ea8-ad21-9b444f8cc603"
      },
      "source": [
        "contador"
      ],
      "execution_count": 102,
      "outputs": [
        {
          "output_type": "execute_result",
          "data": {
            "text/plain": [
              "1"
            ]
          },
          "metadata": {
            "tags": []
          },
          "execution_count": 102
        }
      ]
    },
    {
      "cell_type": "code",
      "metadata": {
        "id": "W5f7m1y4Y_8c",
        "colab_type": "code",
        "colab": {
          "base_uri": "https://localhost:8080/",
          "height": 34
        },
        "outputId": "b0b97b5f-af6a-4c8d-f88e-e6e80a333df4"
      },
      "source": [
        "30*59"
      ],
      "execution_count": 131,
      "outputs": [
        {
          "output_type": "execute_result",
          "data": {
            "text/plain": [
              "1770"
            ]
          },
          "metadata": {
            "tags": []
          },
          "execution_count": 131
        }
      ]
    },
    {
      "cell_type": "code",
      "metadata": {
        "id": "5Is8rTNnemJ-",
        "colab_type": "code",
        "colab": {}
      },
      "source": [
        ""
      ],
      "execution_count": 0,
      "outputs": []
    }
  ]
}