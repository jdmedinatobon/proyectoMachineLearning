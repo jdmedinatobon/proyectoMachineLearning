{
  "nbformat": 4,
  "nbformat_minor": 0,
  "metadata": {
    "colab": {
      "name": "CrearArchivoDescriptores.ipynb",
      "provenance": [],
      "collapsed_sections": [],
      "machine_shape": "hm",
      "include_colab_link": true
    },
    "kernelspec": {
      "name": "python3",
      "display_name": "Python 3"
    }
  },
  "cells": [
    {
      "cell_type": "markdown",
      "metadata": {
        "id": "view-in-github",
        "colab_type": "text"
      },
      "source": [
        "<a href=\"https://colab.research.google.com/github/jdmedinatobon/proyectoMachineLearning/blob/master/CrearArchivoDescriptores.ipynb\" target=\"_parent\"><img src=\"https://colab.research.google.com/assets/colab-badge.svg\" alt=\"Open In Colab\"/></a>"
      ]
    },
    {
      "cell_type": "code",
      "metadata": {
        "id": "cezHByhvrNW3",
        "colab_type": "code",
        "outputId": "b2c6d975-bab4-40e3-85b6-8afb31398f1e",
        "colab": {
          "base_uri": "https://localhost:8080/",
          "height": 132
        }
      },
      "source": [
        "from google.colab import drive\n",
        "drive.mount('/content/drive')"
      ],
      "execution_count": 3,
      "outputs": [
        {
          "output_type": "stream",
          "text": [
            "Go to this URL in a browser: https://accounts.google.com/o/oauth2/auth?client_id=947318989803-6bn6qk8qdgf4n4g3pfee6491hc0brc4i.apps.googleusercontent.com&redirect_uri=urn%3aietf%3awg%3aoauth%3a2.0%3aoob&response_type=code&scope=email%20https%3a%2f%2fwww.googleapis.com%2fauth%2fdocs.test%20https%3a%2f%2fwww.googleapis.com%2fauth%2fdrive%20https%3a%2f%2fwww.googleapis.com%2fauth%2fdrive.photos.readonly%20https%3a%2f%2fwww.googleapis.com%2fauth%2fpeopleapi.readonly\n",
            "\n",
            "Enter your authorization code:\n",
            "··········\n",
            "Mounted at /content/drive\n"
          ],
          "name": "stdout"
        }
      ]
    },
    {
      "cell_type": "code",
      "metadata": {
        "id": "oxAYg0Gy068k",
        "colab_type": "code",
        "colab": {}
      },
      "source": [
        "import zipfile\n",
        "\n",
        "datosZip = zipfile.ZipFile(\"/content/drive/My Drive/Datos.zip\", 'r')\n",
        "datosZip.extractall()\n",
        "datosZip.close()"
      ],
      "execution_count": 0,
      "outputs": []
    },
    {
      "cell_type": "code",
      "metadata": {
        "id": "YFrqP4m8CNBB",
        "colab_type": "code",
        "outputId": "38b8413f-bf98-4dac-fe00-b476bf2d1961",
        "colab": {
          "base_uri": "https://localhost:8080/",
          "height": 283
        }
      },
      "source": [
        "#En esta celda se incluyen los comandos necesarios para instalar las librerias requeridas.\n",
        "#Esta solo se debe ejecutar cada vez que se inicia el Runtime.\n",
        "!pip install mahotas\n",
        "!pip install progressbar2"
      ],
      "execution_count": 5,
      "outputs": [
        {
          "output_type": "stream",
          "text": [
            "Collecting mahotas\n",
            "\u001b[?25l  Downloading https://files.pythonhosted.org/packages/84/74/bd38163462eb346519f36dc205f0a52a01fb372c7bbcc87392c9b21cfe26/mahotas-1.4.9.tar.gz (1.5MB)\n",
            "\u001b[K     |████████████████████████████████| 1.5MB 2.8MB/s \n",
            "\u001b[?25hRequirement already satisfied: numpy in /usr/local/lib/python3.6/dist-packages (from mahotas) (1.17.4)\n",
            "Building wheels for collected packages: mahotas\n",
            "  Building wheel for mahotas (setup.py) ... \u001b[?25l\u001b[?25hdone\n",
            "  Created wheel for mahotas: filename=mahotas-1.4.9-cp36-cp36m-linux_x86_64.whl size=4264075 sha256=2cd412d7445b602d562e90c6040e8e72b6e7fa34ade090e7a61ac774fc359599\n",
            "  Stored in directory: /root/.cache/pip/wheels/02/e7/50/b67eee3b19c479cc5b41f10230bf9c1556be6eaaf095c6e997\n",
            "Successfully built mahotas\n",
            "Installing collected packages: mahotas\n",
            "Successfully installed mahotas-1.4.9\n",
            "Requirement already satisfied: progressbar2 in /usr/local/lib/python3.6/dist-packages (3.38.0)\n",
            "Requirement already satisfied: six in /usr/local/lib/python3.6/dist-packages (from progressbar2) (1.12.0)\n",
            "Requirement already satisfied: python-utils>=2.3.0 in /usr/local/lib/python3.6/dist-packages (from progressbar2) (2.3.0)\n"
          ],
          "name": "stdout"
        }
      ]
    },
    {
      "cell_type": "code",
      "metadata": {
        "id": "JlJnlfnH8hzQ",
        "colab_type": "code",
        "colab": {}
      },
      "source": [
        "#Aqui se importan las librerias necesarias para correr el codigo.\n",
        "#Antes de correr esta celda se deben ejecutar la anterior para instalar las librerias.\n",
        "import os\n",
        "import numpy as np\n",
        "import nibabel as nib\n",
        "import csv\n",
        "import mahotas as mh\n",
        "import progressbar\n",
        "\n",
        "%tensorflow_version 1.x\n",
        "import tensorflow as tf\n",
        "import time\n",
        "import scipy.stats as st"
      ],
      "execution_count": 0,
      "outputs": []
    },
    {
      "cell_type": "code",
      "metadata": {
        "id": "z3EfMD2h-Jjn",
        "colab_type": "code",
        "colab": {}
      },
      "source": [
        "#Es la ruta del archivo raiz de los datos preprocesados.\n",
        "pathArchivoDatosPreprocesados = \"Datos\"\n",
        "\n",
        "#Estas 2 variables se utilizan para recorrer cada carpeta de los datos.\n",
        "sub = [0, 0]\n",
        "run = 1\n",
        "\n",
        "#Funcion que retorna el nombre del archivo que contiene las imagenes de resonancia magnetica.\n",
        "#pSub: Indica la persona a la cual se le tomaron las imagenes.\n",
        "#pRun: Indica el run para una persona. Cada run incluye 180 muestras de imagenes.\n",
        "def darNombreArchivoImagenes(pSub, pRun):\n",
        "  return pathArchivoDatosPreprocesados + \"/ds001497-download/sub-\"+str(pSub[0])+str(pSub[1])+\"/func/sub-\" + str(pSub[0]) + str(pSub[1]) + \"_task-LTM_run-\" + str(pRun) + \"_bold.nii.gz\"\n",
        "\n",
        "#Funcion que retorna el nombre del archivo que contiene las etiquetas correspondientes a las imagenes de resonancia magnetica.\n",
        "#pSub: Indica la persona a la cual se le tomaron las imagenes.\n",
        "#pRun: Indica el run para una persona. Cada run incluye 180 muestras de imagenes.\n",
        "def darNombreArchivoEtiquetas(pSub, pRun):\n",
        "  return pathArchivoDatosPreprocesados + \"/ds001497-download/sub-\"+str(pSub[0])+str(pSub[1])+\"/func/sub-\" + str(pSub[0]) + str(pSub[1]) + \"_task-LTM_run-\" + str(pRun) + \"_events.tsv\"\n",
        "\n",
        "#Funcion que obtiene el conjunto de 30 imagenes de 64x64 utilizados para el proyecto.\n",
        "def obtenerImagenes(pImagenes):\n",
        "  \n",
        "  imagenes = np.zeros((64,64,30,30))\n",
        "\n",
        "  for indice in range(0,15):\n",
        "    imagenes[:,:,:,2*indice] = pImagenes[:,:,:,2+indice*13]\n",
        "    imagenes[:,:,:,2*indice+1] = pImagenes[:,:,:,3+indice*13]\n",
        "\n",
        "  return imagenes\n",
        "\n",
        "#Funcion que obtiene las etiquetas y las convierte a su correspondiente numero entero de acuerdo con la siguiente regla:\n",
        "#object -> 0\n",
        "#place -> 1\n",
        "#face -> 2\n",
        "def leerEtiquetas(pArchivoEtiquetas):\n",
        "  etiquetas = []\n",
        "\n",
        "  with open(pArchivoEtiquetas) as tsvfile:\n",
        "    reader = csv.DictReader(tsvfile, dialect='excel-tab')\n",
        "    for row in reader:\n",
        "      \n",
        "      etiqueta = row['trial_type']\n",
        "\n",
        "      if(etiqueta == 'object'):\n",
        "\n",
        "        etiquetas.append(0)\n",
        "        etiquetas.append(0)\n",
        "      elif(etiqueta == 'place'):\n",
        "\n",
        "        etiquetas.append(1)\n",
        "        etiquetas.append(1)\n",
        "      elif(etiqueta == 'face'):\n",
        "\n",
        "        etiquetas.append(2)\n",
        "        etiquetas.append(2)\n",
        "      else:\n",
        "        print(\"Error en el formato. Existe una clase distinta a object, place o face\")\n",
        "\n",
        "  return etiquetas\n",
        "\n",
        "#Funcion que genera una matriz de NumPy con los datos leidos de los archivos.\n",
        "def importarDatos():\n",
        "  datosPreprocesados = np.zeros((1800,64,64,30))\n",
        "  etiquetasPreprocesados = np.zeros(1800)\n",
        "\n",
        "  contador = 0\n",
        "  p = 0\n",
        "\n",
        "  sub[0] = 0\n",
        "\n",
        "  with progressbar.ProgressBar(max_value = 1800) as bar:\n",
        "    for s1 in range(1,11):#(1,11)\n",
        "\n",
        "      if(s1 == 10):\n",
        "        sub[0] = 1\n",
        "        sub[1] = 0\n",
        "      else:\n",
        "        sub[1] = s1\n",
        "\n",
        "      for run in range(1,7):#(1,7)\n",
        "        archivoImagenes = darNombreArchivoImagenes(sub, run)\n",
        "        archivoEtiquetas = darNombreArchivoEtiquetas(sub, run)\n",
        "\n",
        "        imagenes = nib.load(archivoImagenes).get_fdata()\n",
        "        etiquetas = leerEtiquetas(archivoEtiquetas)\n",
        "\n",
        "        muestras = obtenerImagenes(imagenes)\n",
        "\n",
        "        for indice in range(0,30):\n",
        "            datosPreprocesados[30*contador+indice,:,:,:] = muestras[:,:,:,indice]\n",
        "            etiquetasPreprocesados[30*contador+indice] = etiquetas[indice]\n",
        "\n",
        "            p+=1\n",
        "            bar.update(p)\n",
        "\n",
        "        contador+=1\n",
        "\n",
        "  return datosPreprocesados, etiquetasPreprocesados.astype(int)"
      ],
      "execution_count": 0,
      "outputs": []
    },
    {
      "cell_type": "code",
      "metadata": {
        "id": "J4-duenQTB7E",
        "colab_type": "code",
        "outputId": "627906d1-03d9-4fdb-ff1c-f38c174b6aee",
        "colab": {
          "base_uri": "https://localhost:8080/",
          "height": 36
        }
      },
      "source": [
        "#En esta linea de codigo se importan los datos y se almacenan en las variables datosPreprocesados (correspondiente a las imagenes) y en etiquetasPreprocesadas (las etiquetas).\n",
        "datosPreprocesados, etiquetasPreprocesados = importarDatos()\n",
        "\n",
        "np.save(\"drive/My Drive/DatosProyecto/raw/Datos_2_3\", datosPreprocesados)\n",
        "np.save(\"drive/My Drive/DatosProyecto/raw/Etiquetas_2_3\", etiquetasPreprocesados)"
      ],
      "execution_count": 11,
      "outputs": [
        {
          "output_type": "stream",
          "text": [
            "100% (1800 of 1800) |####################| Elapsed Time: 0:00:36 Time:  0:00:36\n"
          ],
          "name": "stderr"
        }
      ]
    },
    {
      "cell_type": "code",
      "metadata": {
        "id": "A4oSi4itJOCB",
        "colab_type": "code",
        "colab": {}
      },
      "source": [
        "escala = 2**12\n",
        "\n",
        "#Calcula los descriptores de primer orden. Estos se refieren a los que se sacan a partir del histograma, la media, la varianza, etc.\n",
        "def calcularDescriptoresPrimerOrden(pImagenes):\n",
        "\n",
        "  mean = np.mean(pImagenes, axis = None)\n",
        "  var = np.var(pImagenes, axis = None)\n",
        "  kur = st.kurtosis(pImagenes, axis = None)\n",
        "  ske = st.skew(pImagenes, axis = None)\n",
        "\n",
        "  descriptores = np.append([mean, var],[kur, ske])\n",
        "\n",
        "  return descriptores\n",
        "\n",
        "#Calcula los descriptores a partir de un grupo de imagenes de fMRI.\n",
        "def calcularDescriptores(pImagenes):\n",
        "  #Faltan los descriptores del histograma\n",
        "  descPrimer = calcularDescriptoresPrimerOrden(pImagenes)\n",
        "  descSegundo = mh.features.haralick(pImagenes, ignore_zeros=True, preserve_haralick_bug=False, compute_14th_feature=False, return_mean=True, return_mean_ptp=False, use_x_minus_y_variance=False, distance=1)\n",
        "\n",
        "  descriptores = np.append(descPrimer,descSegundo)\n",
        "\n",
        "  return descriptores\n",
        "\n",
        "#Funcion que retorna el texto de la descripcion del archivo de descriptores.\n",
        "def darTextoIntroduccion(pEscala):\n",
        "  texto = \"Este archivo incluye los descriptores calculados a partir de los datos preprocesados. \\nLos datos brutos fueron obtenidos del \\\n",
        "dataset de imágenes de resonancia magnética funcional que se puede encontrar en https://openneuro.org/datasets/ds001497/versions/1.0.1.\\n\\\n",
        "A estos datos se les realizó un preprocesamiento utilizando fmriprep (ESTO TOCA VER SI SI SIRVE AL FIN) y finalmente se calcularon los \\\n",
        "descriptores con una escala de grises de \" + str(pEscala) + \".\\nEstos descriptores son (EL NUMERO QUE SEA) e incluyen:\\nEnergía, etc.... (AGREGAR LOS QUE FALTAN Y ORDENARLOS CORRECTAMENTE).\\n\\\n",
        "Finalmente, cada muestra incluye a la clase a la cual pertenece. Existen 3 clases y se indican con un número de 0 a 2 que corresponden a:\\n\\\n",
        "objeto -> 0\\n\\\n",
        "lugar -> 1\\n\\\n",
        "rostro -> 2\\n\\\n",
        "media;varianza;kurtosis;skewness;....;clase AGREGAR TODAS LAS VARIABLES ACA EN ORDEN SIGUIENDO LA CONVENCIÓN DE SEPARARLOS CON ;\"\n",
        "\n",
        "  return texto\n",
        "\n",
        "#Funcion que retorna un string con los descriptores y clases separados por ;.\n",
        "#Esta cadena sera utilizada para generar el archivo de texto con los descriptores calculados y su etiqueta.\n",
        "def darLinea(pDescriptores, pEtiqueta):\n",
        "  separador = \";\"\n",
        "  muestra = []\n",
        "  return separador.join(pDescriptores.astype(str)) + separador + str(pEtiqueta)\n",
        "\n",
        "#Funcion que genera el archivo de texto con los datos de los descriptores y su correspondiente etiqueta.\n",
        "#Este archivo recibe el nombre de datosDescriptores.txt e incluye los descriptores y sus etiquetas separadas por ;\n",
        "#y una descripcion del archivo.\n",
        "def crearArchivoDescriptores():\n",
        "\n",
        "  print(\"Generando archivo de descriptores...\")\n",
        "  archivo = open(\"datosDescriptores.txt\", \"w+\")\n",
        "\n",
        "  intro = darTextoIntroduccion(escala)\n",
        "  archivo.write(intro)\n",
        "  archivo.write(\"\\n\")\n",
        "\n",
        "  start = time.time()\n",
        "\n",
        "  #Esto deberia iterar hasta 1800, pero por ahora menos.\n",
        "  for i in progressbar.progressbar(range(0,1800)):\n",
        "    imagenes = datosPreprocesados[:,:,:,i]\n",
        "    imagenes = escala*(imagenes/imagenes.max())\n",
        "    imagenes = imagenes.astype(int)\n",
        "\n",
        "    descriptores = calcularDescriptores(imagenes)\n",
        "    linea = darLinea(descriptores, etiquetasPreprocesados[i])\n",
        "    archivo.write(linea)\n",
        "    archivo.write(\"\\n\")\n",
        "    \n",
        "  print(\"Archivo generado exitosamente.\")\n",
        "  print(\"Tiempo: {} segundos\".format(time.time()-start))\n",
        "\n",
        "  archivo.close()"
      ],
      "execution_count": 0,
      "outputs": []
    },
    {
      "cell_type": "code",
      "metadata": {
        "id": "WPzTB7hiFE7G",
        "colab_type": "code",
        "colab": {}
      },
      "source": [
        "crearArchivoDescriptores()"
      ],
      "execution_count": 0,
      "outputs": []
    },
    {
      "cell_type": "code",
      "metadata": {
        "id": "VTXCaRZXKdDU",
        "colab_type": "code",
        "colab": {}
      },
      "source": [
        ""
      ],
      "execution_count": 0,
      "outputs": []
    }
  ]
}