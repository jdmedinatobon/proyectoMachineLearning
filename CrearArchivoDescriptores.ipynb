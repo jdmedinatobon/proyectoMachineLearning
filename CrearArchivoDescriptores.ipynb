{
  "nbformat": 4,
  "nbformat_minor": 0,
  "metadata": {
    "colab": {
      "name": "CrearArchivoDescriptores.ipynb",
      "provenance": [],
      "collapsed_sections": [],
      "machine_shape": "hm",
      "include_colab_link": true
    },
    "kernelspec": {
      "name": "python3",
      "display_name": "Python 3"
    },
    "accelerator": "TPU"
  },
  "cells": [
    {
      "cell_type": "markdown",
      "metadata": {
        "id": "view-in-github",
        "colab_type": "text"
      },
      "source": [
        "<a href=\"https://colab.research.google.com/github/jdmedinatobon/proyectoMachineLearning/blob/master/CrearArchivoDescriptores.ipynb\" target=\"_parent\"><img src=\"https://colab.research.google.com/assets/colab-badge.svg\" alt=\"Open In Colab\"/></a>"
      ]
    },
    {
      "cell_type": "markdown",
      "metadata": {
        "id": "KpQ17l9RjXAZ",
        "colab_type": "text"
      },
      "source": [
        "En este cuaderno se describe el procedimiento realizado para calcular los descriptores de las imágenes de resonancia magnética. Esto es necesario, ya que se cuentan con 30 imágenes de 64 x 64 pixeles que describen el cerebro. Cada grupo de 30 imágenes cuenta con un total de 122800 valores por muestra, motivo por el cual es necesario tomar estos datos y calcular un número menor de descriptores para el entrenamiento de los modelos. Estos descriptores se almacenan en un archivo de texto que se puede encontrar en el repositorio del proyecto en: https://github.com/jdmedinatobon/proyectoMachineLearning.\n",
        "\n",
        "El entrenamiento de los modelos se realizó en un cuaderno por aparte que se puede encontrar junto a este.\n",
        "\n",
        "Es importante mencionar que antes de calcular los descriptores se realizó un preprocesamiento sobre las imágenes utilizando easy fMRI. El repositorio se esta herramienta, de donde también se puede instalar, se puede encontrar aquí: https://easyfmri.github.io/. "
      ]
    },
    {
      "cell_type": "code",
      "metadata": {
        "id": "cezHByhvrNW3",
        "colab_type": "code",
        "outputId": "fef37392-2280-4871-9d8d-f26f94599f2e",
        "colab": {
          "base_uri": "https://localhost:8080/",
          "height": 132
        }
      },
      "source": [
        "from google.colab import drive\n",
        "drive.mount('/content/drive')"
      ],
      "execution_count": 1,
      "outputs": [
        {
          "output_type": "stream",
          "text": [
            "Go to this URL in a browser: https://accounts.google.com/o/oauth2/auth?client_id=947318989803-6bn6qk8qdgf4n4g3pfee6491hc0brc4i.apps.googleusercontent.com&redirect_uri=urn%3aietf%3awg%3aoauth%3a2.0%3aoob&response_type=code&scope=email%20https%3a%2f%2fwww.googleapis.com%2fauth%2fdocs.test%20https%3a%2f%2fwww.googleapis.com%2fauth%2fdrive%20https%3a%2f%2fwww.googleapis.com%2fauth%2fdrive.photos.readonly%20https%3a%2f%2fwww.googleapis.com%2fauth%2fpeopleapi.readonly\n",
            "\n",
            "Enter your authorization code:\n",
            "··········\n",
            "Mounted at /content/drive\n"
          ],
          "name": "stdout"
        }
      ]
    },
    {
      "cell_type": "code",
      "metadata": {
        "id": "oxAYg0Gy068k",
        "colab_type": "code",
        "colab": {}
      },
      "source": [
        "import zipfile\n",
        "\n",
        "datosZip = zipfile.ZipFile(\"/content/drive/My Drive/Datos.zip\", 'r')\n",
        "datosZip.extractall()\n",
        "datosZip.close()"
      ],
      "execution_count": 0,
      "outputs": []
    },
    {
      "cell_type": "code",
      "metadata": {
        "id": "YFrqP4m8CNBB",
        "colab_type": "code",
        "outputId": "3fc8ee16-76a2-4dff-8bd4-9c43d112fe66",
        "colab": {
          "base_uri": "https://localhost:8080/",
          "height": 283
        }
      },
      "source": [
        "#En esta celda se incluyen los comandos necesarios para instalar las librerias requeridas.\n",
        "#Esta solo se debe ejecutar cada vez que se inicia el entorno de ejecución.\n",
        "!pip install mahotas\n",
        "!pip install progressbar2"
      ],
      "execution_count": 2,
      "outputs": [
        {
          "output_type": "stream",
          "text": [
            "Collecting mahotas\n",
            "\u001b[?25l  Downloading https://files.pythonhosted.org/packages/84/74/bd38163462eb346519f36dc205f0a52a01fb372c7bbcc87392c9b21cfe26/mahotas-1.4.9.tar.gz (1.5MB)\n",
            "\r\u001b[K     |▏                               | 10kB 17.1MB/s eta 0:00:01\r\u001b[K     |▍                               | 20kB 2.1MB/s eta 0:00:01\r\u001b[K     |▋                               | 30kB 3.1MB/s eta 0:00:01\r\u001b[K     |▉                               | 40kB 1.8MB/s eta 0:00:01\r\u001b[K     |█                               | 51kB 2.3MB/s eta 0:00:01\r\u001b[K     |█▎                              | 61kB 2.7MB/s eta 0:00:01\r\u001b[K     |█▌                              | 71kB 3.1MB/s eta 0:00:01\r\u001b[K     |█▊                              | 81kB 3.6MB/s eta 0:00:01\r\u001b[K     |██                              | 92kB 4.0MB/s eta 0:00:01\r\u001b[K     |██▏                             | 102kB 3.1MB/s eta 0:00:01\r\u001b[K     |██▍                             | 112kB 3.1MB/s eta 0:00:01\r\u001b[K     |██▋                             | 122kB 3.1MB/s eta 0:00:01\r\u001b[K     |██▉                             | 133kB 3.1MB/s eta 0:00:01\r\u001b[K     |███                             | 143kB 3.1MB/s eta 0:00:01\r\u001b[K     |███▏                            | 153kB 3.1MB/s eta 0:00:01\r\u001b[K     |███▍                            | 163kB 3.1MB/s eta 0:00:01\r\u001b[K     |███▋                            | 174kB 3.1MB/s eta 0:00:01\r\u001b[K     |███▉                            | 184kB 3.1MB/s eta 0:00:01\r\u001b[K     |████                            | 194kB 3.1MB/s eta 0:00:01\r\u001b[K     |████▎                           | 204kB 3.1MB/s eta 0:00:01\r\u001b[K     |████▌                           | 215kB 3.1MB/s eta 0:00:01\r\u001b[K     |████▊                           | 225kB 3.1MB/s eta 0:00:01\r\u001b[K     |█████                           | 235kB 3.1MB/s eta 0:00:01\r\u001b[K     |█████▏                          | 245kB 3.1MB/s eta 0:00:01\r\u001b[K     |█████▍                          | 256kB 3.1MB/s eta 0:00:01\r\u001b[K     |█████▋                          | 266kB 3.1MB/s eta 0:00:01\r\u001b[K     |█████▊                          | 276kB 3.1MB/s eta 0:00:01\r\u001b[K     |██████                          | 286kB 3.1MB/s eta 0:00:01\r\u001b[K     |██████▏                         | 296kB 3.1MB/s eta 0:00:01\r\u001b[K     |██████▍                         | 307kB 3.1MB/s eta 0:00:01\r\u001b[K     |██████▋                         | 317kB 3.1MB/s eta 0:00:01\r\u001b[K     |██████▉                         | 327kB 3.1MB/s eta 0:00:01\r\u001b[K     |███████                         | 337kB 3.1MB/s eta 0:00:01\r\u001b[K     |███████▎                        | 348kB 3.1MB/s eta 0:00:01\r\u001b[K     |███████▌                        | 358kB 3.1MB/s eta 0:00:01\r\u001b[K     |███████▊                        | 368kB 3.1MB/s eta 0:00:01\r\u001b[K     |████████                        | 378kB 3.1MB/s eta 0:00:01\r\u001b[K     |████████▏                       | 389kB 3.1MB/s eta 0:00:01\r\u001b[K     |████████▍                       | 399kB 3.1MB/s eta 0:00:01\r\u001b[K     |████████▋                       | 409kB 3.1MB/s eta 0:00:01\r\u001b[K     |████████▊                       | 419kB 3.1MB/s eta 0:00:01\r\u001b[K     |█████████                       | 430kB 3.1MB/s eta 0:00:01\r\u001b[K     |█████████▏                      | 440kB 3.1MB/s eta 0:00:01\r\u001b[K     |█████████▍                      | 450kB 3.1MB/s eta 0:00:01\r\u001b[K     |█████████▋                      | 460kB 3.1MB/s eta 0:00:01\r\u001b[K     |█████████▉                      | 471kB 3.1MB/s eta 0:00:01\r\u001b[K     |██████████                      | 481kB 3.1MB/s eta 0:00:01\r\u001b[K     |██████████▎                     | 491kB 3.1MB/s eta 0:00:01\r\u001b[K     |██████████▌                     | 501kB 3.1MB/s eta 0:00:01\r\u001b[K     |██████████▊                     | 512kB 3.1MB/s eta 0:00:01\r\u001b[K     |███████████                     | 522kB 3.1MB/s eta 0:00:01\r\u001b[K     |███████████▏                    | 532kB 3.1MB/s eta 0:00:01\r\u001b[K     |███████████▍                    | 542kB 3.1MB/s eta 0:00:01\r\u001b[K     |███████████▌                    | 552kB 3.1MB/s eta 0:00:01\r\u001b[K     |███████████▊                    | 563kB 3.1MB/s eta 0:00:01\r\u001b[K     |████████████                    | 573kB 3.1MB/s eta 0:00:01\r\u001b[K     |████████████▏                   | 583kB 3.1MB/s eta 0:00:01\r\u001b[K     |████████████▍                   | 593kB 3.1MB/s eta 0:00:01\r\u001b[K     |████████████▋                   | 604kB 3.1MB/s eta 0:00:01\r\u001b[K     |████████████▉                   | 614kB 3.1MB/s eta 0:00:01\r\u001b[K     |█████████████                   | 624kB 3.1MB/s eta 0:00:01\r\u001b[K     |█████████████▎                  | 634kB 3.1MB/s eta 0:00:01\r\u001b[K     |█████████████▌                  | 645kB 3.1MB/s eta 0:00:01\r\u001b[K     |█████████████▊                  | 655kB 3.1MB/s eta 0:00:01\r\u001b[K     |██████████████                  | 665kB 3.1MB/s eta 0:00:01\r\u001b[K     |██████████████▏                 | 675kB 3.1MB/s eta 0:00:01\r\u001b[K     |██████████████▍                 | 686kB 3.1MB/s eta 0:00:01\r\u001b[K     |██████████████▌                 | 696kB 3.1MB/s eta 0:00:01\r\u001b[K     |██████████████▊                 | 706kB 3.1MB/s eta 0:00:01\r\u001b[K     |███████████████                 | 716kB 3.1MB/s eta 0:00:01\r\u001b[K     |███████████████▏                | 727kB 3.1MB/s eta 0:00:01\r\u001b[K     |███████████████▍                | 737kB 3.1MB/s eta 0:00:01\r\u001b[K     |███████████████▋                | 747kB 3.1MB/s eta 0:00:01\r\u001b[K     |███████████████▉                | 757kB 3.1MB/s eta 0:00:01\r\u001b[K     |████████████████                | 768kB 3.1MB/s eta 0:00:01\r\u001b[K     |████████████████▎               | 778kB 3.1MB/s eta 0:00:01\r\u001b[K     |████████████████▌               | 788kB 3.1MB/s eta 0:00:01\r\u001b[K     |████████████████▊               | 798kB 3.1MB/s eta 0:00:01\r\u001b[K     |█████████████████               | 808kB 3.1MB/s eta 0:00:01\r\u001b[K     |█████████████████▏              | 819kB 3.1MB/s eta 0:00:01\r\u001b[K     |█████████████████▎              | 829kB 3.1MB/s eta 0:00:01\r\u001b[K     |█████████████████▌              | 839kB 3.1MB/s eta 0:00:01\r\u001b[K     |█████████████████▊              | 849kB 3.1MB/s eta 0:00:01\r\u001b[K     |██████████████████              | 860kB 3.1MB/s eta 0:00:01\r\u001b[K     |██████████████████▏             | 870kB 3.1MB/s eta 0:00:01\r\u001b[K     |██████████████████▍             | 880kB 3.1MB/s eta 0:00:01\r\u001b[K     |██████████████████▋             | 890kB 3.1MB/s eta 0:00:01\r\u001b[K     |██████████████████▉             | 901kB 3.1MB/s eta 0:00:01\r\u001b[K     |███████████████████             | 911kB 3.1MB/s eta 0:00:01\r\u001b[K     |███████████████████▎            | 921kB 3.1MB/s eta 0:00:01\r\u001b[K     |███████████████████▌            | 931kB 3.1MB/s eta 0:00:01\r\u001b[K     |███████████████████▊            | 942kB 3.1MB/s eta 0:00:01\r\u001b[K     |████████████████████            | 952kB 3.1MB/s eta 0:00:01\r\u001b[K     |████████████████████▏           | 962kB 3.1MB/s eta 0:00:01\r\u001b[K     |████████████████████▎           | 972kB 3.1MB/s eta 0:00:01\r\u001b[K     |████████████████████▌           | 983kB 3.1MB/s eta 0:00:01\r\u001b[K     |████████████████████▊           | 993kB 3.1MB/s eta 0:00:01\r\u001b[K     |█████████████████████           | 1.0MB 3.1MB/s eta 0:00:01\r\u001b[K     |█████████████████████▏          | 1.0MB 3.1MB/s eta 0:00:01\r\u001b[K     |█████████████████████▍          | 1.0MB 3.1MB/s eta 0:00:01\r\u001b[K     |█████████████████████▋          | 1.0MB 3.1MB/s eta 0:00:01\r\u001b[K     |█████████████████████▉          | 1.0MB 3.1MB/s eta 0:00:01\r\u001b[K     |██████████████████████          | 1.1MB 3.1MB/s eta 0:00:01\r\u001b[K     |██████████████████████▎         | 1.1MB 3.1MB/s eta 0:00:01\r\u001b[K     |██████████████████████▌         | 1.1MB 3.1MB/s eta 0:00:01\r\u001b[K     |██████████████████████▊         | 1.1MB 3.1MB/s eta 0:00:01\r\u001b[K     |███████████████████████         | 1.1MB 3.1MB/s eta 0:00:01\r\u001b[K     |███████████████████████         | 1.1MB 3.1MB/s eta 0:00:01\r\u001b[K     |███████████████████████▎        | 1.1MB 3.1MB/s eta 0:00:01\r\u001b[K     |███████████████████████▌        | 1.1MB 3.1MB/s eta 0:00:01\r\u001b[K     |███████████████████████▊        | 1.1MB 3.1MB/s eta 0:00:01\r\u001b[K     |████████████████████████        | 1.1MB 3.1MB/s eta 0:00:01\r\u001b[K     |████████████████████████▏       | 1.2MB 3.1MB/s eta 0:00:01\r\u001b[K     |████████████████████████▍       | 1.2MB 3.1MB/s eta 0:00:01\r\u001b[K     |████████████████████████▋       | 1.2MB 3.1MB/s eta 0:00:01\r\u001b[K     |████████████████████████▉       | 1.2MB 3.1MB/s eta 0:00:01\r\u001b[K     |█████████████████████████       | 1.2MB 3.1MB/s eta 0:00:01\r\u001b[K     |█████████████████████████▎      | 1.2MB 3.1MB/s eta 0:00:01\r\u001b[K     |█████████████████████████▌      | 1.2MB 3.1MB/s eta 0:00:01\r\u001b[K     |█████████████████████████▊      | 1.2MB 3.1MB/s eta 0:00:01\r\u001b[K     |█████████████████████████▉      | 1.2MB 3.1MB/s eta 0:00:01\r\u001b[K     |██████████████████████████      | 1.2MB 3.1MB/s eta 0:00:01\r\u001b[K     |██████████████████████████▎     | 1.3MB 3.1MB/s eta 0:00:01\r\u001b[K     |██████████████████████████▌     | 1.3MB 3.1MB/s eta 0:00:01\r\u001b[K     |██████████████████████████▊     | 1.3MB 3.1MB/s eta 0:00:01\r\u001b[K     |███████████████████████████     | 1.3MB 3.1MB/s eta 0:00:01\r\u001b[K     |███████████████████████████▏    | 1.3MB 3.1MB/s eta 0:00:01\r\u001b[K     |███████████████████████████▍    | 1.3MB 3.1MB/s eta 0:00:01\r\u001b[K     |███████████████████████████▋    | 1.3MB 3.1MB/s eta 0:00:01\r\u001b[K     |███████████████████████████▉    | 1.3MB 3.1MB/s eta 0:00:01\r\u001b[K     |████████████████████████████    | 1.3MB 3.1MB/s eta 0:00:01\r\u001b[K     |████████████████████████████▎   | 1.4MB 3.1MB/s eta 0:00:01\r\u001b[K     |████████████████████████████▌   | 1.4MB 3.1MB/s eta 0:00:01\r\u001b[K     |████████████████████████████▊   | 1.4MB 3.1MB/s eta 0:00:01\r\u001b[K     |████████████████████████████▉   | 1.4MB 3.1MB/s eta 0:00:01\r\u001b[K     |█████████████████████████████   | 1.4MB 3.1MB/s eta 0:00:01\r\u001b[K     |█████████████████████████████▎  | 1.4MB 3.1MB/s eta 0:00:01\r\u001b[K     |█████████████████████████████▌  | 1.4MB 3.1MB/s eta 0:00:01\r\u001b[K     |█████████████████████████████▊  | 1.4MB 3.1MB/s eta 0:00:01\r\u001b[K     |██████████████████████████████  | 1.4MB 3.1MB/s eta 0:00:01\r\u001b[K     |██████████████████████████████▏ | 1.4MB 3.1MB/s eta 0:00:01\r\u001b[K     |██████████████████████████████▍ | 1.5MB 3.1MB/s eta 0:00:01\r\u001b[K     |██████████████████████████████▋ | 1.5MB 3.1MB/s eta 0:00:01\r\u001b[K     |██████████████████████████████▉ | 1.5MB 3.1MB/s eta 0:00:01\r\u001b[K     |███████████████████████████████ | 1.5MB 3.1MB/s eta 0:00:01\r\u001b[K     |███████████████████████████████▎| 1.5MB 3.1MB/s eta 0:00:01\r\u001b[K     |███████████████████████████████▌| 1.5MB 3.1MB/s eta 0:00:01\r\u001b[K     |███████████████████████████████▋| 1.5MB 3.1MB/s eta 0:00:01\r\u001b[K     |███████████████████████████████▉| 1.5MB 3.1MB/s eta 0:00:01\r\u001b[K     |████████████████████████████████| 1.5MB 3.1MB/s \n",
            "\u001b[?25hRequirement already satisfied: numpy in /usr/local/lib/python3.6/dist-packages (from mahotas) (1.17.4)\n",
            "Building wheels for collected packages: mahotas\n",
            "  Building wheel for mahotas (setup.py) ... \u001b[?25l\u001b[?25hdone\n",
            "  Created wheel for mahotas: filename=mahotas-1.4.9-cp36-cp36m-linux_x86_64.whl size=4264015 sha256=fcac9080c3007c64f674750b8cdbcc0f5f23449dae7e85f5edc2cef78d9f1965\n",
            "  Stored in directory: /root/.cache/pip/wheels/02/e7/50/b67eee3b19c479cc5b41f10230bf9c1556be6eaaf095c6e997\n",
            "Successfully built mahotas\n",
            "Installing collected packages: mahotas\n",
            "Successfully installed mahotas-1.4.9\n",
            "Requirement already satisfied: progressbar2 in /usr/local/lib/python3.6/dist-packages (3.38.0)\n",
            "Requirement already satisfied: six in /usr/local/lib/python3.6/dist-packages (from progressbar2) (1.12.0)\n",
            "Requirement already satisfied: python-utils>=2.3.0 in /usr/local/lib/python3.6/dist-packages (from progressbar2) (2.3.0)\n"
          ],
          "name": "stdout"
        }
      ]
    },
    {
      "cell_type": "code",
      "metadata": {
        "id": "JlJnlfnH8hzQ",
        "colab_type": "code",
        "colab": {}
      },
      "source": [
        "#Aqui se importan las librerias necesarias para correr el codigo.\n",
        "#Antes de correr esta celda se deben ejecutar la anterior para instalar las librerias que hacen falta.\n",
        "import os\n",
        "import numpy as np\n",
        "import nibabel as nib\n",
        "import csv\n",
        "import mahotas as mh\n",
        "import progressbar\n",
        "\n",
        "%tensorflow_version 1.x\n",
        "import tensorflow as tf\n",
        "import time\n",
        "import scipy.stats as st"
      ],
      "execution_count": 0,
      "outputs": []
    },
    {
      "cell_type": "markdown",
      "metadata": {
        "id": "lNvLKz3klBUd",
        "colab_type": "text"
      },
      "source": [
        "Primero era necesario realizar la lectura de los datos requeridos, a partir del archivo original. Dicho archivo se encuentra en formato BIDS. Este formato es una manera de organizar los datos correspondientes a imágenes neurológicas. En el siguiente link se puede encontrar una descripción detallada del formato: https://bids.neuroimaging.io/.\n",
        "\n",
        "Cada archivo de imágenes cuenta también con otro archivo de etiquetas. Este indica el intervalo de tiempo en el cual la persona estaba pensando en un objeto, lugar o persona. Esta información se utilizó para asignar las etiquetas correctas correspondientes a cada grupo de 30 imágenes. Así, la siguiente celda permite obtener un arreglo de NumPy que describe las imágenes de resonancia magnética y otro arreglo que indica la etiqueta con la siguiente regla:\n",
        "\n",
        "\n",
        "*   objeto -> 0\n",
        "*   lugar -> 1\n",
        "*   cara -> 2\n",
        "\n"
      ]
    },
    {
      "cell_type": "code",
      "metadata": {
        "id": "z3EfMD2h-Jjn",
        "colab_type": "code",
        "colab": {}
      },
      "source": [
        "#Es la ruta del archivo raiz de los datos preprocesados.\n",
        "pathArchivoDatosPreprocesados = \"drive/My Drive\"\n",
        "\n",
        "#Estas 2 variables se utilizan para recorrer cada carpeta de los datos.\n",
        "sub = [0, 0]\n",
        "run = 1\n",
        "\n",
        "#Es el numero de secciones de 2 segundos que se tienen en cuenta  \n",
        "numImg = 5\n",
        "\n",
        "#Es la seccion inicial desde la cual se toman los datos de imagenes.\n",
        "offsetImg = 3\n",
        "\n",
        "#Funcion que retorna el nombre del archivo que contiene las imagenes de resonancia magnetica.\n",
        "#pSub: Indica la persona a la cual se le tomaron las imagenes.\n",
        "#pRun: Indica el run para una persona. Cada run incluye 180 muestras de imagenes.\n",
        "def darNombreArchivoImagenes(pSub, pRun):\n",
        "  return pathArchivoDatosPreprocesados + \"/ds001497-download/sub-\"+str(pSub[0])+str(pSub[1])+\"/func/sub-\" + str(pSub[0]) + str(pSub[1]) + \"_task-LTM_run-\" + str(pRun) + \"_bold.nii.gz\"\n",
        "\n",
        "#Funcion que retorna el nombre del archivo que contiene las etiquetas correspondientes a las imagenes de resonancia magnetica.\n",
        "#pSub: Indica la persona a la cual se le tomaron las imagenes.\n",
        "#pRun: Indica el run para una persona. Cada run incluye 180 muestras de imagenes.\n",
        "def darNombreArchivoEtiquetas(pSub, pRun):\n",
        "  return pathArchivoDatosPreprocesados + \"/ds001497-download/sub-\"+str(pSub[0])+str(pSub[1])+\"/func/sub-\" + str(pSub[0]) + str(pSub[1]) + \"_task-LTM_run-\" + str(pRun) + \"_events.tsv\"\n",
        "\n",
        "def darNombreArchivoImagenesPreprocesadas(pSub, pRun):\n",
        "  return pathArchivoDatosPreprocesados + \"/ds001497-download/sub-\"+str(pSub[0])+str(pSub[1])+\"/func/sub-\" + str(pSub[0]) + str(pSub[1]) + \"_task-LTM_run-\" + str(pRun) + \"_analyze.feat/filtered_func_data.nii.gz\"\n",
        "\n",
        "#Funcion que obtiene el conjunto de 30 imagenes de 64x64 utilizados para el proyecto.\n",
        "def obtenerImagenes(pImagenes):\n",
        "\n",
        "  imagenes = np.zeros((64,64,30,15*numImg))\n",
        "\n",
        "  for indice in range(0,15):\n",
        "\n",
        "    for i in range(0,numImg):\n",
        "      imagenes[:,:,:,indice*numImg + i] = pImagenes[:,:,:,indice*13 + i + offsetImg]\n",
        "\n",
        "  return imagenes\n",
        "\n",
        "#Funcion que obtiene las etiquetas y las convierte a su correspondiente numero entero de acuerdo con la siguiente regla:\n",
        "#objeto -> 0\n",
        "#lugar -> 1\n",
        "#cara -> 2\n",
        "def leerEtiquetas(pArchivoEtiquetas):\n",
        "  etiquetas = []\n",
        "\n",
        "  with open(pArchivoEtiquetas) as tsvfile:\n",
        "    reader = csv.DictReader(tsvfile, dialect='excel-tab')\n",
        "    for row in reader:\n",
        "      \n",
        "      etiqueta = row['trial_type']\n",
        "\n",
        "      if(etiqueta == 'object'):\n",
        "\n",
        "        et = 0\n",
        "      elif(etiqueta == 'place'):\n",
        "\n",
        "        et = 1\n",
        "      elif(etiqueta == 'face'):\n",
        "\n",
        "        et = 2\n",
        "      else:\n",
        "        print(\"Error en el formato. Existe una clase distinta a object, place o face\")\n",
        "\n",
        "      for i in range(0,numImg):\n",
        "        etiquetas.append(et)\n",
        "\n",
        "  return etiquetas\n",
        "\n",
        "#Funcion que genera una matriz de NumPy con los datos leidos de los archivos.\n",
        "def importarDatos():\n",
        "  datosPreprocesados = np.zeros((900*numImg,64,64,30))\n",
        "  etiquetasPreprocesados = np.zeros(900*numImg)\n",
        "\n",
        "  contador = 0\n",
        "  p = 0\n",
        "\n",
        "  sub[0] = 0\n",
        "\n",
        "  with progressbar.ProgressBar(max_value = 900*numImg) as bar:\n",
        "    for s1 in range(1,11):#(1,11)\n",
        "\n",
        "      if(s1 == 10):\n",
        "        sub[0] = 1\n",
        "        sub[1] = 0\n",
        "      else:\n",
        "        sub[1] = s1\n",
        "\n",
        "      for run in range(1,7):#(1,7)\n",
        "        archivoImagenes = darNombreArchivoImagenes(sub, run)\n",
        "        archivoEtiquetas = darNombreArchivoEtiquetas(sub, run)\n",
        "\n",
        "        imagenes = nib.load(archivoImagenes).get_fdata()\n",
        "        etiquetas = leerEtiquetas(archivoEtiquetas)\n",
        "\n",
        "        muestras = obtenerImagenes(imagenes)\n",
        "\n",
        "        for indice in range(0,15*numImg):\n",
        "            datosPreprocesados[15*numImg*contador+indice,:,:,:] = muestras[:,:,:,indice]\n",
        "            etiquetasPreprocesados[15*numImg*contador+indice] = etiquetas[indice]\n",
        "\n",
        "            p+=1\n",
        "            bar.update(p)\n",
        "\n",
        "        contador+=1\n",
        "\n",
        "  return datosPreprocesados, etiquetasPreprocesados.astype(int)\n",
        "\n",
        "def importarDatosPreprocesados():\n",
        "  datosPreprocesados = np.zeros((900*numImg - 15*numImg,64,64,30))\n",
        "  etiquetasPreprocesados = np.zeros(900*numImg - 15*numImg)\n",
        "\n",
        "  contador = 0\n",
        "  p = 0\n",
        "\n",
        "  sub[0] = 0\n",
        "\n",
        "  with progressbar.ProgressBar(max_value = 900*numImg - 15*numImg) as bar:\n",
        "    for s1 in range(1,11):#(1,11)\n",
        "\n",
        "      if(s1 == 10):\n",
        "        sub[0] = 1\n",
        "        sub[1] = 0\n",
        "      else:\n",
        "        sub[1] = s1\n",
        "\n",
        "      for run in range(1,7):#(1,7)\n",
        "\n",
        "        if not (s1 == 8 and run == 1):\n",
        "          \n",
        "          archivoImagenes = darNombreArchivoImagenesPreprocesadas(sub, run)\n",
        "          archivoEtiquetas = darNombreArchivoEtiquetas(sub, run)\n",
        "\n",
        "          imagenes = nib.load(archivoImagenes).get_fdata()\n",
        "          etiquetas = leerEtiquetas(archivoEtiquetas)\n",
        "\n",
        "          muestras = obtenerImagenes(imagenes)\n",
        "\n",
        "          for indice in range(0,15*numImg):\n",
        "\n",
        "              datosPreprocesados[15*numImg*contador+indice,:,:,:] = muestras[:,:,:,indice]\n",
        "              etiquetasPreprocesados[15*numImg*contador+indice] = etiquetas[indice]\n",
        "\n",
        "              p+=1\n",
        "              bar.update(p)\n",
        "\n",
        "          contador+=1\n",
        "\n",
        "  return datosPreprocesados, etiquetasPreprocesados.astype(int)"
      ],
      "execution_count": 0,
      "outputs": []
    },
    {
      "cell_type": "code",
      "metadata": {
        "id": "J4-duenQTB7E",
        "colab_type": "code",
        "outputId": "c2ee6754-92e2-4e04-e478-9c01dbd41add",
        "colab": {
          "base_uri": "https://localhost:8080/",
          "height": 36
        }
      },
      "source": [
        "#En esta linea de codigo se importan los datos y se almacenan en las variables datosPreprocesados (correspondiente a las imagenes) y en etiquetasPreprocesadas (las etiquetas).\n",
        "datosPreprocesados, etiquetasPreprocesados = importarDatosPreprocesados()\n",
        "\n",
        "np.save(\"drive/My Drive/DatosProyecto/preprocessed/Datos_3_7\", datosPreprocesados)\n",
        "np.save(\"drive/My Drive/DatosProyecto/preprocessed/Etiquetas_3_7\", etiquetasPreprocesados)"
      ],
      "execution_count": 6,
      "outputs": [
        {
          "output_type": "stream",
          "text": [
            "100% (4425 of 4425) |####################| Elapsed Time: 0:02:01 Time:  0:02:01\n"
          ],
          "name": "stderr"
        }
      ]
    },
    {
      "cell_type": "markdown",
      "metadata": {
        "id": "VIecqpwymx4e",
        "colab_type": "text"
      },
      "source": [
        "Con la lectura de los datos terminada, el siguiente paso es calcular los descriptores. Se escogieron 17 descriptores. Los primeros 4 (llamados de primer orden) se obtienen a partir de las imágenes, mientras que los segundos 13 (denominados de segundo orden) requieren primero la construcción de la matriz de concurrencia. Los descriptores de primer orden se obtuvieron con las librerías de NumPy y de scikit-learn y aquellos de segundo orden fueron calculados con la librería de mahotas. Además, para los de segundo orden también se ignoraron los valores de 0, ya que estos no contienen ninguna información, ya que son el fondo negro en las imágenes que no corresponde a ningún tejido cerebral. Finalmente, estos descriptores fueron almecenados en un archivo de texto para ser cargados desde el archivo de entrenamiento de modelos. \n",
        "\n",
        "La lista de descriptores es la siguiente:\n",
        "\n",
        "Primer Orden: \n",
        "\n",
        "*   Media\n",
        "*   Varianza\n",
        "*   Kurtosis\n",
        "*   Skewness\n",
        "\n",
        "Segundo Orden: \n",
        "\n",
        "PONER ESTAS\n",
        "*   Media\n",
        "*   Varianza\n",
        "*   Kurtosis\n",
        "*   Skewness\n",
        "*   Media\n",
        "*   Varianza\n",
        "*   Kurtosis\n",
        "*   Skewness\n",
        "*   Media\n",
        "*   Varianza\n",
        "*   Kurtosis\n",
        "*   Skewness\n",
        "*   Skewness\n",
        "\n",
        "\n"
      ]
    },
    {
      "cell_type": "code",
      "metadata": {
        "id": "A4oSi4itJOCB",
        "colab_type": "code",
        "colab": {}
      },
      "source": [
        "#Calcula los descriptores de primer orden. Estos se refieren a los que se sacan a partir del histograma, la media, la varianza, etc.\n",
        "def calcularDescriptoresPrimerOrden(pImagenes):\n",
        "\n",
        "  mean = np.mean(pImagenes, axis = None)\n",
        "  var = np.var(pImagenes, axis = None)\n",
        "  kur = st.kurtosis(pImagenes, axis = None)\n",
        "  ske = st.skew(pImagenes, axis = None)\n",
        "\n",
        "  descriptores = np.append([mean, var],[kur, ske])\n",
        "\n",
        "  return descriptores\n",
        "\n",
        "#Calcula los descriptores a partir de un grupo de imagenes de fMRI.\n",
        "def calcularDescriptores(pImagenes):\n",
        "  #Faltan los descriptores del histograma\n",
        "  descPrimer = calcularDescriptoresPrimerOrden(pImagenes)\n",
        "  descSegundo = mh.features.haralick(pImagenes, ignore_zeros=True, preserve_haralick_bug=False, compute_14th_feature=False, return_mean=True, return_mean_ptp=False, use_x_minus_y_variance=False, distance=1)\n",
        "\n",
        "  descriptores = np.append(descPrimer,descSegundo)\n",
        "\n",
        "  return descriptores\n",
        "\n",
        "#Funcion que retorna el texto de la descripcion del archivo de descriptores.\n",
        "def darTextoIntroduccion(pEscala):\n",
        "  texto = \"Este archivo incluye los descriptores calculados a partir de los datos preprocesados. \\nLos datos brutos fueron obtenidos del \\\n",
        "dataset de imágenes de resonancia magnética funcional que se puede encontrar en https://openneuro.org/datasets/ds001497/versions/1.0.1.\\n\\\n",
        "A estos datos se les realizó un preprocesamiento utilizando fmriprep (ESTO TOCA VER SI SI SIRVE AL FIN) y finalmente se calcularon los \\\n",
        "descriptores con una escala de grises de \" + str(pEscala) + \".\\nEstos descriptores son (EL NUMERO QUE SEA) e incluyen:\\nEnergía, etc.... (AGREGAR LOS QUE FALTAN Y ORDENARLOS CORRECTAMENTE).\\n\\\n",
        "Finalmente, cada muestra incluye a la clase a la cual pertenece. Existen 3 clases y se indican con un número de 0 a 2 que corresponden a:\\n\\\n",
        "objeto -> 0\\n\\\n",
        "lugar -> 1\\n\\\n",
        "rostro -> 2\\n\\\n",
        "media;varianza;kurtosis;skewness;....;clase\"#AGREGAR LAS QUE FALTAN\n",
        "\n",
        "  return texto\n",
        "\n",
        "#Funcion que retorna un string con los descriptores y clases separados por ;.\n",
        "#Esta cadena sera utilizada para generar el archivo de texto con los descriptores calculados y su etiqueta.\n",
        "def darLinea(pDescriptores, pEtiqueta):\n",
        "  separador = \";\"\n",
        "  muestra = []\n",
        "  return separador.join(pDescriptores.astype(str)) + separador + str(pEtiqueta)\n",
        "\n",
        "\n",
        "#Funcion que se utiliza para eliminar los valores negativos en los datos, ya que se requiere que estos sean positivos y enteros.\n",
        "def eliminarValoresNegativos(pDatos):\n",
        "\n",
        "  datosNegativosEliminados = pDatos\n",
        "  datosNegativosEliminados[datosNegativosEliminados < 0] = 0\n",
        "\n",
        "  return np.round(datosNegativosEliminados, decimals = 0)\n",
        "\n",
        "#Funcion que genera el archivo de texto con los datos de los descriptores y su correspondiente etiqueta.\n",
        "#Este archivo recibe el nombre de datosDescriptores.txt e incluye los descriptores y sus etiquetas separadas por ;\n",
        "#y una descripcion del archivo.\n",
        "def crearArchivoDescriptores(pDatos):\n",
        "  archivo = open(\"datosDescriptoresPreprocesadosV1_3_7.txt\", \"w+\")\n",
        "  datos = eliminarValoresNegativos(pDatos)\n",
        "\n",
        "  intro = darTextoIntroduccion(escala)\n",
        "  archivo.write(intro)\n",
        "  archivo.write(\"\\n\")\n",
        "\n",
        "  start = time.time()\n",
        "\n",
        "  #Esto deberia iterar hasta 1800, pero por ahora menos.\n",
        "  for i in progressbar.progressbar(range(0,datos.shape[0])):#900*numImg)):\n",
        "    imagenes = datos[i,:,:,:]\n",
        "    imagenes = escala*(imagenes/imagenes.max())\n",
        "    imagenes = imagenes.astype(int)\n",
        "\n",
        "    descriptores = calcularDescriptores(imagenes)\n",
        "    linea = darLinea(descriptores, etiquetasPreprocesados[i])\n",
        "    archivo.write(linea)\n",
        "    archivo.write(\"\\n\")\n",
        "    \n",
        "  print(\"Archivo generado exitosamente.\")\n",
        "  print(\"Tiempo: {} segundos\".format(time.time()-start))\n",
        "\n",
        "  archivo.close()\n"
      ],
      "execution_count": 0,
      "outputs": []
    },
    {
      "cell_type": "code",
      "metadata": {
        "id": "WPzTB7hiFE7G",
        "colab_type": "code",
        "outputId": "01b7e0fa-0753-4822-ec61-a9c9f91aaf44",
        "colab": {
          "base_uri": "https://localhost:8080/",
          "height": 74
        }
      },
      "source": [
        "escala = 2**9\n",
        "crearArchivoDescriptores(datosPreprocesados)"
      ],
      "execution_count": 9,
      "outputs": [
        {
          "output_type": "stream",
          "text": [
            "100% (4425 of 4425) |####################| Elapsed Time: 0:30:53 Time:  0:30:53\n"
          ],
          "name": "stderr"
        },
        {
          "output_type": "stream",
          "text": [
            "Archivo generado exitosamente.\n",
            "Tiempo: 1853.4879775047302 segundos\n"
          ],
          "name": "stdout"
        }
      ]
    },
    {
      "cell_type": "code",
      "metadata": {
        "id": "5RmOBirJha-P",
        "colab_type": "code",
        "colab": {}
      },
      "source": [
        "test = eliminarValoresNegativos(datosPreprocesados)"
      ],
      "execution_count": 0,
      "outputs": []
    },
    {
      "cell_type": "code",
      "metadata": {
        "id": "FFT0BO9vqcdD",
        "colab_type": "code",
        "colab": {}
      },
      "source": [
        ""
      ],
      "execution_count": 0,
      "outputs": []
    }
  ]
}