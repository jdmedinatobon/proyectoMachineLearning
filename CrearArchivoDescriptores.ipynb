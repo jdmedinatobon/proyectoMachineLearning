{
  "nbformat": 4,
  "nbformat_minor": 0,
  "metadata": {
    "colab": {
      "name": "CrearArchivoDescriptores.ipynb",
      "provenance": [],
      "machine_shape": "hm",
      "include_colab_link": true
    },
    "kernelspec": {
      "name": "python3",
      "display_name": "Python 3"
    },
    "accelerator": "GPU"
  },
  "cells": [
    {
      "cell_type": "markdown",
      "metadata": {
        "id": "view-in-github",
        "colab_type": "text"
      },
      "source": [
        "<a href=\"https://colab.research.google.com/github/jdmedinatobon/proyectoMachineLearning/blob/master/CrearArchivoDescriptores.ipynb\" target=\"_parent\"><img src=\"https://colab.research.google.com/assets/colab-badge.svg\" alt=\"Open In Colab\"/></a>"
      ]
    },
    {
      "cell_type": "code",
      "metadata": {
        "id": "YFrqP4m8CNBB",
        "colab_type": "code",
        "colab": {
          "base_uri": "https://localhost:8080/",
          "height": 51
        },
        "outputId": "524a6959-e262-4bd9-b3f0-95f8a95eca61"
      },
      "source": [
        "!pip install mahotas"
      ],
      "execution_count": 1,
      "outputs": [
        {
          "output_type": "stream",
          "text": [
            "Requirement already satisfied: mahotas in /usr/local/lib/python3.6/dist-packages (1.4.8)\n",
            "Requirement already satisfied: numpy in /usr/local/lib/python3.6/dist-packages (from mahotas) (1.17.3)\n"
          ],
          "name": "stdout"
        }
      ]
    },
    {
      "cell_type": "code",
      "metadata": {
        "id": "JlJnlfnH8hzQ",
        "colab_type": "code",
        "colab": {
          "base_uri": "https://localhost:8080/",
          "height": 63
        },
        "outputId": "065196e3-37dd-413f-c622-e8c547dbf9b8"
      },
      "source": [
        "import os\n",
        "import numpy as np\n",
        "import nibabel as nib\n",
        "from zipfile import ZipFile\n",
        "import csv\n",
        "import mahotas as mh\n",
        "import tensorflow as tf\n",
        "import time"
      ],
      "execution_count": 1,
      "outputs": [
        {
          "output_type": "display_data",
          "data": {
            "text/html": [
              "<p style=\"color: red;\">\n",
              "The default version of TensorFlow in Colab will soon switch to TensorFlow 2.x.<br>\n",
              "We recommend you <a href=\"https://www.tensorflow.org/guide/migrate\" target=\"_blank\">upgrade</a> now \n",
              "or ensure your notebook will continue to use TensorFlow 1.x via the <code>%tensorflow_version 1.x</code> magic:\n",
              "<a href=\"https://colab.research.google.com/notebooks/tensorflow_version.ipynb\" target=\"_blank\">more info</a>.</p>\n"
            ],
            "text/plain": [
              "<IPython.core.display.HTML object>"
            ]
          },
          "metadata": {
            "tags": []
          }
        }
      ]
    },
    {
      "cell_type": "code",
      "metadata": {
        "id": "Gx0o5JjLNgue",
        "colab_type": "code",
        "colab": {
          "base_uri": "https://localhost:8080/",
          "height": 119
        },
        "outputId": "816e390d-209d-4492-9f6e-774ef44a9d0b"
      },
      "source": [
        "#Se descomprime el archivo con los datos preprocesados\n",
        "!unzip PruebaDatos.zip #En verdad no es este archivo.\n",
        "device_name = tf.test.gpu_device_name()\n",
        "if device_name != '/device:GPU:0':\n",
        "  raise SystemError('GPU device not found')\n",
        "print('Found GPU at: {}'.format(device_name))"
      ],
      "execution_count": 6,
      "outputs": [
        {
          "output_type": "stream",
          "text": [
            "Archive:  PruebaDatos.zip\n",
            "   creating: PruebaDatos/\n",
            "   creating: PruebaDatos/func/\n",
            " extracting: PruebaDatos/func/sub-01_task-LTM_run-1_bold.nii.gz  \n",
            "  inflating: PruebaDatos/func/sub-01_task-LTM_run-1_events.tsv  \n",
            "Found GPU at: /device:GPU:0\n"
          ],
          "name": "stdout"
        }
      ]
    },
    {
      "cell_type": "code",
      "metadata": {
        "id": "z3EfMD2h-Jjn",
        "colab_type": "code",
        "colab": {}
      },
      "source": [
        "pathArchivoDatosPreprocesados = \"PruebaDatos\" #Ruta del archivo raiz de los datos preprocesados\n",
        "\n",
        "sub = [0, 0]\n",
        "run = 1\n",
        "\n",
        "def darNombreArchivoImagenes(pSub, pRun):\n",
        "  return \"PruebaDatos/func/sub-\" + str(pSub[0]) + str(pSub[1]) + \"_task-LTM_run-\" + str(pRun) + \"_bold.nii.gz\"\n",
        "\n",
        "def darNombreArchivoEtiquetas(pSub, pRun):\n",
        "  return \"PruebaDatos/func/sub-\" + str(pSub[0]) + str(pSub[1]) + \"_task-LTM_run-\" + str(pRun) + \"_events.tsv\"\n",
        "\n",
        "def obtenerImagenes(pImagenes):\n",
        "  \n",
        "  imagenes = np.zeros((64,64,30,30))\n",
        "\n",
        "  for indice in range(0,15):\n",
        "    for i in range(0,64):\n",
        "      for j in range(0,64):\n",
        "          for k in range(0,30):\n",
        "              imagenes[i][j][k][2*indice] = pImagenes[i][j][k][1+indice*13]\n",
        "              imagenes[i][j][k][2*indice+1] = pImagenes[i][j][k][2+indice*13]\n",
        "\n",
        "  return imagenes\n",
        "\n",
        "#object -> 0\n",
        "#place -> 1\n",
        "#face -> 2\n",
        "def leerEtiquetas(pArchivoEtiquetas):\n",
        "  etiquetas = []\n",
        "\n",
        "  with open(pArchivoEtiquetas) as tsvfile:\n",
        "    reader = csv.DictReader(tsvfile, dialect='excel-tab')\n",
        "    for row in reader:\n",
        "      \n",
        "      etiqueta = row['trial_type']\n",
        "\n",
        "      if(etiqueta == 'object'):\n",
        "\n",
        "        etiquetas.append(0)\n",
        "        etiquetas.append(0)\n",
        "      elif(etiqueta == 'place'):\n",
        "\n",
        "        etiquetas.append(1)\n",
        "        etiquetas.append(1)\n",
        "      elif(etiqueta == 'face'):\n",
        "\n",
        "        etiquetas.append(2)\n",
        "        etiquetas.append(2)\n",
        "      else:\n",
        "        print(\"Error en el formato.\")\n",
        "\n",
        "\n",
        "  return etiquetas\n",
        "\n",
        "def importarDatos():\n",
        "  datosPreprocesados = np.zeros((64,64,30,1800))\n",
        "  etiquetasPreprocesados = np.zeros(1800)\n",
        "\n",
        "  contador = 0\n",
        "  for s1 in range(1,2):#(1,11)\n",
        "\n",
        "    if(s1 == 10):\n",
        "      sub[0] = 1\n",
        "      sub[1] = 0\n",
        "    else:\n",
        "      sub[1] = s1\n",
        "\n",
        "      for r in range(1,2):#(1,7)\n",
        "        run = r\n",
        "        archivoImagenes = darNombreArchivoImagenes(sub, run)\n",
        "        archivoEtiquetas = darNombreArchivoEtiquetas(sub, run)\n",
        "\n",
        "        imagenes = nib.load(archivoImagenes).get_fdata()\n",
        "        etiquetas = leerEtiquetas(archivoEtiquetas)\n",
        "\n",
        "        muestras = obtenerImagenes(imagenes)\n",
        "\n",
        "        for indice in range(0,30):\n",
        "          for i in range(0,64):\n",
        "            for j in range(0,64):\n",
        "                for k in range(0,30):\n",
        "                  datosPreprocesados[i][j][k][30*contador+indice] = muestras[i][j][k][indice]\n",
        "                  etiquetasPreprocesados[30*contador+indice] = etiquetas[indice]\n",
        "\n",
        "        contador+=1\n",
        "\n",
        "    return datosPreprocesados, etiquetasPreprocesados"
      ],
      "execution_count": 0,
      "outputs": []
    },
    {
      "cell_type": "code",
      "metadata": {
        "id": "J4-duenQTB7E",
        "colab_type": "code",
        "colab": {
          "base_uri": "https://localhost:8080/",
          "height": 34
        },
        "outputId": "2a3bb0a3-c9b6-49d3-a9a0-b7ec81da0171"
      },
      "source": [
        "print(\"Importando datos...\")\n",
        "test, testet=importarDatos()"
      ],
      "execution_count": 3,
      "outputs": [
        {
          "output_type": "stream",
          "text": [
            "Importando datos...\n"
          ],
          "name": "stdout"
        }
      ]
    },
    {
      "cell_type": "code",
      "metadata": {
        "id": "A4oSi4itJOCB",
        "colab_type": "code",
        "colab": {
          "base_uri": "https://localhost:8080/",
          "height": 34
        },
        "outputId": "3adcbf7a-a0d3-4295-ae56-87571bc88ca2"
      },
      "source": [
        "escala = 256\n",
        "\n",
        "test2 = test[:,:,:,1]\n",
        "test2 = (test2/test2.max())*escala\n",
        "test2 = test2.astype(int)\n",
        "#test2 = test2-1\n",
        "\n",
        "start = time.time()\n",
        "print(\"Calculando descriptores...\")\n",
        "descriptor = mh.features.haralick(test2, ignore_zeros=True, preserve_haralick_bug=False, compute_14th_feature=False, return_mean=True, return_mean_ptp=False, use_x_minus_y_variance=False, distance=1)\n",
        "\n",
        "print(descriptor)\n",
        "print(\"Tiempo: {}\".format(time.time()-start))"
      ],
      "execution_count": 0,
      "outputs": [
        {
          "output_type": "stream",
          "text": [
            "Calculando descriptores...\n"
          ],
          "name": "stdout"
        }
      ]
    },
    {
      "cell_type": "code",
      "metadata": {
        "id": "UMNsEEKDHIkd",
        "colab_type": "code",
        "colab": {
          "base_uri": "https://localhost:8080/",
          "height": 68
        },
        "outputId": "323627cf-e858-4056-8a3a-0dda44a63d0f"
      },
      "source": [
        "Calculando descriptores...\n",
        "[ 3.85918826e-02  4.90384291e+01  6.13790632e-01  6.38849266e+01\n",
        "  4.35716991e-01  8.70680740e+00  2.06501277e+02  4.08582836e+00\n",
        "  6.04907255e+00  7.63875133e-04  2.85176985e+00 -1.23717111e-01\n",
        "  7.39392946e-01]\n",
        "Tiempo: 0.08932089805603027"
      ],
      "execution_count": 6,
      "outputs": [
        {
          "output_type": "execute_result",
          "data": {
            "text/plain": [
              "array([[116, 129,  89],\n",
              "       [ 53, 135, 114],\n",
              "       [ 42, 105, 134]])"
            ]
          },
          "metadata": {
            "tags": []
          },
          "execution_count": 6
        }
      ]
    },
    {
      "cell_type": "code",
      "metadata": {
        "id": "AbdA_sD8IgXE",
        "colab_type": "code",
        "colab": {
          "base_uri": "https://localhost:8080/",
          "height": 34
        },
        "outputId": "1c9dbd11-a5c2-4f45-809d-7718e7d66025"
      },
      "source": [
        "test.shape"
      ],
      "execution_count": 12,
      "outputs": [
        {
          "output_type": "execute_result",
          "data": {
            "text/plain": [
              "(64, 64, 30, 1800)"
            ]
          },
          "metadata": {
            "tags": []
          },
          "execution_count": 12
        }
      ]
    },
    {
      "cell_type": "code",
      "metadata": {
        "id": "-Y7AqyhiJMCD",
        "colab_type": "code",
        "colab": {
          "base_uri": "https://localhost:8080/",
          "height": 34
        },
        "outputId": "b7457465-7198-4341-d14b-3d0b75a33a2b"
      },
      "source": [
        "2**12"
      ],
      "execution_count": 7,
      "outputs": [
        {
          "output_type": "execute_result",
          "data": {
            "text/plain": [
              "4096"
            ]
          },
          "metadata": {
            "tags": []
          },
          "execution_count": 7
        }
      ]
    },
    {
      "cell_type": "code",
      "metadata": {
        "id": "1QgigEQeNvln",
        "colab_type": "code",
        "colab": {
          "base_uri": "https://localhost:8080/",
          "height": 34
        },
        "outputId": "66f15dfb-98f1-4deb-fa57-d25c4f4669b6"
      },
      "source": [
        "test2 = (test2/test2.max())*256"
      ],
      "execution_count": 7,
      "outputs": [
        {
          "output_type": "execute_result",
          "data": {
            "text/plain": [
              "17127"
            ]
          },
          "metadata": {
            "tags": []
          },
          "execution_count": 7
        }
      ]
    },
    {
      "cell_type": "code",
      "metadata": {
        "id": "J_40pqEpN7pd",
        "colab_type": "code",
        "colab": {
          "base_uri": "https://localhost:8080/",
          "height": 697
        },
        "outputId": "409463f6-6c20-4220-95c5-006fbdb50c22"
      },
      "source": [
        "print(test2[:,:,12])"
      ],
      "execution_count": 16,
      "outputs": [
        {
          "output_type": "stream",
          "text": [
            "[[  111    57   212   171   188    59   110   177   234    75    34   116\n",
            "     60   284   204   189   262   189   176   161]\n",
            " [   55   121   127    18   143    93    27   147   121    44   278    96\n",
            "    204   257   164   197   126   241   118   343]\n",
            " [  172   132   118    99   102    92    19   172   185   247    88    59\n",
            "    120   254   158   134   207   291   149   189]\n",
            " [  163    80   106    74   226   314   192    92   189   152   118    85\n",
            "      2   242   186   156    61    78    63   292]\n",
            " [  164    67   169   206   150    75    68   116   230   133    16   188\n",
            "    204   342   123   182   292   173    35   208]\n",
            " [  178   219    86   127   160    51   180    62    70   180   143    87\n",
            "     42   228   297   241    71   130   162   270]\n",
            " [  104    34   135    78   173   126   184   113    32   122    40   113\n",
            "     81   283   120   151   165   214   128   216]\n",
            " [  215   150   172    91   116   159    52   206   249   315   118    88\n",
            "    131   218    31   191   120   469   371   311]\n",
            " [  233   231   144   100   157   104    95    86   143   248    64   269\n",
            "    159   146   202   289    84   381   125   286]\n",
            " [  320   475   203   100   163    89   242   215   314   362   307   196\n",
            "    102   183   273   299    58   348   224   334]\n",
            " [  281   360   352   249   152   204   412   379   471   557   591   241\n",
            "    270   238   114   360    89   405   313   524]\n",
            " [  347   284   612   407   353   423   623   796   624   223   239   280\n",
            "    293   604    97   466   155   476   463   337]\n",
            " [  429   164   408   454   570   586   666   349   186   285   184   308\n",
            "    311   621   512   436   285   583   578   552]\n",
            " [ 1135   509   269   357   654   757   792   495   634   464   233   565\n",
            "    606   996   476   629   253   487   515   255]\n",
            " [ 1123   828   457   362   618   703   731   571   663   596   210   687\n",
            "   1250  1198   912   597   504   589   530   439]\n",
            " [  745   493   123   386   279   778   310   506    73   415   135   478\n",
            "   1158   772   677   128   370   319   934   793]\n",
            " [   87   471   231   468   190   456   138   403   220   235   381   183\n",
            "    970   223   273   734    86   574  1409  2185]\n",
            " [  372   448   282   318   388   201   481   329   506   234   476   293\n",
            "    115   294   455   913   453  1429  3094  1683]\n",
            " [  136   212   246    36   172   515   227   163    85   313   262   539\n",
            "    174   772   575  1685  1226   347  1290  9022]\n",
            " [  384   414   236   278   419   123   325   231    77   296   148   459\n",
            "    624   899  1107  1823  2309  5576  9711 11283]]\n"
          ],
          "name": "stdout"
        }
      ]
    },
    {
      "cell_type": "code",
      "metadata": {
        "id": "cJtPc9RgOCjJ",
        "colab_type": "code",
        "colab": {
          "base_uri": "https://localhost:8080/",
          "height": 34
        },
        "outputId": "85ed71fb-e23b-4dad-ec1d-73c0473fee2f"
      },
      "source": [
        "65000*65000"
      ],
      "execution_count": 13,
      "outputs": [
        {
          "output_type": "execute_result",
          "data": {
            "text/plain": [
              "4225000000"
            ]
          },
          "metadata": {
            "tags": []
          },
          "execution_count": 13
        }
      ]
    },
    {
      "cell_type": "code",
      "metadata": {
        "id": "_3dM_GmYRx5w",
        "colab_type": "code",
        "colab": {
          "base_uri": "https://localhost:8080/",
          "height": 34
        },
        "outputId": "90aa13ac-76dd-4711-c3ad-243161cd8c00"
      },
      "source": [
        "4096*4096*4"
      ],
      "execution_count": 17,
      "outputs": [
        {
          "output_type": "execute_result",
          "data": {
            "text/plain": [
              "67108864"
            ]
          },
          "metadata": {
            "tags": []
          },
          "execution_count": 17
        }
      ]
    },
    {
      "cell_type": "code",
      "metadata": {
        "id": "hwOXXcaMR2AW",
        "colab_type": "code",
        "colab": {
          "base_uri": "https://localhost:8080/",
          "height": 34
        },
        "outputId": "c55bb21e-43ed-46f9-c023-a84b6c7c627c"
      },
      "source": [
        "4225000000/(16777216*4)"
      ],
      "execution_count": 19,
      "outputs": [
        {
          "output_type": "execute_result",
          "data": {
            "text/plain": [
              "62.95740604400635"
            ]
          },
          "metadata": {
            "tags": []
          },
          "execution_count": 19
        }
      ]
    },
    {
      "cell_type": "code",
      "metadata": {
        "id": "BJF9Gc2kR6PK",
        "colab_type": "code",
        "colab": {
          "base_uri": "https://localhost:8080/",
          "height": 34
        },
        "outputId": "aacb4628-ef5c-4187-a8ee-0d480a1c2a2d"
      },
      "source": [
        "1800/60"
      ],
      "execution_count": 20,
      "outputs": [
        {
          "output_type": "execute_result",
          "data": {
            "text/plain": [
              "30.0"
            ]
          },
          "metadata": {
            "tags": []
          },
          "execution_count": 20
        }
      ]
    },
    {
      "cell_type": "code",
      "metadata": {
        "id": "r9_ATU2nSggO",
        "colab_type": "code",
        "colab": {
          "base_uri": "https://localhost:8080/",
          "height": 34
        },
        "outputId": "16403c31-30f6-4482-b0db-53ded6e240d3"
      },
      "source": [
        "8192*2"
      ],
      "execution_count": 22,
      "outputs": [
        {
          "output_type": "execute_result",
          "data": {
            "text/plain": [
              "16384"
            ]
          },
          "metadata": {
            "tags": []
          },
          "execution_count": 22
        }
      ]
    },
    {
      "cell_type": "code",
      "metadata": {
        "id": "Q2J3maE0Sjxe",
        "colab_type": "code",
        "colab": {}
      },
      "source": [
        "test2 = (test2/test2.max())*8192"
      ],
      "execution_count": 0,
      "outputs": []
    },
    {
      "cell_type": "code",
      "metadata": {
        "id": "ktNmnSbFUKBq",
        "colab_type": "code",
        "colab": {
          "base_uri": "https://localhost:8080/",
          "height": 34
        },
        "outputId": "72274b4a-a2b7-4d34-e390-681ec54f6c95"
      },
      "source": [
        "test2 = test[:,:,:,:]\n",
        "test2.max()"
      ],
      "execution_count": 7,
      "outputs": [
        {
          "output_type": "execute_result",
          "data": {
            "text/plain": [
              "25586.0"
            ]
          },
          "metadata": {
            "tags": []
          },
          "execution_count": 7
        }
      ]
    },
    {
      "cell_type": "code",
      "metadata": {
        "id": "LwYklbMFUL6q",
        "colab_type": "code",
        "colab": {
          "base_uri": "https://localhost:8080/",
          "height": 34
        },
        "outputId": "a36c09b5-1e10-463f-d287-0704cc818bcc"
      },
      "source": [
        "2**16"
      ],
      "execution_count": 5,
      "outputs": [
        {
          "output_type": "execute_result",
          "data": {
            "text/plain": [
              "65536"
            ]
          },
          "metadata": {
            "tags": []
          },
          "execution_count": 5
        }
      ]
    },
    {
      "cell_type": "code",
      "metadata": {
        "id": "tAtBZVOjWRZY",
        "colab_type": "code",
        "colab": {
          "base_uri": "https://localhost:8080/",
          "height": 34
        },
        "outputId": "3087b349-6f20-40b4-a16d-393b2d26e901"
      },
      "source": [
        "2**14"
      ],
      "execution_count": 6,
      "outputs": [
        {
          "output_type": "execute_result",
          "data": {
            "text/plain": [
              "16384"
            ]
          },
          "metadata": {
            "tags": []
          },
          "execution_count": 6
        }
      ]
    },
    {
      "cell_type": "code",
      "metadata": {
        "id": "cdGI2E9ZWYum",
        "colab_type": "code",
        "colab": {}
      },
      "source": [
        ""
      ],
      "execution_count": 0,
      "outputs": []
    }
  ]
}