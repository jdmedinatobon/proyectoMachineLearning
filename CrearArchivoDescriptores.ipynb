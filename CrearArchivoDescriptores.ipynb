{
  "nbformat": 4,
  "nbformat_minor": 0,
  "metadata": {
    "colab": {
      "name": "CrearArchivoDescriptores.ipynb",
      "provenance": [],
      "collapsed_sections": [],
      "machine_shape": "hm",
      "include_colab_link": true
    },
    "kernelspec": {
      "name": "python3",
      "display_name": "Python 3"
    },
    "accelerator": "GPU"
  },
  "cells": [
    {
      "cell_type": "markdown",
      "metadata": {
        "id": "view-in-github",
        "colab_type": "text"
      },
      "source": [
        "<a href=\"https://colab.research.google.com/github/jdmedinatobon/proyectoMachineLearning/blob/master/CrearArchivoDescriptores.ipynb\" target=\"_parent\"><img src=\"https://colab.research.google.com/assets/colab-badge.svg\" alt=\"Open In Colab\"/></a>"
      ]
    },
    {
      "cell_type": "code",
      "metadata": {
        "id": "cezHByhvrNW3",
        "colab_type": "code",
        "colab": {}
      },
      "source": [
        "from google.colab import drive\n",
        "drive.mount('/content/drive')"
      ],
      "execution_count": 0,
      "outputs": []
    },
    {
      "cell_type": "code",
      "metadata": {
        "id": "oxAYg0Gy068k",
        "colab_type": "code",
        "colab": {}
      },
      "source": [
        "import zipfile\n",
        "\n",
        "datosZip = zipfile.ZipFile(\"/content/drive/My Drive/Datos.zip\", 'r')\n",
        "datosZip.extractall()\n",
        "datosZip.close()"
      ],
      "execution_count": 0,
      "outputs": []
    },
    {
      "cell_type": "code",
      "metadata": {
        "id": "YFrqP4m8CNBB",
        "colab_type": "code",
        "outputId": "9dfef398-6bd6-4f5b-fdab-32e348c238a6",
        "colab": {
          "base_uri": "https://localhost:8080/",
          "height": 234
        }
      },
      "source": [
        "#En esta celda se incluyen los comandos necesarios para instalar las librerias requeridas.\n",
        "#Esta solo se debe ejecutar cada vez que se inicia el Runtime.\n",
        "!pip install mahotas"
      ],
      "execution_count": 7,
      "outputs": [
        {
          "output_type": "stream",
          "text": [
            "Collecting mahotas\n",
            "\u001b[?25l  Downloading https://files.pythonhosted.org/packages/27/4b/72581c4316b2fb08cbcb3309d9f2eccd40f09f6af6117545e75f4015c505/mahotas-1.4.8.tar.gz (1.5MB)\n",
            "\u001b[K     |████████████████████████████████| 1.5MB 2.8MB/s \n",
            "\u001b[?25hRequirement already satisfied: numpy in /usr/local/lib/python3.6/dist-packages (from mahotas) (1.17.3)\n",
            "Building wheels for collected packages: mahotas\n",
            "  Building wheel for mahotas (setup.py) ... \u001b[?25l\u001b[?25hdone\n",
            "  Created wheel for mahotas: filename=mahotas-1.4.8-cp36-cp36m-linux_x86_64.whl size=4263908 sha256=d25f44c089524322407abb97d7d3bbc18110572b276ce969a0851beff2035438\n",
            "  Stored in directory: /root/.cache/pip/wheels/3e/8b/93/690deca49a46242df274db70dbef26c0a6fa86e378b677e1ab\n",
            "Successfully built mahotas\n",
            "Installing collected packages: mahotas\n",
            "Successfully installed mahotas-1.4.8\n"
          ],
          "name": "stdout"
        }
      ]
    },
    {
      "cell_type": "code",
      "metadata": {
        "id": "JlJnlfnH8hzQ",
        "colab_type": "code",
        "colab": {
          "base_uri": "https://localhost:8080/",
          "height": 35
        },
        "outputId": "cf917d37-891e-4352-e0d6-24ef91bdbb2d"
      },
      "source": [
        "#Aqui se importan las librerias necesarias para correr el codigo.\n",
        "#Antes de correr esta celda se deben ejecutar la anterior para instalar las librerias.\n",
        "import os\n",
        "import numpy as np\n",
        "import nibabel as nib\n",
        "import csv\n",
        "import mahotas as mh\n",
        "\n",
        "%tensorflow_version 2.x\n",
        "import tensorflow as tf\n",
        "import time\n",
        "import scipy.stats as st"
      ],
      "execution_count": 8,
      "outputs": [
        {
          "output_type": "stream",
          "text": [
            "TensorFlow 2.x selected.\n"
          ],
          "name": "stdout"
        }
      ]
    },
    {
      "cell_type": "code",
      "metadata": {
        "id": "Gx0o5JjLNgue",
        "colab_type": "code",
        "colab": {}
      },
      "source": [
        "#Indica si existe alguna GPU.\n",
        "#device_name = tf.test.gpu_device_name()\n",
        "#if device_name != '/device:GPU:0':\n",
        "#  raise SystemError('GPU device not found')\n",
        "#print('Found GPU at: {}'.format(device_name))"
      ],
      "execution_count": 0,
      "outputs": []
    },
    {
      "cell_type": "code",
      "metadata": {
        "id": "z3EfMD2h-Jjn",
        "colab_type": "code",
        "colab": {}
      },
      "source": [
        "#Es la ruta del archivo raiz de los datos preprocesados.\n",
        "pathArchivoDatosPreprocesados = \"Datos\"\n",
        "\n",
        "#Estas 2 variables se utilizan para recorrer cada carpeta de los datos.\n",
        "sub = [0, 0]\n",
        "run = 1\n",
        "\n",
        "#Funcion que retorna el nombre del archivo que contiene las imagenes de resonancia magnetica.\n",
        "#pSub: Indica la persona a la cual se le tomaron las imagenes.\n",
        "#pRun: Indica el run para una persona. Cada run incluye 180 muestras de imagenes.\n",
        "def darNombreArchivoImagenes(pSub, pRun):\n",
        "  return pathArchivoDatosPreprocesados + \"/ds001497-download/sub-\"+str(pSub[0])+str(pSub[1])+\"/func/sub-\" + str(pSub[0]) + str(pSub[1]) + \"_task-LTM_run-\" + str(pRun) + \"_bold.nii.gz\"\n",
        "\n",
        "#Funcion que retorna el nombre del archivo que contiene las etiquetas correspondientes a las imagenes de resonancia magnetica.\n",
        "#pSub: Indica la persona a la cual se le tomaron las imagenes.\n",
        "#pRun: Indica el run para una persona. Cada run incluye 180 muestras de imagenes.\n",
        "def darNombreArchivoEtiquetas(pSub, pRun):\n",
        "  return pathArchivoDatosPreprocesados + \"/ds001497-download/sub-\"+str(pSub[0])+str(pSub[1])+\"/func/sub-\" + str(pSub[0]) + str(pSub[1]) + \"_task-LTM_run-\" + str(pRun) + \"_events.tsv\"\n",
        "\n",
        "#Funcion que obtiene el conjunto de 30 imagenes de 64x64 utilizados para el proyecto.\n",
        "def obtenerImagenes(pImagenes):\n",
        "  \n",
        "  imagenes = np.zeros((64,64,30,30))\n",
        "\n",
        "  for indice in range(0,15):\n",
        "    imagenes[:,:,:,2*indice] = pImagenes[:,:,:,1+indice*13]\n",
        "    imagenes[:,:,:,2*indice+1] = pImagenes[:,:,:,2+indice*13]\n",
        "\n",
        "  return imagenes\n",
        "\n",
        "#Funcion que obtiene las etiquetas y las convierte a su correspondiente numero entero de acuerdo con la siguiente regla:\n",
        "#object -> 0\n",
        "#place -> 1\n",
        "#face -> 2\n",
        "def leerEtiquetas(pArchivoEtiquetas):\n",
        "  etiquetas = []\n",
        "\n",
        "  with open(pArchivoEtiquetas) as tsvfile:\n",
        "    reader = csv.DictReader(tsvfile, dialect='excel-tab')\n",
        "    for row in reader:\n",
        "      \n",
        "      etiqueta = row['trial_type']\n",
        "\n",
        "      if(etiqueta == 'object'):\n",
        "\n",
        "        etiquetas.append(0)\n",
        "        etiquetas.append(0)\n",
        "      elif(etiqueta == 'place'):\n",
        "\n",
        "        etiquetas.append(1)\n",
        "        etiquetas.append(1)\n",
        "      elif(etiqueta == 'face'):\n",
        "\n",
        "        etiquetas.append(2)\n",
        "        etiquetas.append(2)\n",
        "      else:\n",
        "        print(\"Error en el formato. Existe una clase distinta a object, place o face\")\n",
        "\n",
        "  return etiquetas\n",
        "\n",
        "#Funcion que genera una matriz de NumPy con los datos leidos de los archivos.\n",
        "def importarDatos():\n",
        "  datosPreprocesados = np.zeros((64,64,30,1800))\n",
        "  etiquetasPreprocesados = np.zeros(1800)\n",
        "\n",
        "  contador = 0\n",
        "\n",
        "  sub[0] = 0\n",
        "\n",
        "  for s1 in range(1,11):#(1,11)\n",
        "\n",
        "    if(s1 == 10):\n",
        "      sub[0] = 1\n",
        "      sub[1] = 0\n",
        "    else:\n",
        "      sub[1] = s1\n",
        "\n",
        "    for r in range(1,7):#(1,7)\n",
        "      run = r\n",
        "      archivoImagenes = darNombreArchivoImagenes(sub, run)\n",
        "      archivoEtiquetas = darNombreArchivoEtiquetas(sub, run)\n",
        "\n",
        "      imagenes = nib.load(archivoImagenes).get_fdata()\n",
        "      etiquetas = leerEtiquetas(archivoEtiquetas)\n",
        "\n",
        "      muestras = obtenerImagenes(imagenes)\n",
        "\n",
        "      for indice in range(0,30):\n",
        "          datosPreprocesados[:,:,:,30*contador+indice] = muestras[:,:,:,indice]\n",
        "          etiquetasPreprocesados[30*contador+indice] = etiquetas[indice]\n",
        "\n",
        "      contador+=1\n",
        "\n",
        "  return datosPreprocesados, etiquetasPreprocesados.astype(int)"
      ],
      "execution_count": 0,
      "outputs": []
    },
    {
      "cell_type": "code",
      "metadata": {
        "id": "J4-duenQTB7E",
        "colab_type": "code",
        "colab": {}
      },
      "source": [
        "#En esta linea de codigo se importan los datos y se almacenan en las variables datosPreprocesados (correspondiente a las imagenes) y en etiquetasPreprocesadas (las etiquetas).\n",
        "print(\"Importando datos...\")\n",
        "datosPreprocesados, etiquetasPreprocesados = importarDatos()\n",
        "print(\"Se importaron correctamente.\")"
      ],
      "execution_count": 0,
      "outputs": []
    },
    {
      "cell_type": "code",
      "metadata": {
        "id": "A4oSi4itJOCB",
        "colab_type": "code",
        "colab": {}
      },
      "source": [
        "#Calcula los descriptores de primer orden. Estos se refieren a los que se sacan a partir del histograma, la media, la varianza, etc.\n",
        "def calcularDescriptoresPrimerOrden(pImagenes):\n",
        "\n",
        "  mean = np.mean(pImagenes, axis = None)\n",
        "  var = np.var(pImagenes, axis = None)\n",
        "  kur = st.kurtosis(pImagenes, axis = None)\n",
        "  ske = st.skew(pImagenes, axis = None)\n",
        "\n",
        "  descriptores = np.append([mean, var],[kur, ske])\n",
        "\n",
        "  return descriptores\n",
        "\n",
        "#Calcula los descriptores a partir de un grupo de imagenes de fMRI.\n",
        "def calcularDescriptores(pImagenes):\n",
        "  #Faltan los descriptores del histograma\n",
        "  descPrimer = calcularDescriptoresPrimerOrden(pImagenes)\n",
        "  descSegundo = mh.features.haralick(pImagenes, ignore_zeros=True, preserve_haralick_bug=False, compute_14th_feature=False, return_mean=True, return_mean_ptp=False, use_x_minus_y_variance=False, distance=1)\n",
        "\n",
        "  descriptores = np.append(descPrimer,descSegundo)\n",
        "\n",
        "  return descriptores\n",
        "\n",
        "#Funcion que retorna el texto de la descripcion del archivo de descriptores.\n",
        "def darTextoIntroduccion(pEscala):\n",
        "  texto = \"Este archivo incluye los descriptores calculados a partir de los datos preprocesados. \\nLos datos brutos fueron obtenidos del \\\n",
        "dataset de imágenes de resonancia magnética funcional que se puede encontrar en https://openneuro.org/datasets/ds001497/versions/1.0.1.\\n\\\n",
        "A estos datos se les realizó un preprocesamiento utilizando fmriprep (ESTO TOCA VER SI SI SIRVE AL FIN) y finalmente se calcularon los \\\n",
        "descriptores con una escala de grises de \" + str(pEscala) + \".\\nEstos descriptores son (EL NUMERO QUE SEA) e incluyen:\\nEnergía, etc.... (AGREGAR LOS QUE FALTAN Y ORDENARLOS CORRECTAMENTE).\\n\\\n",
        "Finalmente, cada muestra incluye a la clase a la cual pertenece. Existen 3 clases y se indican con un número de 0 a 2 que corresponden a:\\n\\\n",
        "objeto -> 0\\n\\\n",
        "lugar -> 1\\n\\\n",
        "rostro -> 2\\n\\\n",
        "media;varianza;kurtosis;skewness;....;clase AGREGAR TODAS LAS VARIABLES ACA EN ORDEN SIGUIENDO LA CONVENCIÓN DE SEPARARLOS CON ;\"\n",
        "\n",
        "  return texto\n",
        "\n",
        "#Funcion que retorna un string con los descriptores y clases separados por ;.\n",
        "#Esta cadena sera utilizada para generar el archivo de texto con los descriptores calculados y su etiqueta.\n",
        "def darLinea(pDescriptores, pEtiqueta):\n",
        "  separador = \";\"\n",
        "  muestra = []\n",
        "  return separador.join(pDescriptores.astype(str)) + separador + str(pEtiqueta)\n",
        "\n",
        "#Funcion que genera el archivo de texto con los datos de los descriptores y su correspondiente etiqueta.\n",
        "#Este archivo recibe el nombre de datosDescriptores.txt e incluye los descriptores y sus etiquetas separadas por ;\n",
        "#y una descripcion del archivo.\n",
        "def crearArchivoDescriptores():\n",
        "  escala = 256\n",
        "\n",
        "  print(\"Generando archivo de descriptores...\")\n",
        "  archivo = open(\"datosDescriptores.txt\", \"w+\")\n",
        "\n",
        "  intro = darTextoIntroduccion(escala)\n",
        "  archivo.write(intro)\n",
        "  archivo.write(\"\\n\")\n",
        "\n",
        "  start = time.time()\n",
        "\n",
        "  #Esto deberia iterar hasta 1800, pero por ahora menos.\n",
        "  for i in range(0,1800):\n",
        "    imagenes = datosPreprocesados[:,:,:,i]\n",
        "    imagenes = escala*(imagenes/imagenes.max())\n",
        "    imagenes = imagenes.astype(int)\n",
        "\n",
        "    descriptores = calcularDescriptores(imagenes)\n",
        "    linea = darLinea(descriptores, etiquetasPreprocesados[i])\n",
        "    archivo.write(linea)\n",
        "    archivo.write(\"\\n\")\n",
        "\n",
        "    print(i)\n",
        "    \n",
        "  print(\"Archivo generado exitosamente.\")\n",
        "  print(\"Tiempo: {} segundos\".format(time.time()-start))\n",
        "\n",
        "  archivo.close()"
      ],
      "execution_count": 0,
      "outputs": []
    },
    {
      "cell_type": "code",
      "metadata": {
        "id": "WPzTB7hiFE7G",
        "colab_type": "code",
        "outputId": "bd211fcf-d928-45a5-e6b1-86b208a2bf6f",
        "colab": {
          "base_uri": "https://localhost:8080/",
          "height": 71
        }
      },
      "source": [
        "crearArchivoDescriptores()"
      ],
      "execution_count": 32,
      "outputs": [
        {
          "output_type": "stream",
          "text": [
            "Generando archivo de descriptores...\n",
            "Archivo generado exitosamente.\n",
            "Tiempo: 1857.882287979126 segundos\n"
          ],
          "name": "stdout"
        }
      ]
    }
  ]
}