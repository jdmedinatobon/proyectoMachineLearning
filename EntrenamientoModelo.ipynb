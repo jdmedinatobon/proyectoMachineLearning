{
  "nbformat": 4,
  "nbformat_minor": 0,
  "metadata": {
    "colab": {
      "name": "EntrenamientoModelo.ipynb",
      "provenance": [],
      "collapsed_sections": [],
      "toc_visible": true,
      "machine_shape": "hm",
      "include_colab_link": true
    },
    "kernelspec": {
      "name": "python3",
      "display_name": "Python 3"
    },
    "accelerator": "GPU"
  },
  "cells": [
    {
      "cell_type": "markdown",
      "metadata": {
        "id": "view-in-github",
        "colab_type": "text"
      },
      "source": [
        "<a href=\"https://colab.research.google.com/github/jdmedinatobon/proyectoMachineLearning/blob/master/EntrenamientoModelo.ipynb\" target=\"_parent\"><img src=\"https://colab.research.google.com/assets/colab-badge.svg\" alt=\"Open In Colab\"/></a>"
      ]
    },
    {
      "cell_type": "markdown",
      "metadata": {
        "id": "7351Cxk_S8Fg",
        "colab_type": "text"
      },
      "source": [
        "# Proyecto Final Machine Learnine\n",
        "Juan David Medina y Jorge Felipe Gaviria\n",
        "\n",
        "En este informe se presenta el proyecto final de Machine Learning. Este se realizó mediante el estudio realizado en el artíclo \"Temporary Activation of Long-Term Memory Supports Working Memory\". En este artículo, se buscaba determinar si a partir de imagenes de resonancia magnética funcional de cerebros de seres humanos se podía determinar aquello en lo que la persona estaba pensando. El estudio consistía en mostrarles a 10 sujetos de pruebas distintos imagenes mientras se les realizaba la resonancia. Las imagenes se dividían en 3 categorías (personas famosas, lugares famosos y objetos cotidianos). Los sujetos debían recordar aquella imagen que les fue mostrada previamente mientras se realizaba la resonancia y, a partir de los datos obtenidos, un clasificador debía determinar aquello que la persona estaba pensando. Para este proyecto se recaudaron los datos obtenidos, con los cuales se busca obtener un clasificador que permita identificar aquello que el sujeto de prueba estuviese mirando.\n",
        "\n",
        "Este informe cuenta con un cuaderno de soporte utilizado para calcular los descriptores, a partir de las imágenes de resonancia magnética. Se recomienda leer dicho cuaderno antes que este.\n",
        "\n",
        "La base de datos se puede obtener en https://openneuro.org/datasets/ds001497/versions/1.0.1, mientras que el artículo original se encuentra en https://www.ncbi.nlm.nih.gov/pmc/articles/PMC2699183/.\n",
        "\n",
        "El proyecto cuenta con un repositorio público en GitHub que se puede encontrar en el siguiente link: https://github.com/jdmedinatobon/proyectoMachineLearning"
      ]
    },
    {
      "cell_type": "code",
      "metadata": {
        "id": "ukiI7n1W4dQy",
        "colab_type": "code",
        "outputId": "745785bf-e9b0-4d80-9a2f-e7adcf5cd8db",
        "colab": {
          "base_uri": "https://localhost:8080/",
          "height": 132
        }
      },
      "source": [
        "from google.colab import drive\n",
        "drive.mount(\"/content/drive\")#,force_remount = True)"
      ],
      "execution_count": 1,
      "outputs": [
        {
          "output_type": "stream",
          "text": [
            "Go to this URL in a browser: https://accounts.google.com/o/oauth2/auth?client_id=947318989803-6bn6qk8qdgf4n4g3pfee6491hc0brc4i.apps.googleusercontent.com&redirect_uri=urn%3aietf%3awg%3aoauth%3a2.0%3aoob&response_type=code&scope=email%20https%3a%2f%2fwww.googleapis.com%2fauth%2fdocs.test%20https%3a%2f%2fwww.googleapis.com%2fauth%2fdrive%20https%3a%2f%2fwww.googleapis.com%2fauth%2fdrive.photos.readonly%20https%3a%2f%2fwww.googleapis.com%2fauth%2fpeopleapi.readonly\n",
            "\n",
            "Enter your authorization code:\n",
            "··········\n",
            "Mounted at /content/drive\n"
          ],
          "name": "stdout"
        }
      ]
    },
    {
      "cell_type": "markdown",
      "metadata": {
        "id": "H7_KtSiR4BtV",
        "colab_type": "text"
      },
      "source": [
        ""
      ]
    },
    {
      "cell_type": "code",
      "metadata": {
        "id": "01BgKuSC6gfa",
        "colab_type": "code",
        "outputId": "c8eb22b5-7c45-47a7-d368-4597224bb8e2",
        "colab": {
          "base_uri": "https://localhost:8080/",
          "height": 512
        }
      },
      "source": [
        "#Es necesario ejecutar esta celda antes del resto, de lo contrario no van a funcionar de manera correcta. \n",
        "!pip3 install xgboost\n",
        "!pip install seaborn\n",
        "!pip install progressbar2\n",
        "!pip install matplotlib --upgrade"
      ],
      "execution_count": 2,
      "outputs": [
        {
          "output_type": "stream",
          "text": [
            "Requirement already satisfied: xgboost in /usr/local/lib/python3.6/dist-packages (0.90)\n",
            "Requirement already satisfied: scipy in /usr/local/lib/python3.6/dist-packages (from xgboost) (1.3.3)\n",
            "Requirement already satisfied: numpy in /usr/local/lib/python3.6/dist-packages (from xgboost) (1.17.4)\n",
            "Requirement already satisfied: seaborn in /usr/local/lib/python3.6/dist-packages (0.9.0)\n",
            "Requirement already satisfied: numpy>=1.9.3 in /usr/local/lib/python3.6/dist-packages (from seaborn) (1.17.4)\n",
            "Requirement already satisfied: pandas>=0.15.2 in /usr/local/lib/python3.6/dist-packages (from seaborn) (0.25.3)\n",
            "Requirement already satisfied: matplotlib>=1.4.3 in /usr/local/lib/python3.6/dist-packages (from seaborn) (3.1.2)\n",
            "Requirement already satisfied: scipy>=0.14.0 in /usr/local/lib/python3.6/dist-packages (from seaborn) (1.3.3)\n",
            "Requirement already satisfied: pytz>=2017.2 in /usr/local/lib/python3.6/dist-packages (from pandas>=0.15.2->seaborn) (2018.9)\n",
            "Requirement already satisfied: python-dateutil>=2.6.1 in /usr/local/lib/python3.6/dist-packages (from pandas>=0.15.2->seaborn) (2.6.1)\n",
            "Requirement already satisfied: pyparsing!=2.0.4,!=2.1.2,!=2.1.6,>=2.0.1 in /usr/local/lib/python3.6/dist-packages (from matplotlib>=1.4.3->seaborn) (2.4.5)\n",
            "Requirement already satisfied: kiwisolver>=1.0.1 in /usr/local/lib/python3.6/dist-packages (from matplotlib>=1.4.3->seaborn) (1.1.0)\n",
            "Requirement already satisfied: cycler>=0.10 in /usr/local/lib/python3.6/dist-packages (from matplotlib>=1.4.3->seaborn) (0.10.0)\n",
            "Requirement already satisfied: six>=1.5 in /usr/local/lib/python3.6/dist-packages (from python-dateutil>=2.6.1->pandas>=0.15.2->seaborn) (1.12.0)\n",
            "Requirement already satisfied: setuptools in /usr/local/lib/python3.6/dist-packages (from kiwisolver>=1.0.1->matplotlib>=1.4.3->seaborn) (42.0.2)\n",
            "Requirement already satisfied: progressbar2 in /usr/local/lib/python3.6/dist-packages (3.38.0)\n",
            "Requirement already satisfied: python-utils>=2.3.0 in /usr/local/lib/python3.6/dist-packages (from progressbar2) (2.3.0)\n",
            "Requirement already satisfied: six in /usr/local/lib/python3.6/dist-packages (from progressbar2) (1.12.0)\n",
            "Requirement already up-to-date: matplotlib in /usr/local/lib/python3.6/dist-packages (3.1.2)\n",
            "Requirement already satisfied, skipping upgrade: cycler>=0.10 in /usr/local/lib/python3.6/dist-packages (from matplotlib) (0.10.0)\n",
            "Requirement already satisfied, skipping upgrade: numpy>=1.11 in /usr/local/lib/python3.6/dist-packages (from matplotlib) (1.17.4)\n",
            "Requirement already satisfied, skipping upgrade: kiwisolver>=1.0.1 in /usr/local/lib/python3.6/dist-packages (from matplotlib) (1.1.0)\n",
            "Requirement already satisfied, skipping upgrade: pyparsing!=2.0.4,!=2.1.2,!=2.1.6,>=2.0.1 in /usr/local/lib/python3.6/dist-packages (from matplotlib) (2.4.5)\n",
            "Requirement already satisfied, skipping upgrade: python-dateutil>=2.1 in /usr/local/lib/python3.6/dist-packages (from matplotlib) (2.6.1)\n",
            "Requirement already satisfied, skipping upgrade: six in /usr/local/lib/python3.6/dist-packages (from cycler>=0.10->matplotlib) (1.12.0)\n",
            "Requirement already satisfied, skipping upgrade: setuptools in /usr/local/lib/python3.6/dist-packages (from kiwisolver>=1.0.1->matplotlib) (42.0.2)\n"
          ],
          "name": "stdout"
        }
      ]
    },
    {
      "cell_type": "markdown",
      "metadata": {
        "id": "it7Li_GO34h8",
        "colab_type": "text"
      },
      "source": [
        "#Librerías"
      ]
    },
    {
      "cell_type": "code",
      "metadata": {
        "id": "t-IiLjvWBoa_",
        "colab_type": "code",
        "outputId": "701a97a4-4f95-413e-8d2a-6ad80025504f",
        "colab": {
          "base_uri": "https://localhost:8080/",
          "height": 36
        }
      },
      "source": [
        "#Se importan las librerias necesarias.\n",
        "import numpy as np\n",
        "import pandas as pd\n",
        "%tensorflow_version 1.x\n",
        "import tensorflow as tf\n",
        "import time\n",
        "\n",
        "import sklearn as sk\n",
        "from sklearn.neural_network import MLPClassifier\n",
        "from sklearn import preprocessing\n",
        "from sklearn.decomposition import PCA\n",
        "from sklearn.metrics import confusion_matrix \n",
        "from sklearn.tree import DecisionTreeClassifier\n",
        "from sklearn.model_selection import train_test_split \n",
        "from sklearn.ensemble import AdaBoostClassifier\n",
        "from sklearn.svm import SVC\n",
        "from sklearn.model_selection import GridSearchCV\n",
        "from sklearn.metrics import f1_score\n",
        "from sklearn.metrics import precision_score\n",
        "from sklearn.metrics import recall_score\n",
        "from sklearn.metrics import classification_report\n",
        "from sklearn.utils.class_weight import compute_class_weight\n",
        "\n",
        "import matplotlib.pyplot as plt\n",
        "import seaborn as sns\n",
        "\n",
        "import tensorflow.keras as keras\n",
        "from keras import Sequential\n",
        "from keras.layers import Conv3D\n",
        "from keras.layers import MaxPooling3D\n",
        "from keras.layers import GlobalAveragePooling3D\n",
        "from keras.layers import Dense\n",
        "from keras.layers import Flatten\n",
        "from keras.layers import Input\n",
        "from keras import optimizers\n",
        "from keras.regularizers import l2\n",
        "from keras.wrappers.scikit_learn import KerasClassifier\n",
        "from keras import optimizers\n",
        "from keras.models import model_from_json\n",
        "from keras.models import Model\n",
        "from keras.utils import model_to_dot\n",
        "from keras.utils import plot_model\n",
        "from IPython.display import SVG\n",
        "\n",
        "import progressbar"
      ],
      "execution_count": 3,
      "outputs": [
        {
          "output_type": "stream",
          "text": [
            "Using TensorFlow backend.\n"
          ],
          "name": "stderr"
        }
      ]
    },
    {
      "cell_type": "markdown",
      "metadata": {
        "id": "s_n7G_vC5hq2",
        "colab_type": "text"
      },
      "source": [
        "#Clases"
      ]
    },
    {
      "cell_type": "markdown",
      "metadata": {
        "id": "SHMTqWRsfygb",
        "colab_type": "text"
      },
      "source": [
        "Primero, se crea la clase Resultados capaz de realizar diversas operaciones con los resultados obtenidos mediante el uso de los modelos. Mediante esta, se puede graficar la historia de entrenamiento, validación y calcular las estadísticas de precisión, recall y f1 con promedio macro de los modelos realizados.Esta clase además permite generar un reporte de las métricas y graficar la matriz de confusión."
      ]
    },
    {
      "cell_type": "code",
      "metadata": {
        "id": "97hMPFx15hEM",
        "colab_type": "code",
        "colab": {}
      },
      "source": [
        "#Clase utilizada para presentar los resultados de los modelos.\n",
        "#En esta se incluye: una grafica de la historia de entrenamiento y validación,\n",
        "#calculo de las metricas de accuracy, precision, recall y f1 con promedio macro,\n",
        "#construccion de reporte de las metricas, grafica de la matriz de confusion.\n",
        "class Resultados:\n",
        "    def __init__(self, p_y_pred, p_y_true, pHist, pModelo, pId):\n",
        "        self.y_pred = p_y_pred\n",
        "        self.y_true = p_y_true\n",
        "        self.hist = pHist\n",
        "        self.modelo = pModelo\n",
        "        self.iden = pId\n",
        "\n",
        "    def graficarMatrizConfusion(self):\n",
        "      cm = confusion_matrix(self.y_true, self.y_pred)\n",
        "      \n",
        "      plt.figure(figsize=(8,8))\n",
        "\n",
        "      ax = sns.heatmap(cm, annot = True, cbar = False);\n",
        "      \n",
        "      ax.xaxis.tick_top()\n",
        "      ax.xaxis.set_label_position('top')\n",
        "      \n",
        "      plt.xlabel(\"Clase Prediccion\")\n",
        "      plt.ylabel(\"Clase Verdadera\")\n",
        "      plt.title(\"Matriz de Confusion\")\n",
        "\n",
        "      plt.show()\n",
        "      plt.savefig(\"drive/My Drive/DatosProyecto/results/MatrizConfusion_\" + self.iden + \".png\")\n",
        "\n",
        "    def graficarHistoria(self):\n",
        "      plt.plot(self.hist.history['sparse_categorical_accuracy'], label = 'Accuracy Entrenamiento')\n",
        "      plt.plot(self.hist.history['val_sparse_categorical_accuracy'], label = 'Accuracy Validacion')\n",
        "      plt.xlabel('Epoca')\n",
        "      plt.ylabel('Accuracy')\n",
        "      plt.title(\"Accuracy vs Epoca\")\n",
        "      plt.legend()\n",
        "      plt.show()\n",
        "\n",
        "    def calcularError(self):\n",
        "      error = np.sum(self.y_pred != self.y_true)\n",
        "      error = error/len(self.y_pred)\n",
        "\n",
        "      return error\n",
        "\n",
        "    def calcularF1(self):\n",
        "      f1 = f1_score(self.y_true, self.y_pred, average = 'micro')\n",
        "      return f1\n",
        "\n",
        "    def calcularPrecision(self):\n",
        "      precision = precision_score(self.y_true, self.y_pred, average = 'micro')\n",
        "      return precision\n",
        "\n",
        "    def calcularRecall(self):\n",
        "      recall = recall_score(self.y_true, self.y_pred, average = 'micro')\n",
        "      return recall\n",
        "\n",
        "    def darReporte(self):\n",
        "      print(classification_report(self.y_true, self.y_pred, labels = np.arange(0, max(self.y_true)+1)))\n"
      ],
      "execution_count": 0,
      "outputs": []
    },
    {
      "cell_type": "markdown",
      "metadata": {
        "id": "H085EaZW-n3F",
        "colab_type": "text"
      },
      "source": [
        "#Lectura de Datos"
      ]
    },
    {
      "cell_type": "markdown",
      "metadata": {
        "id": "d61xMicRgejp",
        "colab_type": "text"
      },
      "source": [
        "En esta sección se obtienen los datos utilizados para realizar el entrenamiento. Cabe resaltar que los datos recopilados de OpenNeuro no habían sido previamente preprocesados para realizar los modelos. Por este motivo, se utilizó un pre-procesador llamado easy fMRI mediante el cual fue posible eliminar partes indeseadas de la resonancia. Por ejemplo, mediante el uso de este preprocesador se logró eliminar parte de la cabeza osea que se había obtenido al realizar la resonancia, evitando así que hubiese información no relevante para entrenar y evaluar el clasificador. Además de lo anterior, se planteó utilizar descriptores que representaran la información de la resonancia de manera mas concisa. Para determinar estos descriptores, se utilizó la librería de python \"mahotas: Computer Vision in Python\". Mahotas es una librería para el procesamiento de imagenes. Los descriptores que se obtienen de esta librería son: \"Los descriptores de Haralick\", \"Local binary patterns\", \"Threshold Adjacency Statistics\" y \"Zernike Moments\". Además, también se calculan la media, la varianza y la kurtosis como descriptores adicionales.\n",
        "\n",
        "El artículo original, en donde se explican en detalle los descriptores de Haralick y su uso para clasificar texturas se puede encontrar aquí: http://haralick.org/journals/TexturalFeatures.pdf.\n"
      ]
    },
    {
      "cell_type": "code",
      "metadata": {
        "id": "LaqrAEP6StRB",
        "colab_type": "code",
        "colab": {}
      },
      "source": [
        "pathDatos = \"datosDescriptoresPreprocesadosV1_3_7.txt\"\n",
        "#pathDatos = \"/content/drive/My Drive/datosDescriptoresV1_2_of.txt\"\n",
        "separador = \";\"\n",
        "\n",
        "#Esta funcion permite importar los datos, a partir del archivo de texto de descriptores.\n",
        "#pRutaArchivo es la ruta del archivo con los descriptores de los datos. \n",
        "def importarDatos(pRutaArchivo):\n",
        "\n",
        "  datos = []\n",
        "\n",
        "  archivo = open(pRutaArchivo, \"r\")\n",
        "  lineas = archivo.readlines()\n",
        "  for linea in lineas:\n",
        "    linea = linea.replace('\\n','')\n",
        "    muestra = linea.split(separador)\n",
        "    muestra=np.array(muestra)\n",
        "\n",
        "    datos.append(muestra.astype(float))\n",
        "  datos=np.array(datos)\n",
        "  datosx=datos[:,0:datos[0].shape[0]-2]\n",
        "  datosy=datos[:,datos[0].shape[0]-1]\n",
        "  datosy=datosy.astype(int)\n",
        "  return datosx,datosy\n",
        "    \n",
        "def pruebaBinaria(pEtiquetas):\n",
        "  etiquetasBinarias = np.zeros(len(pEtiquetas))\n",
        "  etiquetasBinarias[pEtiquetas==2]=1\n",
        "  return etiquetasBinarias"
      ],
      "execution_count": 0,
      "outputs": []
    },
    {
      "cell_type": "code",
      "metadata": {
        "id": "a2Cd-G8nTkJt",
        "colab_type": "code",
        "colab": {
          "base_uri": "https://localhost:8080/",
          "height": 55
        },
        "outputId": "82b2a227-a8f8-4e4a-fb7e-1fec9be1cbfc"
      },
      "source": [
        "datos_x, datos_y = importarDatos(pathDatos)\n",
        "# datos_x = np.load(\"drive/My Drive/DatosProyecto/preprocessed/Datos_3_7.npy\")\n",
        "# datos_y = np.load(\"drive/My Drive/DatosProyecto/preprocessed/Etiquetas_3_7.npy\")\n",
        "\n",
        "# datos_x = np.load(\"drive/My Drive/DatosProyecto/raw/Datos_3_7.npy\")\n",
        "# datos_y = np.load(\"drive/My Drive/DatosProyecto/raw/Etiquetas_3_7.npy\")\n",
        "\n",
        "print(datos_x.shape)\n",
        "print(datos_y.shape)\n",
        "\n",
        "# datos_y_binarios = pruebaBinaria(datos_y)"
      ],
      "execution_count": 6,
      "outputs": [
        {
          "output_type": "stream",
          "text": [
            "(4425, 16)\n",
            "(4425,)\n"
          ],
          "name": "stdout"
        }
      ]
    },
    {
      "cell_type": "markdown",
      "metadata": {
        "id": "j6hlaYJY_VCQ",
        "colab_type": "text"
      },
      "source": [
        "# Preprocesamiento"
      ]
    },
    {
      "cell_type": "markdown",
      "metadata": {
        "id": "NODhIUzi425Y",
        "colab_type": "text"
      },
      "source": [
        "Para los descriptores obtenidos, se plantea realizar métodos de preprocesamiento sobre los mismos. En esta sección, se crean los métodos para normalizar, obtener las componentes principales y blanquear.\n",
        "\n",
        "Cabe resaltar que cada uno de estos tipos de preprocesamiento se calcula a partir de únicamente los datos de entrenamiento. Para preprocesar los datos de validación se utilizan los mismos que se encontraron con los de entrenamiento. Además, el cálculo de componentes principales se realiza con los datos normalizados."
      ]
    },
    {
      "cell_type": "code",
      "metadata": {
        "id": "_xfxUFQZ81x8",
        "colab_type": "code",
        "colab": {}
      },
      "source": [
        "#Funcion para normalizar los datos.\n",
        "#pDatos_Para_Normalizar: Son los datos con respecto a los cuales se normaliza.\n",
        "#pDatos: Son los datos a normalizar.\n",
        "def normalizar(pDatos_Para_Normalizar, pDatos):\n",
        " #Se inicializa el preprocesamiento de los datos\n",
        "  normalizar = preprocessing.Normalizer().fit(pDatos_Para_Normalizar) #se obtiene una funcion que permita a \n",
        "  #partir de la media y los valores maximos y minimos de los datos de entrenamiento de este modelo, normalizar los datos de prueba y de entrenamiento\n",
        "  dato_normal = normalizar.transform(pDatos) #Datos normailzados y con los cuales se entrenarán los modelos \n",
        "  return dato_normal\n",
        "\n",
        "#Funcion que calcula las componentes principales de x.\n",
        "#pNumComponentes: Es el numero de componentes principales que se van a calcular. Enviar -1 si se quiere calcular todas.\n",
        "def darComponentesPrincipales(x, pNumComponentes):\n",
        "\n",
        "    if(pNumComponentes != -1):\n",
        "      pca = PCA(n_components = pNumComponentes)\n",
        "    else:\n",
        "      pca = PCA()\n",
        "      \n",
        "    pca.fit(x)\n",
        "    return pca\n",
        "\n",
        "#Funcion que retorna las componentes utilizadas para blanquear los datos.\n",
        "def darBlanqueamiento(x):\n",
        "    pca = PCA(whiten = True)\n",
        "    pca.fit(x)\n",
        "    return pca"
      ],
      "execution_count": 0,
      "outputs": []
    },
    {
      "cell_type": "markdown",
      "metadata": {
        "id": "eQ2CsI9w5zuK",
        "colab_type": "text"
      },
      "source": [
        "En las siguientes líneas de código se realiza la división entre los datos de entrenamiento y los de validación. Con los datos de entrenamiento se entrenaran los modelos, mientras que los de validación se utilizarán para estimar el desempeño de dichos modelos."
      ]
    },
    {
      "cell_type": "code",
      "metadata": {
        "id": "Y_PbrN4LKts3",
        "colab_type": "code",
        "colab": {}
      },
      "source": [
        "# datos_x = np.reshape(datos_x, (datos_x.shape[0],64,64,30,1))\n",
        "x_train, x_test, y_train, y_test = train_test_split(datos_x, datos_y, random_state = 0, test_size=0.10)"
      ],
      "execution_count": 0,
      "outputs": []
    },
    {
      "cell_type": "code",
      "metadata": {
        "id": "AartJZc6AF5m",
        "colab_type": "code",
        "colab": {}
      },
      "source": [
        "#Normalizar los datos\n",
        "x_train_norm = normalizar(x_train, x_train)\n",
        "x_test_norm = normalizar(x_train, x_test)\n",
        "\n",
        "#Calcular los datos con el 99% de la varianza explicada en las componentes principales\n",
        "pca = darComponentesPrincipales(x_train_norm,-1)\n",
        "x_train_pca = pca.transform(x_train_norm)\n",
        "x_test_pca = pca.transform(x_test_norm)\n",
        "\n",
        "#Blanquear los datos\n",
        "blan = darBlanqueamiento(x_train)\n",
        "x_train_blan = blan.transform(x_train)\n",
        "x_test_blan = blan.transform(x_test)"
      ],
      "execution_count": 0,
      "outputs": []
    },
    {
      "cell_type": "code",
      "metadata": {
        "id": "TbWgnm2DYP9X",
        "colab_type": "code",
        "colab": {}
      },
      "source": [
        "#Prueba categorical\n",
        "def prepararClases(pY1, pY2):\n",
        "  ohe = preprocessing.OneHotEncoder(categories = 'auto')\n",
        "  y = np.reshape(pY1, (-1,1))\n",
        "  ohe.fit(y)\n",
        "\n",
        "  y2 = np.reshape(pY2, (-1,1))\n",
        "\n",
        "  return ohe.transform(y).toarray(), ohe.transform(y2).toarray()"
      ],
      "execution_count": 0,
      "outputs": []
    },
    {
      "cell_type": "code",
      "metadata": {
        "id": "q8mSmsfIZH8O",
        "colab_type": "code",
        "colab": {}
      },
      "source": [
        "y2, y3 = prepararClases(y_train, y_test)"
      ],
      "execution_count": 0,
      "outputs": []
    },
    {
      "cell_type": "code",
      "metadata": {
        "id": "U_voah6Pq_7a",
        "colab_type": "code",
        "colab": {
          "base_uri": "https://localhost:8080/",
          "height": 245
        },
        "outputId": "cfd2dcc0-1738-47cf-9a72-b400a6d864b6"
      },
      "source": [
        "x_train_norm[0:2]"
      ],
      "execution_count": 17,
      "outputs": [
        {
          "output_type": "execute_result",
          "data": {
            "text/plain": [
              "array([[ 1.14280519e-03,  2.64399959e-01,  2.33518116e-05,\n",
              "         3.30935238e-05,  1.12493924e-09,  7.28857851e-02,\n",
              "         1.65560206e-05,  2.50334778e-01,  9.08279536e-07,\n",
              "         9.26336352e-03,  9.28453325e-01,  1.81471429e-04,\n",
              "         2.82012006e-04,  5.43544858e-10,  1.28007032e-04,\n",
              "        -5.05973451e-06],\n",
              "       [ 8.84274127e-04,  2.17796951e-01,  3.77303473e-05,\n",
              "         3.36454396e-05,  9.98104899e-10,  6.62565439e-02,\n",
              "         1.48217375e-05,  2.51716486e-01,  8.15680473e-07,\n",
              "         8.15090485e-03,  9.40609402e-01,  1.61326723e-04,\n",
              "         2.47465875e-04,  4.79291931e-10,  1.13195819e-04,\n",
              "        -4.85261207e-06]])"
            ]
          },
          "metadata": {
            "tags": []
          },
          "execution_count": 17
        }
      ]
    },
    {
      "cell_type": "markdown",
      "metadata": {
        "id": "Y6AX-EiD8J3-",
        "colab_type": "text"
      },
      "source": [
        "A continuación, se obtienen las componentes principales de los descriptores. Se evidencia en la gráfica obtenida que la varianza representada en las dimensiones obtenidas se acumula principalmente en dos. En la primera se cuenta con aproximadamente el 58.2% de la varianza total, mientras que en la segunda con el 39.26%. Cabe recalcar que, ya que los datos se separan de manera aleatoria, puede ocurrir que estos valores varíen si se recalculan."
      ]
    },
    {
      "cell_type": "code",
      "metadata": {
        "id": "LXn7YhVBJx-M",
        "colab_type": "code",
        "outputId": "2356c662-91c5-48f3-835f-dd85a56f63a9",
        "colab": {
          "base_uri": "https://localhost:8080/",
          "height": 432
        }
      },
      "source": [
        "#Grafica las componentes principales de los datos de entrenamiento.\n",
        "pca = darComponentesPrincipales(x_train_norm,-1)\n",
        "\n",
        "\n",
        "#Grafica la varianza explicada (en porcentaje) por cada componente principal.\n",
        "pca = darComponentesPrincipales(x_train_norm,-1)\n",
        "plt.xlabel(\"Componentes\")\n",
        "plt.ylabel(\"Varianza Explicada\")\n",
        "plt.legend()\n",
        "plt.stem((pca.explained_variance_ratio_))\n",
        "plt.show()\n",
        "\n",
        "\n",
        "print(pca.explained_variance_ratio_)"
      ],
      "execution_count": 10,
      "outputs": [
        {
          "output_type": "stream",
          "text": [
            "No handles with labels found to put in legend.\n",
            "/usr/local/lib/python3.6/dist-packages/ipykernel_launcher.py:13: UserWarning: In Matplotlib 3.3 individual lines on a stem plot will be added as a LineCollection instead of individual lines. This significantly improves the performance of a stem plot. To remove this warning and switch to the new behaviour, set the \"use_line_collection\" keyword argument to True.\n",
            "  del sys.path[0]\n"
          ],
          "name": "stderr"
        },
        {
          "output_type": "stream",
          "text": [
            "[9.95168645e-01 4.16003277e-03 4.16112699e-04 2.54844040e-04\n",
            " 3.55726108e-07 8.69043941e-09 5.46295169e-10 6.97005256e-11\n",
            " 6.00682637e-12 4.16739024e-12 2.75848662e-13 3.52806769e-14\n",
            " 1.57775841e-14 5.63325198e-20 8.28837352e-22 2.08481286e-28]\n"
          ],
          "name": "stdout"
        },
        {
          "output_type": "display_data",
          "data": {
            "image/png": "[encoded data removed]",
            "text/plain": [
              "<Figure size 432x288 with 1 Axes>"
            ]
          },
          "metadata": {
            "tags": []
          }
        }
      ]
    },
    {
      "cell_type": "code",
      "metadata": {
        "id": "Za3F5p4dTqDl",
        "colab_type": "code",
        "outputId": "a2a3585b-0b2b-418c-a252-f54ab2d94efb",
        "colab": {
          "base_uri": "https://localhost:8080/",
          "height": 249
        }
      },
      "source": [
        "n=10\n",
        "error=[]\n",
        "Proba_error_prueba=100000\n",
        "error_actual=1000000\n",
        "Proba_error_prueba_tan=100000\n",
        "modeloPrueba = MLPClassifier(activation = 'relu',hidden_layer_sizes=(n,2), max_iter=1, batch_size=2, solver='adam', tol=0.001, warm_start =True,momentum=0.6, learning_rate_init=0.001, learning_rate = 'adaptive', nesterovs_momentum=True, power_t=0.5)#0.6\n",
        "for i in range(0,150):\n",
        "    modeloPrueba.fit(x_train,y_train)\n",
        "    error_actual = 1-modeloPrueba.score(x_test,y_test)\n",
        "    error.append(error_actual)\n",
        "    if(error_actual<Proba_error_prueba):\n",
        "        N_neuronas=n\n",
        "        fcn_activacion=\"tanh\"\n",
        "        modelo = modeloPrueba\n",
        "        Proba_error_prueba = error_actual\n",
        "    if(error_actual<Proba_error_prueba_tan):\n",
        "        N_neuronas_tan=n\n",
        "        modelo_tan = modeloPrueba\n",
        "        Proba_error_prueba_tan = error_actual\n",
        "print(\"Número de neuronas utilizadas para la mejor probabilidad de error para tanh descenso de gradiente\")\n",
        "print(N_neuronas_tan)\n",
        "print(\"Mejor probabilidad de acierto para función de activación tanh con descenso de gradiente\")\n",
        "print(1-Proba_error_prueba_tan)"
      ],
      "execution_count": 0,
      "outputs": [
        {
          "output_type": "error",
          "ename": "NameError",
          "evalue": "ignored",
          "traceback": [
            "\u001b[0;31m---------------------------------------------------------------------------\u001b[0m",
            "\u001b[0;31mNameError\u001b[0m                                 Traceback (most recent call last)",
            "\u001b[0;32m<ipython-input-1-9a346a59f0cc>\u001b[0m in \u001b[0;36m<module>\u001b[0;34m()\u001b[0m\n\u001b[1;32m      4\u001b[0m \u001b[0merror_actual\u001b[0m\u001b[0;34m=\u001b[0m\u001b[0;36m1000000\u001b[0m\u001b[0;34m\u001b[0m\u001b[0;34m\u001b[0m\u001b[0m\n\u001b[1;32m      5\u001b[0m \u001b[0mProba_error_prueba_tan\u001b[0m\u001b[0;34m=\u001b[0m\u001b[0;36m100000\u001b[0m\u001b[0;34m\u001b[0m\u001b[0;34m\u001b[0m\u001b[0m\n\u001b[0;32m----> 6\u001b[0;31m \u001b[0mmodeloPrueba\u001b[0m \u001b[0;34m=\u001b[0m \u001b[0mMLPClassifier\u001b[0m\u001b[0;34m(\u001b[0m\u001b[0mactivation\u001b[0m \u001b[0;34m=\u001b[0m \u001b[0;34m'relu'\u001b[0m\u001b[0;34m,\u001b[0m\u001b[0mhidden_layer_sizes\u001b[0m\u001b[0;34m=\u001b[0m\u001b[0;34m(\u001b[0m\u001b[0mn\u001b[0m\u001b[0;34m,\u001b[0m\u001b[0;36m2\u001b[0m\u001b[0;34m)\u001b[0m\u001b[0;34m,\u001b[0m \u001b[0mmax_iter\u001b[0m\u001b[0;34m=\u001b[0m\u001b[0;36m1\u001b[0m\u001b[0;34m,\u001b[0m \u001b[0mbatch_size\u001b[0m\u001b[0;34m=\u001b[0m\u001b[0;36m2\u001b[0m\u001b[0;34m,\u001b[0m \u001b[0msolver\u001b[0m\u001b[0;34m=\u001b[0m\u001b[0;34m'adam'\u001b[0m\u001b[0;34m,\u001b[0m \u001b[0mtol\u001b[0m\u001b[0;34m=\u001b[0m\u001b[0;36m0.001\u001b[0m\u001b[0;34m,\u001b[0m \u001b[0mwarm_start\u001b[0m \u001b[0;34m=\u001b[0m\u001b[0;32mTrue\u001b[0m\u001b[0;34m,\u001b[0m\u001b[0mmomentum\u001b[0m\u001b[0;34m=\u001b[0m\u001b[0;36m0.6\u001b[0m\u001b[0;34m,\u001b[0m \u001b[0mlearning_rate_init\u001b[0m\u001b[0;34m=\u001b[0m\u001b[0;36m0.001\u001b[0m\u001b[0;34m,\u001b[0m \u001b[0mlearning_rate\u001b[0m \u001b[0;34m=\u001b[0m \u001b[0;34m'adaptive'\u001b[0m\u001b[0;34m,\u001b[0m \u001b[0mnesterovs_momentum\u001b[0m\u001b[0;34m=\u001b[0m\u001b[0;32mTrue\u001b[0m\u001b[0;34m,\u001b[0m \u001b[0mpower_t\u001b[0m\u001b[0;34m=\u001b[0m\u001b[0;36m0.5\u001b[0m\u001b[0;34m)\u001b[0m\u001b[0;31m#0.6\u001b[0m\u001b[0;34m\u001b[0m\u001b[0;34m\u001b[0m\u001b[0m\n\u001b[0m\u001b[1;32m      7\u001b[0m \u001b[0;32mfor\u001b[0m \u001b[0mi\u001b[0m \u001b[0;32min\u001b[0m \u001b[0mrange\u001b[0m\u001b[0;34m(\u001b[0m\u001b[0;36m0\u001b[0m\u001b[0;34m,\u001b[0m\u001b[0;36m150\u001b[0m\u001b[0;34m)\u001b[0m\u001b[0;34m:\u001b[0m\u001b[0;34m\u001b[0m\u001b[0;34m\u001b[0m\u001b[0m\n\u001b[1;32m      8\u001b[0m     \u001b[0mmodeloPrueba\u001b[0m\u001b[0;34m.\u001b[0m\u001b[0mfit\u001b[0m\u001b[0;34m(\u001b[0m\u001b[0mX_train\u001b[0m\u001b[0;34m,\u001b[0m\u001b[0my_train\u001b[0m\u001b[0;34m)\u001b[0m\u001b[0;34m\u001b[0m\u001b[0;34m\u001b[0m\u001b[0m\n",
            "\u001b[0;31mNameError\u001b[0m: name 'MLPClassifier' is not defined"
          ]
        }
      ]
    },
    {
      "cell_type": "code",
      "metadata": {
        "id": "_HG3i2Sr9Ns2",
        "colab_type": "code",
        "outputId": "a9b9720a-e8ef-4252-86eb-6afaef2c2d1a",
        "colab": {
          "base_uri": "https://localhost:8080/",
          "height": 295
        }
      },
      "source": [
        "plt.plot((1-np.array(error)), label = \"Entrenamiento modelo tangente hiperbólico\") \n",
        "plt.xlabel('iteraciones') \n",
        "plt.ylabel('Probabilidad de acierto (%)') \n",
        "plt.title('probabilidad de acierto contra número de iteraciones para función de activación Tangente hiperbólico') \n",
        "plt.legend() \n",
        "plt.show()"
      ],
      "execution_count": 0,
      "outputs": [
        {
          "output_type": "display_data",
          "data": {
            "image/png": "[encoded data removed]",
            "text/plain": [
              "<Figure size 432x288 with 1 Axes>"
            ]
          },
          "metadata": {
            "tags": []
          }
        }
      ]
    },
    {
      "cell_type": "code",
      "metadata": {
        "id": "aVwoxdDH0FIR",
        "colab_type": "code",
        "outputId": "e42df1d1-2c8d-4819-af54-91a94d0dc3c1",
        "colab": {
          "base_uri": "https://localhost:8080/",
          "height": 390
        }
      },
      "source": [
        "#dtree_model = DecisionTreeClassifier(max_depth = 50).fit(X_train, y_train) \n",
        "#dtree_predictions = dtree_model.predict(X_test) \n",
        "\n",
        "rng = np.random.RandomState(1)\n",
        "tree=DecisionTreeClassifier(max_depth=1)\n",
        "modelo = AdaBoostClassifier(base_estimator =tree, n_estimators=10, learning_rate=1.0, random_state=rng)\n",
        "modelo.fit(x_train,y_train)\n",
        "\n",
        "print(\"Porcentaje de acierto utilizando datos de entrenamiento normalizados\")\n",
        "print(modelo.score(x_train,y_train))\n",
        "print(\"Porcentaje de acierto utilizando datos de prueba normalizados\")\n",
        "print(modelo.score(x_test,y_test))\n",
        "\n",
        "resultadosArbol = Resultados(modelo.predict(x_train), y_train, [], modelo, \"Ba\")\n",
        "resultadosArbol.graficarMatrizConfusion()\n",
        "resultadosArbol = Resultados(modelo.predict(x_test), y_test, [], modelo, \"Ba\")\n",
        "resultadosArbol.graficarMatrizConfusion()"
      ],
      "execution_count": 0,
      "outputs": [
        {
          "output_type": "error",
          "ename": "ValueError",
          "evalue": "ignored",
          "traceback": [
            "\u001b[0;31m---------------------------------------------------------------------------\u001b[0m",
            "\u001b[0;31mValueError\u001b[0m                                Traceback (most recent call last)",
            "\u001b[0;32m<ipython-input-13-d94b0f03c813>\u001b[0m in \u001b[0;36m<module>\u001b[0;34m()\u001b[0m\n\u001b[1;32m      3\u001b[0m \u001b[0mtree\u001b[0m\u001b[0;34m=\u001b[0m\u001b[0mDecisionTreeClassifier\u001b[0m\u001b[0;34m(\u001b[0m\u001b[0mmax_depth\u001b[0m\u001b[0;34m=\u001b[0m\u001b[0;36m1\u001b[0m\u001b[0;34m)\u001b[0m\u001b[0;34m\u001b[0m\u001b[0;34m\u001b[0m\u001b[0m\n\u001b[1;32m      4\u001b[0m \u001b[0mmodelo\u001b[0m \u001b[0;34m=\u001b[0m \u001b[0mAdaBoostClassifier\u001b[0m\u001b[0;34m(\u001b[0m\u001b[0mbase_estimator\u001b[0m \u001b[0;34m=\u001b[0m\u001b[0mtree\u001b[0m\u001b[0;34m,\u001b[0m \u001b[0mn_estimators\u001b[0m\u001b[0;34m=\u001b[0m\u001b[0;36m10\u001b[0m\u001b[0;34m,\u001b[0m \u001b[0mlearning_rate\u001b[0m\u001b[0;34m=\u001b[0m\u001b[0;36m1.0\u001b[0m\u001b[0;34m,\u001b[0m \u001b[0mrandom_state\u001b[0m\u001b[0;34m=\u001b[0m\u001b[0mrng\u001b[0m\u001b[0;34m)\u001b[0m\u001b[0;34m\u001b[0m\u001b[0;34m\u001b[0m\u001b[0m\n\u001b[0;32m----> 5\u001b[0;31m \u001b[0mmodelo\u001b[0m\u001b[0;34m.\u001b[0m\u001b[0mfit\u001b[0m\u001b[0;34m(\u001b[0m\u001b[0mx_train\u001b[0m\u001b[0;34m,\u001b[0m\u001b[0my_train\u001b[0m\u001b[0;34m)\u001b[0m\u001b[0;34m\u001b[0m\u001b[0;34m\u001b[0m\u001b[0m\n\u001b[0m\u001b[1;32m      6\u001b[0m \u001b[0;34m\u001b[0m\u001b[0m\n\u001b[1;32m      7\u001b[0m \u001b[0mprint\u001b[0m\u001b[0;34m(\u001b[0m\u001b[0;34m\"Porcentaje de acierto utilizando datos de entrenamiento normalizados\"\u001b[0m\u001b[0;34m)\u001b[0m\u001b[0;34m\u001b[0m\u001b[0;34m\u001b[0m\u001b[0m\n",
            "\u001b[0;32m/usr/local/lib/python3.6/dist-packages/sklearn/ensemble/weight_boosting.py\u001b[0m in \u001b[0;36mfit\u001b[0;34m(self, X, y, sample_weight)\u001b[0m\n\u001b[1;32m    425\u001b[0m \u001b[0;34m\u001b[0m\u001b[0m\n\u001b[1;32m    426\u001b[0m         \u001b[0;31m# Fit\u001b[0m\u001b[0;34m\u001b[0m\u001b[0;34m\u001b[0m\u001b[0;34m\u001b[0m\u001b[0m\n\u001b[0;32m--> 427\u001b[0;31m         \u001b[0;32mreturn\u001b[0m \u001b[0msuper\u001b[0m\u001b[0;34m(\u001b[0m\u001b[0;34m)\u001b[0m\u001b[0;34m.\u001b[0m\u001b[0mfit\u001b[0m\u001b[0;34m(\u001b[0m\u001b[0mX\u001b[0m\u001b[0;34m,\u001b[0m \u001b[0my\u001b[0m\u001b[0;34m,\u001b[0m \u001b[0msample_weight\u001b[0m\u001b[0;34m)\u001b[0m\u001b[0;34m\u001b[0m\u001b[0;34m\u001b[0m\u001b[0m\n\u001b[0m\u001b[1;32m    428\u001b[0m \u001b[0;34m\u001b[0m\u001b[0m\n\u001b[1;32m    429\u001b[0m     \u001b[0;32mdef\u001b[0m \u001b[0m_validate_estimator\u001b[0m\u001b[0;34m(\u001b[0m\u001b[0mself\u001b[0m\u001b[0;34m)\u001b[0m\u001b[0;34m:\u001b[0m\u001b[0;34m\u001b[0m\u001b[0;34m\u001b[0m\u001b[0m\n",
            "\u001b[0;32m/usr/local/lib/python3.6/dist-packages/sklearn/ensemble/weight_boosting.py\u001b[0m in \u001b[0;36mfit\u001b[0;34m(self, X, y, sample_weight)\u001b[0m\n\u001b[1;32m    148\u001b[0m                 \u001b[0mX\u001b[0m\u001b[0;34m,\u001b[0m \u001b[0my\u001b[0m\u001b[0;34m,\u001b[0m\u001b[0;34m\u001b[0m\u001b[0;34m\u001b[0m\u001b[0m\n\u001b[1;32m    149\u001b[0m                 \u001b[0msample_weight\u001b[0m\u001b[0;34m,\u001b[0m\u001b[0;34m\u001b[0m\u001b[0;34m\u001b[0m\u001b[0m\n\u001b[0;32m--> 150\u001b[0;31m                 random_state)\n\u001b[0m\u001b[1;32m    151\u001b[0m \u001b[0;34m\u001b[0m\u001b[0m\n\u001b[1;32m    152\u001b[0m             \u001b[0;31m# Early termination\u001b[0m\u001b[0;34m\u001b[0m\u001b[0;34m\u001b[0m\u001b[0;34m\u001b[0m\u001b[0m\n",
            "\u001b[0;32m/usr/local/lib/python3.6/dist-packages/sklearn/ensemble/weight_boosting.py\u001b[0m in \u001b[0;36m_boost\u001b[0;34m(self, iboost, X, y, sample_weight, random_state)\u001b[0m\n\u001b[1;32m    484\u001b[0m         \"\"\"\n\u001b[1;32m    485\u001b[0m         \u001b[0;32mif\u001b[0m \u001b[0mself\u001b[0m\u001b[0;34m.\u001b[0m\u001b[0malgorithm\u001b[0m \u001b[0;34m==\u001b[0m \u001b[0;34m'SAMME.R'\u001b[0m\u001b[0;34m:\u001b[0m\u001b[0;34m\u001b[0m\u001b[0;34m\u001b[0m\u001b[0m\n\u001b[0;32m--> 486\u001b[0;31m             \u001b[0;32mreturn\u001b[0m \u001b[0mself\u001b[0m\u001b[0;34m.\u001b[0m\u001b[0m_boost_real\u001b[0m\u001b[0;34m(\u001b[0m\u001b[0miboost\u001b[0m\u001b[0;34m,\u001b[0m \u001b[0mX\u001b[0m\u001b[0;34m,\u001b[0m \u001b[0my\u001b[0m\u001b[0;34m,\u001b[0m \u001b[0msample_weight\u001b[0m\u001b[0;34m,\u001b[0m \u001b[0mrandom_state\u001b[0m\u001b[0;34m)\u001b[0m\u001b[0;34m\u001b[0m\u001b[0;34m\u001b[0m\u001b[0m\n\u001b[0m\u001b[1;32m    487\u001b[0m \u001b[0;34m\u001b[0m\u001b[0m\n\u001b[1;32m    488\u001b[0m         \u001b[0;32melse\u001b[0m\u001b[0;34m:\u001b[0m  \u001b[0;31m# elif self.algorithm == \"SAMME\":\u001b[0m\u001b[0;34m\u001b[0m\u001b[0;34m\u001b[0m\u001b[0m\n",
            "\u001b[0;32m/usr/local/lib/python3.6/dist-packages/sklearn/ensemble/weight_boosting.py\u001b[0m in \u001b[0;36m_boost_real\u001b[0;34m(self, iboost, X, y, sample_weight, random_state)\u001b[0m\n\u001b[1;32m    494\u001b[0m         \u001b[0mestimator\u001b[0m \u001b[0;34m=\u001b[0m \u001b[0mself\u001b[0m\u001b[0;34m.\u001b[0m\u001b[0m_make_estimator\u001b[0m\u001b[0;34m(\u001b[0m\u001b[0mrandom_state\u001b[0m\u001b[0;34m=\u001b[0m\u001b[0mrandom_state\u001b[0m\u001b[0;34m)\u001b[0m\u001b[0;34m\u001b[0m\u001b[0;34m\u001b[0m\u001b[0m\n\u001b[1;32m    495\u001b[0m \u001b[0;34m\u001b[0m\u001b[0m\n\u001b[0;32m--> 496\u001b[0;31m         \u001b[0mestimator\u001b[0m\u001b[0;34m.\u001b[0m\u001b[0mfit\u001b[0m\u001b[0;34m(\u001b[0m\u001b[0mX\u001b[0m\u001b[0;34m,\u001b[0m \u001b[0my\u001b[0m\u001b[0;34m,\u001b[0m \u001b[0msample_weight\u001b[0m\u001b[0;34m=\u001b[0m\u001b[0msample_weight\u001b[0m\u001b[0;34m)\u001b[0m\u001b[0;34m\u001b[0m\u001b[0;34m\u001b[0m\u001b[0m\n\u001b[0m\u001b[1;32m    497\u001b[0m \u001b[0;34m\u001b[0m\u001b[0m\n\u001b[1;32m    498\u001b[0m         \u001b[0my_predict_proba\u001b[0m \u001b[0;34m=\u001b[0m \u001b[0mestimator\u001b[0m\u001b[0;34m.\u001b[0m\u001b[0mpredict_proba\u001b[0m\u001b[0;34m(\u001b[0m\u001b[0mX\u001b[0m\u001b[0;34m)\u001b[0m\u001b[0;34m\u001b[0m\u001b[0;34m\u001b[0m\u001b[0m\n",
            "\u001b[0;32m/usr/local/lib/python3.6/dist-packages/sklearn/tree/tree.py\u001b[0m in \u001b[0;36mfit\u001b[0;34m(self, X, y, sample_weight, check_input, X_idx_sorted)\u001b[0m\n\u001b[1;32m    814\u001b[0m             \u001b[0msample_weight\u001b[0m\u001b[0;34m=\u001b[0m\u001b[0msample_weight\u001b[0m\u001b[0;34m,\u001b[0m\u001b[0;34m\u001b[0m\u001b[0;34m\u001b[0m\u001b[0m\n\u001b[1;32m    815\u001b[0m             \u001b[0mcheck_input\u001b[0m\u001b[0;34m=\u001b[0m\u001b[0mcheck_input\u001b[0m\u001b[0;34m,\u001b[0m\u001b[0;34m\u001b[0m\u001b[0;34m\u001b[0m\u001b[0m\n\u001b[0;32m--> 816\u001b[0;31m             X_idx_sorted=X_idx_sorted)\n\u001b[0m\u001b[1;32m    817\u001b[0m         \u001b[0;32mreturn\u001b[0m \u001b[0mself\u001b[0m\u001b[0;34m\u001b[0m\u001b[0;34m\u001b[0m\u001b[0m\n\u001b[1;32m    818\u001b[0m \u001b[0;34m\u001b[0m\u001b[0m\n",
            "\u001b[0;32m/usr/local/lib/python3.6/dist-packages/sklearn/tree/tree.py\u001b[0m in \u001b[0;36mfit\u001b[0;34m(self, X, y, sample_weight, check_input, X_idx_sorted)\u001b[0m\n\u001b[1;32m    128\u001b[0m         \u001b[0mrandom_state\u001b[0m \u001b[0;34m=\u001b[0m \u001b[0mcheck_random_state\u001b[0m\u001b[0;34m(\u001b[0m\u001b[0mself\u001b[0m\u001b[0;34m.\u001b[0m\u001b[0mrandom_state\u001b[0m\u001b[0;34m)\u001b[0m\u001b[0;34m\u001b[0m\u001b[0;34m\u001b[0m\u001b[0m\n\u001b[1;32m    129\u001b[0m         \u001b[0;32mif\u001b[0m \u001b[0mcheck_input\u001b[0m\u001b[0;34m:\u001b[0m\u001b[0;34m\u001b[0m\u001b[0;34m\u001b[0m\u001b[0m\n\u001b[0;32m--> 130\u001b[0;31m             \u001b[0mX\u001b[0m \u001b[0;34m=\u001b[0m \u001b[0mcheck_array\u001b[0m\u001b[0;34m(\u001b[0m\u001b[0mX\u001b[0m\u001b[0;34m,\u001b[0m \u001b[0mdtype\u001b[0m\u001b[0;34m=\u001b[0m\u001b[0mDTYPE\u001b[0m\u001b[0;34m,\u001b[0m \u001b[0maccept_sparse\u001b[0m\u001b[0;34m=\u001b[0m\u001b[0;34m\"csc\"\u001b[0m\u001b[0;34m)\u001b[0m\u001b[0;34m\u001b[0m\u001b[0;34m\u001b[0m\u001b[0m\n\u001b[0m\u001b[1;32m    131\u001b[0m             \u001b[0my\u001b[0m \u001b[0;34m=\u001b[0m \u001b[0mcheck_array\u001b[0m\u001b[0;34m(\u001b[0m\u001b[0my\u001b[0m\u001b[0;34m,\u001b[0m \u001b[0mensure_2d\u001b[0m\u001b[0;34m=\u001b[0m\u001b[0;32mFalse\u001b[0m\u001b[0;34m,\u001b[0m \u001b[0mdtype\u001b[0m\u001b[0;34m=\u001b[0m\u001b[0;32mNone\u001b[0m\u001b[0;34m)\u001b[0m\u001b[0;34m\u001b[0m\u001b[0;34m\u001b[0m\u001b[0m\n\u001b[1;32m    132\u001b[0m             \u001b[0;32mif\u001b[0m \u001b[0missparse\u001b[0m\u001b[0;34m(\u001b[0m\u001b[0mX\u001b[0m\u001b[0;34m)\u001b[0m\u001b[0;34m:\u001b[0m\u001b[0;34m\u001b[0m\u001b[0;34m\u001b[0m\u001b[0m\n",
            "\u001b[0;32m/usr/local/lib/python3.6/dist-packages/sklearn/utils/validation.py\u001b[0m in \u001b[0;36mcheck_array\u001b[0;34m(array, accept_sparse, accept_large_sparse, dtype, order, copy, force_all_finite, ensure_2d, allow_nd, ensure_min_samples, ensure_min_features, warn_on_dtype, estimator)\u001b[0m\n\u001b[1;32m    537\u001b[0m         \u001b[0;32mif\u001b[0m \u001b[0;32mnot\u001b[0m \u001b[0mallow_nd\u001b[0m \u001b[0;32mand\u001b[0m \u001b[0marray\u001b[0m\u001b[0;34m.\u001b[0m\u001b[0mndim\u001b[0m \u001b[0;34m>=\u001b[0m \u001b[0;36m3\u001b[0m\u001b[0;34m:\u001b[0m\u001b[0;34m\u001b[0m\u001b[0;34m\u001b[0m\u001b[0m\n\u001b[1;32m    538\u001b[0m             raise ValueError(\"Found array with dim %d. %s expected <= 2.\"\n\u001b[0;32m--> 539\u001b[0;31m                              % (array.ndim, estimator_name))\n\u001b[0m\u001b[1;32m    540\u001b[0m         \u001b[0;32mif\u001b[0m \u001b[0mforce_all_finite\u001b[0m\u001b[0;34m:\u001b[0m\u001b[0;34m\u001b[0m\u001b[0;34m\u001b[0m\u001b[0m\n\u001b[1;32m    541\u001b[0m             _assert_all_finite(array,\n",
            "\u001b[0;31mValueError\u001b[0m: Found array with dim 5. Estimator expected <= 2."
          ]
        }
      ]
    },
    {
      "cell_type": "markdown",
      "metadata": {
        "id": "pYGUJLph1YYE",
        "colab_type": "text"
      },
      "source": [
        "#Implementación con SVM"
      ]
    },
    {
      "cell_type": "code",
      "metadata": {
        "id": "-7PIfdYf1ejO",
        "colab_type": "code",
        "outputId": "9caedb3a-a396-4e72-be47-8f6189461910",
        "colab": {
          "base_uri": "https://localhost:8080/",
          "height": 390
        }
      },
      "source": [
        "modelo = SVC(C = 1, kernel = 'rbf', gamma = 'scale')\n",
        "modelo.fit(x_train, y_train)\n",
        "\n",
        "print(\"Error de Entrenamiento con SVM: {}\".format(1-modelo.score(x_train,y_train)))\n",
        "print(\"Error de Validación con SVM: {}\".format(1-modelo.score(x_test,y_test)))\n",
        "\n",
        "resultadosSVM = Resultados(modelo.predict(x_train), y_train, [], modelo, \"Ba\")\n",
        "resultadosSVM.graficarMatrizConfusion()\n",
        "resultadosSVM = Resultados(modelo.predict(x_test), y_test, [], modelo, \"Ba\")\n",
        "resultadosSVM.graficarMatrizConfusion()"
      ],
      "execution_count": 0,
      "outputs": [
        {
          "output_type": "error",
          "ename": "ValueError",
          "evalue": "ignored",
          "traceback": [
            "\u001b[0;31m---------------------------------------------------------------------------\u001b[0m",
            "\u001b[0;31mValueError\u001b[0m                                Traceback (most recent call last)",
            "\u001b[0;32m<ipython-input-22-db2cba46738f>\u001b[0m in \u001b[0;36m<module>\u001b[0;34m()\u001b[0m\n\u001b[1;32m      1\u001b[0m \u001b[0mmodelo\u001b[0m \u001b[0;34m=\u001b[0m \u001b[0mSVC\u001b[0m\u001b[0;34m(\u001b[0m\u001b[0mC\u001b[0m \u001b[0;34m=\u001b[0m \u001b[0;36m1\u001b[0m\u001b[0;34m,\u001b[0m \u001b[0mkernel\u001b[0m \u001b[0;34m=\u001b[0m \u001b[0;34m'rbf'\u001b[0m\u001b[0;34m,\u001b[0m \u001b[0mgamma\u001b[0m \u001b[0;34m=\u001b[0m \u001b[0;34m'scale'\u001b[0m\u001b[0;34m)\u001b[0m\u001b[0;34m\u001b[0m\u001b[0;34m\u001b[0m\u001b[0m\n\u001b[0;32m----> 2\u001b[0;31m \u001b[0mmodelo\u001b[0m\u001b[0;34m.\u001b[0m\u001b[0mfit\u001b[0m\u001b[0;34m(\u001b[0m\u001b[0mx_train\u001b[0m\u001b[0;34m,\u001b[0m \u001b[0my_train\u001b[0m\u001b[0;34m)\u001b[0m\u001b[0;34m\u001b[0m\u001b[0;34m\u001b[0m\u001b[0m\n\u001b[0m\u001b[1;32m      3\u001b[0m \u001b[0;34m\u001b[0m\u001b[0m\n\u001b[1;32m      4\u001b[0m \u001b[0mprint\u001b[0m\u001b[0;34m(\u001b[0m\u001b[0;34m\"Error de Entrenamiento con SVM: {}\"\u001b[0m\u001b[0;34m.\u001b[0m\u001b[0mformat\u001b[0m\u001b[0;34m(\u001b[0m\u001b[0;36m1\u001b[0m\u001b[0;34m-\u001b[0m\u001b[0mmodelo\u001b[0m\u001b[0;34m.\u001b[0m\u001b[0mscore\u001b[0m\u001b[0;34m(\u001b[0m\u001b[0mx_train\u001b[0m\u001b[0;34m,\u001b[0m\u001b[0my_train\u001b[0m\u001b[0;34m)\u001b[0m\u001b[0;34m)\u001b[0m\u001b[0;34m)\u001b[0m\u001b[0;34m\u001b[0m\u001b[0;34m\u001b[0m\u001b[0m\n\u001b[1;32m      5\u001b[0m \u001b[0mprint\u001b[0m\u001b[0;34m(\u001b[0m\u001b[0;34m\"Error de Validación con SVM: {}\"\u001b[0m\u001b[0;34m.\u001b[0m\u001b[0mformat\u001b[0m\u001b[0;34m(\u001b[0m\u001b[0;36m1\u001b[0m\u001b[0;34m-\u001b[0m\u001b[0mmodelo\u001b[0m\u001b[0;34m.\u001b[0m\u001b[0mscore\u001b[0m\u001b[0;34m(\u001b[0m\u001b[0mx_test\u001b[0m\u001b[0;34m,\u001b[0m\u001b[0my_test\u001b[0m\u001b[0;34m)\u001b[0m\u001b[0;34m)\u001b[0m\u001b[0;34m)\u001b[0m\u001b[0;34m\u001b[0m\u001b[0;34m\u001b[0m\u001b[0m\n",
            "\u001b[0;32m/usr/local/lib/python3.6/dist-packages/sklearn/svm/base.py\u001b[0m in \u001b[0;36mfit\u001b[0;34m(self, X, y, sample_weight)\u001b[0m\n\u001b[1;32m    144\u001b[0m         X, y = check_X_y(X, y, dtype=np.float64,\n\u001b[1;32m    145\u001b[0m                          \u001b[0morder\u001b[0m\u001b[0;34m=\u001b[0m\u001b[0;34m'C'\u001b[0m\u001b[0;34m,\u001b[0m \u001b[0maccept_sparse\u001b[0m\u001b[0;34m=\u001b[0m\u001b[0;34m'csr'\u001b[0m\u001b[0;34m,\u001b[0m\u001b[0;34m\u001b[0m\u001b[0;34m\u001b[0m\u001b[0m\n\u001b[0;32m--> 146\u001b[0;31m                          accept_large_sparse=False)\n\u001b[0m\u001b[1;32m    147\u001b[0m         \u001b[0my\u001b[0m \u001b[0;34m=\u001b[0m \u001b[0mself\u001b[0m\u001b[0;34m.\u001b[0m\u001b[0m_validate_targets\u001b[0m\u001b[0;34m(\u001b[0m\u001b[0my\u001b[0m\u001b[0;34m)\u001b[0m\u001b[0;34m\u001b[0m\u001b[0;34m\u001b[0m\u001b[0m\n\u001b[1;32m    148\u001b[0m \u001b[0;34m\u001b[0m\u001b[0m\n",
            "\u001b[0;32m/usr/local/lib/python3.6/dist-packages/sklearn/utils/validation.py\u001b[0m in \u001b[0;36mcheck_X_y\u001b[0;34m(X, y, accept_sparse, accept_large_sparse, dtype, order, copy, force_all_finite, ensure_2d, allow_nd, multi_output, ensure_min_samples, ensure_min_features, y_numeric, warn_on_dtype, estimator)\u001b[0m\n\u001b[1;32m    717\u001b[0m                     \u001b[0mensure_min_features\u001b[0m\u001b[0;34m=\u001b[0m\u001b[0mensure_min_features\u001b[0m\u001b[0;34m,\u001b[0m\u001b[0;34m\u001b[0m\u001b[0;34m\u001b[0m\u001b[0m\n\u001b[1;32m    718\u001b[0m                     \u001b[0mwarn_on_dtype\u001b[0m\u001b[0;34m=\u001b[0m\u001b[0mwarn_on_dtype\u001b[0m\u001b[0;34m,\u001b[0m\u001b[0;34m\u001b[0m\u001b[0;34m\u001b[0m\u001b[0m\n\u001b[0;32m--> 719\u001b[0;31m                     estimator=estimator)\n\u001b[0m\u001b[1;32m    720\u001b[0m     \u001b[0;32mif\u001b[0m \u001b[0mmulti_output\u001b[0m\u001b[0;34m:\u001b[0m\u001b[0;34m\u001b[0m\u001b[0;34m\u001b[0m\u001b[0m\n\u001b[1;32m    721\u001b[0m         y = check_array(y, 'csr', force_all_finite=True, ensure_2d=False,\n",
            "\u001b[0;32m/usr/local/lib/python3.6/dist-packages/sklearn/utils/validation.py\u001b[0m in \u001b[0;36mcheck_array\u001b[0;34m(array, accept_sparse, accept_large_sparse, dtype, order, copy, force_all_finite, ensure_2d, allow_nd, ensure_min_samples, ensure_min_features, warn_on_dtype, estimator)\u001b[0m\n\u001b[1;32m    537\u001b[0m         \u001b[0;32mif\u001b[0m \u001b[0;32mnot\u001b[0m \u001b[0mallow_nd\u001b[0m \u001b[0;32mand\u001b[0m \u001b[0marray\u001b[0m\u001b[0;34m.\u001b[0m\u001b[0mndim\u001b[0m \u001b[0;34m>=\u001b[0m \u001b[0;36m3\u001b[0m\u001b[0;34m:\u001b[0m\u001b[0;34m\u001b[0m\u001b[0;34m\u001b[0m\u001b[0m\n\u001b[1;32m    538\u001b[0m             raise ValueError(\"Found array with dim %d. %s expected <= 2.\"\n\u001b[0;32m--> 539\u001b[0;31m                              % (array.ndim, estimator_name))\n\u001b[0m\u001b[1;32m    540\u001b[0m         \u001b[0;32mif\u001b[0m \u001b[0mforce_all_finite\u001b[0m\u001b[0;34m:\u001b[0m\u001b[0;34m\u001b[0m\u001b[0;34m\u001b[0m\u001b[0m\n\u001b[1;32m    541\u001b[0m             _assert_all_finite(array,\n",
            "\u001b[0;31mValueError\u001b[0m: Found array with dim 5. Estimator expected <= 2."
          ]
        }
      ]
    },
    {
      "cell_type": "markdown",
      "metadata": {
        "id": "HPtrsS9l74jh",
        "colab_type": "text"
      },
      "source": [
        "#Implementación con Keras"
      ]
    },
    {
      "cell_type": "code",
      "metadata": {
        "id": "2FBwvBcx70qs",
        "colab_type": "code",
        "colab": {}
      },
      "source": [
        "#Estas funciones permiten guardar y cargar un modelo, a partir de las rutas indicadas por parametro.\n",
        "def guardarModelo(pModelo, pRutaModelo, pRutaPesos, pRutaDiagrama):\n",
        "  modelo_json = pModelo.to_json()\n",
        "\n",
        "  with open(pRutaModelo, \"w\") as archivo_json:\n",
        "      archivo_json.write(modelo_json)\n",
        "\n",
        "  pModelo.save_weights(pRutaPesos)\n",
        "\n",
        "  plot_model(pModelo, to_file = pRutaDiagrama, show_shapes = True)\n",
        "\n",
        "def cargarModelo(pRutaModelo, pRutaPesos):\n",
        "  archivo_json = open(pRutaModelo, 'r')\n",
        "  modelo_json = archivo_json.read()\n",
        "  archivo_json.close()\n",
        "  modelo = model_from_json(modelo_json)\n",
        "\n",
        "  modelo.load_weights(pRutaPesos)\n",
        "\n",
        "  return modelo\n",
        "\n",
        "def crearModelo():\n",
        "  modelo = Sequential()\n",
        "  modelo.add(Dense(64, use_bias = True, kernel_initializer='random_uniform', activation = \"relu\",activity_regularizer=l2(alpha), input_dim = 16))\n",
        "  modelo.add(Dense(32, use_bias = True, activation = \"relu\"))\n",
        "  modelo.add(Dense(16, use_bias = True, activation = \"sigmoid\"))\n",
        "  modelo.add(Dense(numClases, activation = \"softmax\"))\n",
        "\n",
        "  sgd = optimizers.SGD(lr = tasa)\n",
        "\n",
        "  modelo.compile(loss='sparse_categorical_crossentropy', optimizer = sgd, metrics = ['sparse_categorical_accuracy'])\n",
        "  modelo.summary()\n",
        "\n",
        "  return modelo\n",
        "\n",
        "def crearModelo2(pTasa, pAlpha, pNumFiltros, pTamFiltros, pTamPooling, pNumNeuronas, pOptimizer):\n",
        "  modelo = Sequential()\n",
        "\n",
        "  #Esto corresponderia a la parte convolucional.\n",
        "  modelo.add(Conv3D(pNumFiltros[0], int(pTamFiltros[0]), activation = 'relu', padding='same', input_shape = (64, 64, 30, 1)))\n",
        "  modelo.add(MaxPooling3D(int(pTamPooling[0]), padding='same'))\n",
        "\n",
        "  #modelo.add(Conv3D(pNumFiltros[1], int(pTamFiltros[1]), activation = 'relu', padding='same'))\n",
        "  #modelo.add(MaxPooling3D(int(pTamPooling[1]), padding='same'))\n",
        "  \n",
        "  #modelo.add(Conv3D(pNumFiltros[2], int(pTamFiltros[2]), activation = 'relu', padding='same'))\n",
        "  #modelo.add(MaxPooling3D(int(pTamPooling[2]), padding='same'))\n",
        "\n",
        "  # modelo.add(Conv3D(pNumFiltros[3], int(pTamFiltros[3]), activation = 'relu'))\n",
        "  # modelo.add(GlobalAveragePooling3D())\n",
        "  modelo.add(Flatten())\n",
        "\n",
        "  #Esto corresponderia a la parte de red neuronal normalita. (Puse cualquier cosa por ahora)\n",
        "\n",
        "  modelo.add(Dense(numClases, activation = 'softmax'))\n",
        "\n",
        "  sgd = optimizers.SGD(lr = pTasa, momentum=0.9)\n",
        "  adam = optimizers.Adam(lr = pTasa)\n",
        "  if pOptimizer == \"adam\":\n",
        "    opt=adam\n",
        "  elif pOptimizer ==\"sgd\":\n",
        "    opt=sgd\n",
        "  elif pOptimizer ==\"rmsprop\":\n",
        "    opt = \"rmsprop\"\n",
        "  \n",
        "  modelo.compile(loss='categorical_crossentropy', optimizer = opt, metrics = ['categorical_accuracy'])\n",
        "  modelo.summary()\n",
        "\n",
        "  return modelo\n",
        "\n",
        "\n",
        "def crearModelo3(pTasa, pAlpha, pOptimizer):\n",
        "  modelo = Sequential()\n",
        "\n",
        "  #Esto corresponderia a la parte convolucional.\n",
        "  modelo.add(Conv3D(numFiltros[0], int(tamFiltros[0]), activation = 'relu', padding='same', input_shape = (64, 64, 30, 1)))\n",
        "  modelo.add(MaxPooling3D(int(tamPooling[0]), padding='same'))\n",
        "\n",
        "  #modelo.add(Conv3D(numFiltros[1], int(tamFiltros[1]), activation = 'relu', padding='same'))\n",
        "  #modelo.add(MaxPooling3D(int(tamPooling[1]), padding='same'))\n",
        "  \n",
        "  #modelo.add(Conv3D(numFiltros[2], int(tamFiltros[2]), activation = 'relu', padding='same'))\n",
        "  #modelo.add(MaxPooling3D(int(tamPooling[2]), padding='same'))\n",
        "\n",
        "  # modelo.add(Conv3D(pNumFiltros[3], int(pTamFiltros[3]), activation = 'relu'))\n",
        "  # modelo.add(GlobalAveragePooling3D())\n",
        "  modelo.add(Flatten())\n",
        "\n",
        "  #Esto corresponderia a la parte de red neuronal normalita. (Puse cualquier cosa por ahora)\n",
        "\n",
        "  modelo.add(Dense(numClases, activation = 'softmax'))\n",
        "\n",
        "  sgd = optimizers.SGD(lr = pTasa, momentum=0.9)\n",
        "  adam = optimizers.Adam(lr = pTasa)\n",
        "  if pOptimizer == \"adam\":\n",
        "    opt=adam\n",
        "  elif pOptimizer ==\"sgd\":\n",
        "    opt=sgd\n",
        "  elif pOptimizer ==\"rmsprop\":\n",
        "    opt = \"rmsprop\"\n",
        "  \n",
        "  modelo.compile(loss='sparse_categorical_crossentropy', optimizer = opt, metrics = ['sparse_categorical_accuracy'])\n",
        "  modelo.summary()\n",
        "\n",
        "  return modelo"
      ],
      "execution_count": 0,
      "outputs": []
    },
    {
      "cell_type": "code",
      "metadata": {
        "id": "rlcKZ3JfBF4D",
        "colab_type": "code",
        "outputId": "4100ba8d-10e2-4c85-82fd-14c15a8f83b9",
        "colab": {
          "base_uri": "https://localhost:8080/",
          "height": 755
        }
      },
      "source": [
        "#Esta celda construye los modelos, a partir de los parametros especificados por cada una de las siguientes variables.\n",
        "\n",
        "#Es el numero de clases.\n",
        "numClases = 3\n",
        "\n",
        "#Es el numero de filtros que cada capa convolucional utiliza.\n",
        "numFiltros = np.array([5, 5, 5, 10, 10, 10])\n",
        "\n",
        "#Es el tamaño de los filtros utilizados en cada capa convolucional.\n",
        "tamFiltros = np.array([3, 3, 3, 8, 8, 5])\n",
        "\n",
        "#Es el tamaño de cada capa de Pooling.\n",
        "tamPooling = np.array([2, 2, 2, 3, 3, 3])\n",
        "\n",
        "#Es el numero de neuronas en cada capa de la red neuronal que sigue despues de la parte convolucional.\n",
        "numNeuronas = np.array([10, 20, 10])\n",
        "\n",
        "#Es el tipo de optimizador a utilizar.\n",
        "#Se pueden especificar: \"sgd\", \"adam\" o \"rmsprop\"\n",
        "optimizer=\"adam\"\n",
        "\n",
        "#Es la tasa de aprendizaje del optimizador.\n",
        "tasa = 0.001\n",
        "\n",
        "#Es el parametro de regularizacion a utilizar.\n",
        "alpha = 0.01\n",
        "\n",
        "# modelo = crearModelo()\n",
        "modelo = crearModelo2(tasa, alpha, numFiltros, tamFiltros, tamPooling, numNeuronas, optimizer)\n",
        "\n",
        "#Esta linea muestra un diagrama de la red neuronal.\n",
        "SVG(model_to_dot(modelo, show_shapes = True, expand_nested = True, dpi = 65).create(prog='dot', format='svg'))"
      ],
      "execution_count": 0,
      "outputs": [
        {
          "output_type": "stream",
          "text": [
            "Model: \"sequential_8\"\n",
            "_________________________________________________________________\n",
            "Layer (type)                 Output Shape              Param #   \n",
            "=================================================================\n",
            "conv3d_22 (Conv3D)           (None, 64, 64, 30, 5)     140       \n",
            "_________________________________________________________________\n",
            "max_pooling3d_22 (MaxPooling (None, 32, 32, 15, 5)     0         \n",
            "_________________________________________________________________\n",
            "flatten_8 (Flatten)          (None, 76800)             0         \n",
            "_________________________________________________________________\n",
            "dense_8 (Dense)              (None, 3)                 230403    \n",
            "=================================================================\n",
            "Total params: 230,543\n",
            "Trainable params: 230,543\n",
            "Non-trainable params: 0\n",
            "_________________________________________________________________\n"
          ],
          "name": "stdout"
        },
        {
          "output_type": "execute_result",
          "data": {
            "text/plain": [
              "<IPython.core.display.SVG object>"
            ],
            "image/svg+xml": "<svg height=\"349pt\" viewBox=\"0.00 0.00 435.00 387.00\" width=\"393pt\" xmlns=\"http://www.w3.org/2000/svg\" xmlns:xlink=\"http://www.w3.org/1999/xlink\">\n<g class=\"graph\" id=\"graph0\" transform=\"scale(.9028 .9028) rotate(0) translate(4 383)\">\n<title>G</title>\n<polygon fill=\"#ffffff\" points=\"-4,4 -4,-383 431,-383 431,4 -4,4\" stroke=\"transparent\"/>\n<!-- 140573970232992 -->\n<g class=\"node\" id=\"node1\">\n<title>140573970232992</title>\n<polygon fill=\"none\" points=\"19,-332.5 19,-378.5 408,-378.5 408,-332.5 19,-332.5\" stroke=\"#000000\"/>\n<text fill=\"#000000\" font-family=\"Times,serif\" font-size=\"14.00\" text-anchor=\"middle\" x=\"114.5\" y=\"-351.8\">conv3d_22_input: InputLayer</text>\n<polyline fill=\"none\" points=\"210,-332.5 210,-378.5 \" stroke=\"#000000\"/>\n<text fill=\"#000000\" font-family=\"Times,serif\" font-size=\"14.00\" text-anchor=\"middle\" x=\"239\" y=\"-363.3\">input:</text>\n<polyline fill=\"none\" points=\"210,-355.5 268,-355.5 \" stroke=\"#000000\"/>\n<text fill=\"#000000\" font-family=\"Times,serif\" font-size=\"14.00\" text-anchor=\"middle\" x=\"239\" y=\"-340.3\">output:</text>\n<polyline fill=\"none\" points=\"268,-332.5 268,-378.5 \" stroke=\"#000000\"/>\n<text fill=\"#000000\" font-family=\"Times,serif\" font-size=\"14.00\" text-anchor=\"middle\" x=\"338\" y=\"-363.3\">(None, 64, 64, 30, 1)</text>\n<polyline fill=\"none\" points=\"268,-355.5 408,-355.5 \" stroke=\"#000000\"/>\n<text fill=\"#000000\" font-family=\"Times,serif\" font-size=\"14.00\" text-anchor=\"middle\" x=\"338\" y=\"-340.3\">(None, 64, 64, 30, 1)</text>\n</g>\n<!-- 140573970210544 -->\n<g class=\"node\" id=\"node2\">\n<title>140573970210544</title>\n<polygon fill=\"none\" points=\"44.5,-249.5 44.5,-295.5 382.5,-295.5 382.5,-249.5 44.5,-249.5\" stroke=\"#000000\"/>\n<text fill=\"#000000\" font-family=\"Times,serif\" font-size=\"14.00\" text-anchor=\"middle\" x=\"114.5\" y=\"-268.8\">conv3d_22: Conv3D</text>\n<polyline fill=\"none\" points=\"184.5,-249.5 184.5,-295.5 \" stroke=\"#000000\"/>\n<text fill=\"#000000\" font-family=\"Times,serif\" font-size=\"14.00\" text-anchor=\"middle\" x=\"213.5\" y=\"-280.3\">input:</text>\n<polyline fill=\"none\" points=\"184.5,-272.5 242.5,-272.5 \" stroke=\"#000000\"/>\n<text fill=\"#000000\" font-family=\"Times,serif\" font-size=\"14.00\" text-anchor=\"middle\" x=\"213.5\" y=\"-257.3\">output:</text>\n<polyline fill=\"none\" points=\"242.5,-249.5 242.5,-295.5 \" stroke=\"#000000\"/>\n<text fill=\"#000000\" font-family=\"Times,serif\" font-size=\"14.00\" text-anchor=\"middle\" x=\"312.5\" y=\"-280.3\">(None, 64, 64, 30, 1)</text>\n<polyline fill=\"none\" points=\"242.5,-272.5 382.5,-272.5 \" stroke=\"#000000\"/>\n<text fill=\"#000000\" font-family=\"Times,serif\" font-size=\"14.00\" text-anchor=\"middle\" x=\"312.5\" y=\"-257.3\">(None, 64, 64, 30, 5)</text>\n</g>\n<!-- 140573970232992&#45;&gt;140573970210544 -->\n<g class=\"edge\" id=\"edge1\">\n<title>140573970232992-&gt;140573970210544</title>\n<path d=\"M213.5,-332.3799C213.5,-324.1745 213.5,-314.7679 213.5,-305.8786\" fill=\"none\" stroke=\"#000000\"/>\n<polygon fill=\"#000000\" points=\"217.0001,-305.784 213.5,-295.784 210.0001,-305.784 217.0001,-305.784\" stroke=\"#000000\"/>\n</g>\n<!-- 140577393173448 -->\n<g class=\"node\" id=\"node3\">\n<title>140577393173448</title>\n<polygon fill=\"none\" points=\"0,-166.5 0,-212.5 427,-212.5 427,-166.5 0,-166.5\" stroke=\"#000000\"/>\n<text fill=\"#000000\" font-family=\"Times,serif\" font-size=\"14.00\" text-anchor=\"middle\" x=\"114.5\" y=\"-185.8\">max_pooling3d_22: MaxPooling3D</text>\n<polyline fill=\"none\" points=\"229,-166.5 229,-212.5 \" stroke=\"#000000\"/>\n<text fill=\"#000000\" font-family=\"Times,serif\" font-size=\"14.00\" text-anchor=\"middle\" x=\"258\" y=\"-197.3\">input:</text>\n<polyline fill=\"none\" points=\"229,-189.5 287,-189.5 \" stroke=\"#000000\"/>\n<text fill=\"#000000\" font-family=\"Times,serif\" font-size=\"14.00\" text-anchor=\"middle\" x=\"258\" y=\"-174.3\">output:</text>\n<polyline fill=\"none\" points=\"287,-166.5 287,-212.5 \" stroke=\"#000000\"/>\n<text fill=\"#000000\" font-family=\"Times,serif\" font-size=\"14.00\" text-anchor=\"middle\" x=\"357\" y=\"-197.3\">(None, 64, 64, 30, 5)</text>\n<polyline fill=\"none\" points=\"287,-189.5 427,-189.5 \" stroke=\"#000000\"/>\n<text fill=\"#000000\" font-family=\"Times,serif\" font-size=\"14.00\" text-anchor=\"middle\" x=\"357\" y=\"-174.3\">(None, 32, 32, 15, 5)</text>\n</g>\n<!-- 140573970210544&#45;&gt;140577393173448 -->\n<g class=\"edge\" id=\"edge2\">\n<title>140573970210544-&gt;140577393173448</title>\n<path d=\"M213.5,-249.3799C213.5,-241.1745 213.5,-231.7679 213.5,-222.8786\" fill=\"none\" stroke=\"#000000\"/>\n<polygon fill=\"#000000\" points=\"217.0001,-222.784 213.5,-212.784 210.0001,-222.784 217.0001,-222.784\" stroke=\"#000000\"/>\n</g>\n<!-- 140576034466448 -->\n<g class=\"node\" id=\"node4\">\n<title>140576034466448</title>\n<polygon fill=\"none\" points=\"58,-83.5 58,-129.5 369,-129.5 369,-83.5 58,-83.5\" stroke=\"#000000\"/>\n<text fill=\"#000000\" font-family=\"Times,serif\" font-size=\"14.00\" text-anchor=\"middle\" x=\"114.5\" y=\"-102.8\">flatten_8: Flatten</text>\n<polyline fill=\"none\" points=\"171,-83.5 171,-129.5 \" stroke=\"#000000\"/>\n<text fill=\"#000000\" font-family=\"Times,serif\" font-size=\"14.00\" text-anchor=\"middle\" x=\"200\" y=\"-114.3\">input:</text>\n<polyline fill=\"none\" points=\"171,-106.5 229,-106.5 \" stroke=\"#000000\"/>\n<text fill=\"#000000\" font-family=\"Times,serif\" font-size=\"14.00\" text-anchor=\"middle\" x=\"200\" y=\"-91.3\">output:</text>\n<polyline fill=\"none\" points=\"229,-83.5 229,-129.5 \" stroke=\"#000000\"/>\n<text fill=\"#000000\" font-family=\"Times,serif\" font-size=\"14.00\" text-anchor=\"middle\" x=\"299\" y=\"-114.3\">(None, 32, 32, 15, 5)</text>\n<polyline fill=\"none\" points=\"229,-106.5 369,-106.5 \" stroke=\"#000000\"/>\n<text fill=\"#000000\" font-family=\"Times,serif\" font-size=\"14.00\" text-anchor=\"middle\" x=\"299\" y=\"-91.3\">(None, 76800)</text>\n</g>\n<!-- 140577393173448&#45;&gt;140576034466448 -->\n<g class=\"edge\" id=\"edge3\">\n<title>140577393173448-&gt;140576034466448</title>\n<path d=\"M213.5,-166.3799C213.5,-158.1745 213.5,-148.7679 213.5,-139.8786\" fill=\"none\" stroke=\"#000000\"/>\n<polygon fill=\"#000000\" points=\"217.0001,-139.784 213.5,-129.784 210.0001,-139.784 217.0001,-139.784\" stroke=\"#000000\"/>\n</g>\n<!-- 140577951104920 -->\n<g class=\"node\" id=\"node5\">\n<title>140577951104920</title>\n<polygon fill=\"none\" points=\"80,-.5 80,-46.5 347,-46.5 347,-.5 80,-.5\" stroke=\"#000000\"/>\n<text fill=\"#000000\" font-family=\"Times,serif\" font-size=\"14.00\" text-anchor=\"middle\" x=\"133.5\" y=\"-19.8\">dense_8: Dense</text>\n<polyline fill=\"none\" points=\"187,-.5 187,-46.5 \" stroke=\"#000000\"/>\n<text fill=\"#000000\" font-family=\"Times,serif\" font-size=\"14.00\" text-anchor=\"middle\" x=\"216\" y=\"-31.3\">input:</text>\n<polyline fill=\"none\" points=\"187,-23.5 245,-23.5 \" stroke=\"#000000\"/>\n<text fill=\"#000000\" font-family=\"Times,serif\" font-size=\"14.00\" text-anchor=\"middle\" x=\"216\" y=\"-8.3\">output:</text>\n<polyline fill=\"none\" points=\"245,-.5 245,-46.5 \" stroke=\"#000000\"/>\n<text fill=\"#000000\" font-family=\"Times,serif\" font-size=\"14.00\" text-anchor=\"middle\" x=\"296\" y=\"-31.3\">(None, 76800)</text>\n<polyline fill=\"none\" points=\"245,-23.5 347,-23.5 \" stroke=\"#000000\"/>\n<text fill=\"#000000\" font-family=\"Times,serif\" font-size=\"14.00\" text-anchor=\"middle\" x=\"296\" y=\"-8.3\">(None, 3)</text>\n</g>\n<!-- 140576034466448&#45;&gt;140577951104920 -->\n<g class=\"edge\" id=\"edge4\">\n<title>140576034466448-&gt;140577951104920</title>\n<path d=\"M213.5,-83.3799C213.5,-75.1745 213.5,-65.7679 213.5,-56.8786\" fill=\"none\" stroke=\"#000000\"/>\n<polygon fill=\"#000000\" points=\"217.0001,-56.784 213.5,-46.784 210.0001,-56.784 217.0001,-56.784\" stroke=\"#000000\"/>\n</g>\n</g>\n</svg>"
          },
          "metadata": {
            "tags": []
          },
          "execution_count": 30
        }
      ]
    },
    {
      "cell_type": "code",
      "metadata": {
        "id": "ICZAYMB8BEdD",
        "colab_type": "code",
        "outputId": "73c32536-7354-48ab-db7d-ce70148e88ff",
        "colab": {
          "base_uri": "https://localhost:8080/",
          "height": 844
        }
      },
      "source": [
        "epocas = 100\n",
        "batchSize = 32\n",
        "\n",
        "rutaModelo = \"drive/My Drive/ModelosProyecto/Modelo.json\"\n",
        "rutaPesos = \"drive/My Drive/ModelosProyecto/PesosModelo.h5\"\n",
        "rutaDiagrama = \"drive/My Drive/ModelosProyecto/DiagramaModelo.png\"\n",
        "\n",
        "hists = []\n",
        "\n",
        "for i in range(0,1):\n",
        "  hist = modelo.fit(x_train, y2, verbose = 1, validation_data=(x_test, y3), epochs = epocas, batch_size = batchSize)\n",
        "  \n",
        "  hists.append(hist)\n",
        "  \n",
        "  # guardarModelo(modelo, rutaModelo, rutaPesos, rutaDiagrama)\n",
        "\n",
        "  # y_prob = modelo.predict(x_train)\n",
        "  # y_pred = y_prob.argmax(axis=-1)\n",
        "                        \n",
        "  # resultadosEntrenamiento = Resultados(y_train, y_pred, hist, modelo, \"Prueba\")\n",
        "  # resultadosEntrenamiento.graficarHistoria()\n",
        "\n",
        "  # y_prob = modelo.predict(x_test)\n",
        "  # y_pred = y_prob.argmax(axis=-1)\n",
        "                        \n",
        "  # resultadosValidacion = Resultados(y_test, y_pred, hist, modelo, \"Prueba\")\n",
        "\n",
        "  # resultadosEntrenamiento.darReporte()\n",
        "  # resultadosValidacion.darReporte()\n",
        "  \n",
        "  # resultadosEntrenamiento.graficarMatrizConfusion()\n",
        "  # resultadosValidacion.graficarMatrizConfusion()"
      ],
      "execution_count": 0,
      "outputs": [
        {
          "output_type": "stream",
          "text": [
            "Train on 3982 samples, validate on 443 samples\n",
            "Epoch 1/100\n",
            "3982/3982 [==============================] - 6s 2ms/step - loss: 10.7589 - categorical_accuracy: 0.3325 - val_loss: 10.7333 - val_categorical_accuracy: 0.3341\n",
            "Epoch 2/100\n",
            "3982/3982 [==============================] - 5s 1ms/step - loss: 10.7467 - categorical_accuracy: 0.3332 - val_loss: 10.7333 - val_categorical_accuracy: 0.3341\n",
            "Epoch 3/100\n",
            "3982/3982 [==============================] - 5s 1ms/step - loss: 10.7467 - categorical_accuracy: 0.3332 - val_loss: 10.7333 - val_categorical_accuracy: 0.3341\n",
            "Epoch 4/100\n",
            "3982/3982 [==============================] - 6s 1ms/step - loss: 10.7467 - categorical_accuracy: 0.3332 - val_loss: 10.7333 - val_categorical_accuracy: 0.3341\n",
            "Epoch 5/100\n",
            "3982/3982 [==============================] - 5s 1ms/step - loss: 10.7467 - categorical_accuracy: 0.3332 - val_loss: 10.7333 - val_categorical_accuracy: 0.3341\n",
            "Epoch 6/100\n",
            "3982/3982 [==============================] - 5s 1ms/step - loss: 10.7467 - categorical_accuracy: 0.3332 - val_loss: 10.7333 - val_categorical_accuracy: 0.3341\n",
            "Epoch 7/100\n",
            "3982/3982 [==============================] - 5s 1ms/step - loss: 10.7467 - categorical_accuracy: 0.3332 - val_loss: 10.7333 - val_categorical_accuracy: 0.3341\n",
            "Epoch 8/100\n",
            "3982/3982 [==============================] - 5s 1ms/step - loss: 10.7467 - categorical_accuracy: 0.3332 - val_loss: 10.7333 - val_categorical_accuracy: 0.3341\n",
            "Epoch 9/100\n",
            "3982/3982 [==============================] - 5s 1ms/step - loss: 10.7467 - categorical_accuracy: 0.3332 - val_loss: 10.7333 - val_categorical_accuracy: 0.3341\n",
            "Epoch 10/100\n",
            "3982/3982 [==============================] - 5s 1ms/step - loss: 10.7467 - categorical_accuracy: 0.3332 - val_loss: 10.7333 - val_categorical_accuracy: 0.3341\n",
            "Epoch 11/100\n",
            "3982/3982 [==============================] - 5s 1ms/step - loss: 10.7467 - categorical_accuracy: 0.3332 - val_loss: 10.7333 - val_categorical_accuracy: 0.3341\n",
            "Epoch 12/100\n",
            "3982/3982 [==============================] - 5s 1ms/step - loss: 10.7467 - categorical_accuracy: 0.3332 - val_loss: 10.7333 - val_categorical_accuracy: 0.3341\n",
            "Epoch 13/100\n",
            "3808/3982 [===========================>..] - ETA: 0s - loss: 10.7553 - categorical_accuracy: 0.3327"
          ],
          "name": "stdout"
        },
        {
          "output_type": "error",
          "ename": "KeyboardInterrupt",
          "evalue": "ignored",
          "traceback": [
            "\u001b[0;31m---------------------------------------------------------------------------\u001b[0m",
            "\u001b[0;31mKeyboardInterrupt\u001b[0m                         Traceback (most recent call last)",
            "\u001b[0;32m<ipython-input-31-f94cfd87bb06>\u001b[0m in \u001b[0;36m<module>\u001b[0;34m()\u001b[0m\n\u001b[1;32m      9\u001b[0m \u001b[0;34m\u001b[0m\u001b[0m\n\u001b[1;32m     10\u001b[0m \u001b[0;32mfor\u001b[0m \u001b[0mi\u001b[0m \u001b[0;32min\u001b[0m \u001b[0mrange\u001b[0m\u001b[0;34m(\u001b[0m\u001b[0;36m0\u001b[0m\u001b[0;34m,\u001b[0m\u001b[0;36m1\u001b[0m\u001b[0;34m)\u001b[0m\u001b[0;34m:\u001b[0m\u001b[0;34m\u001b[0m\u001b[0;34m\u001b[0m\u001b[0m\n\u001b[0;32m---> 11\u001b[0;31m   \u001b[0mhist\u001b[0m \u001b[0;34m=\u001b[0m \u001b[0mmodelo\u001b[0m\u001b[0;34m.\u001b[0m\u001b[0mfit\u001b[0m\u001b[0;34m(\u001b[0m\u001b[0mx_train\u001b[0m\u001b[0;34m,\u001b[0m \u001b[0my2\u001b[0m\u001b[0;34m,\u001b[0m \u001b[0mverbose\u001b[0m \u001b[0;34m=\u001b[0m \u001b[0;36m1\u001b[0m\u001b[0;34m,\u001b[0m \u001b[0mvalidation_data\u001b[0m\u001b[0;34m=\u001b[0m\u001b[0;34m(\u001b[0m\u001b[0mx_test\u001b[0m\u001b[0;34m,\u001b[0m \u001b[0my3\u001b[0m\u001b[0;34m)\u001b[0m\u001b[0;34m,\u001b[0m \u001b[0mepochs\u001b[0m \u001b[0;34m=\u001b[0m \u001b[0mepocas\u001b[0m\u001b[0;34m,\u001b[0m \u001b[0mbatch_size\u001b[0m \u001b[0;34m=\u001b[0m \u001b[0mbatchSize\u001b[0m\u001b[0;34m)\u001b[0m\u001b[0;34m\u001b[0m\u001b[0;34m\u001b[0m\u001b[0m\n\u001b[0m\u001b[1;32m     12\u001b[0m \u001b[0;34m\u001b[0m\u001b[0m\n\u001b[1;32m     13\u001b[0m   \u001b[0mhists\u001b[0m\u001b[0;34m.\u001b[0m\u001b[0mappend\u001b[0m\u001b[0;34m(\u001b[0m\u001b[0mhist\u001b[0m\u001b[0;34m)\u001b[0m\u001b[0;34m\u001b[0m\u001b[0;34m\u001b[0m\u001b[0m\n",
            "\u001b[0;32m/usr/local/lib/python3.6/dist-packages/keras/engine/training.py\u001b[0m in \u001b[0;36mfit\u001b[0;34m(self, x, y, batch_size, epochs, verbose, callbacks, validation_split, validation_data, shuffle, class_weight, sample_weight, initial_epoch, steps_per_epoch, validation_steps, validation_freq, max_queue_size, workers, use_multiprocessing, **kwargs)\u001b[0m\n\u001b[1;32m   1176\u001b[0m                                         \u001b[0msteps_per_epoch\u001b[0m\u001b[0;34m=\u001b[0m\u001b[0msteps_per_epoch\u001b[0m\u001b[0;34m,\u001b[0m\u001b[0;34m\u001b[0m\u001b[0;34m\u001b[0m\u001b[0m\n\u001b[1;32m   1177\u001b[0m                                         \u001b[0mvalidation_steps\u001b[0m\u001b[0;34m=\u001b[0m\u001b[0mvalidation_steps\u001b[0m\u001b[0;34m,\u001b[0m\u001b[0;34m\u001b[0m\u001b[0;34m\u001b[0m\u001b[0m\n\u001b[0;32m-> 1178\u001b[0;31m                                         validation_freq=validation_freq)\n\u001b[0m\u001b[1;32m   1179\u001b[0m \u001b[0;34m\u001b[0m\u001b[0m\n\u001b[1;32m   1180\u001b[0m     def evaluate(self,\n",
            "\u001b[0;32m/usr/local/lib/python3.6/dist-packages/keras/engine/training_arrays.py\u001b[0m in \u001b[0;36mfit_loop\u001b[0;34m(model, fit_function, fit_inputs, out_labels, batch_size, epochs, verbose, callbacks, val_function, val_inputs, shuffle, callback_metrics, initial_epoch, steps_per_epoch, validation_steps, validation_freq)\u001b[0m\n\u001b[1;32m    207\u001b[0m                     \u001b[0mbatch_logs\u001b[0m\u001b[0;34m[\u001b[0m\u001b[0ml\u001b[0m\u001b[0;34m]\u001b[0m \u001b[0;34m=\u001b[0m \u001b[0mo\u001b[0m\u001b[0;34m\u001b[0m\u001b[0;34m\u001b[0m\u001b[0m\n\u001b[1;32m    208\u001b[0m \u001b[0;34m\u001b[0m\u001b[0m\n\u001b[0;32m--> 209\u001b[0;31m                 \u001b[0mcallbacks\u001b[0m\u001b[0;34m.\u001b[0m\u001b[0m_call_batch_hook\u001b[0m\u001b[0;34m(\u001b[0m\u001b[0;34m'train'\u001b[0m\u001b[0;34m,\u001b[0m \u001b[0;34m'end'\u001b[0m\u001b[0;34m,\u001b[0m \u001b[0mbatch_index\u001b[0m\u001b[0;34m,\u001b[0m \u001b[0mbatch_logs\u001b[0m\u001b[0;34m)\u001b[0m\u001b[0;34m\u001b[0m\u001b[0;34m\u001b[0m\u001b[0m\n\u001b[0m\u001b[1;32m    210\u001b[0m                 \u001b[0;32mif\u001b[0m \u001b[0mcallbacks\u001b[0m\u001b[0;34m.\u001b[0m\u001b[0mmodel\u001b[0m\u001b[0;34m.\u001b[0m\u001b[0mstop_training\u001b[0m\u001b[0;34m:\u001b[0m\u001b[0;34m\u001b[0m\u001b[0;34m\u001b[0m\u001b[0m\n\u001b[1;32m    211\u001b[0m                     \u001b[0;32mbreak\u001b[0m\u001b[0;34m\u001b[0m\u001b[0;34m\u001b[0m\u001b[0m\n",
            "\u001b[0;32m/usr/local/lib/python3.6/dist-packages/keras/callbacks.py\u001b[0m in \u001b[0;36m_call_batch_hook\u001b[0;34m(self, mode, hook, batch, logs)\u001b[0m\n\u001b[1;32m     83\u001b[0m         \u001b[0;32mfor\u001b[0m \u001b[0mcallback\u001b[0m \u001b[0;32min\u001b[0m \u001b[0mself\u001b[0m\u001b[0;34m.\u001b[0m\u001b[0mcallbacks\u001b[0m\u001b[0;34m:\u001b[0m\u001b[0;34m\u001b[0m\u001b[0;34m\u001b[0m\u001b[0m\n\u001b[1;32m     84\u001b[0m             \u001b[0mbatch_hook\u001b[0m \u001b[0;34m=\u001b[0m \u001b[0mgetattr\u001b[0m\u001b[0;34m(\u001b[0m\u001b[0mcallback\u001b[0m\u001b[0;34m,\u001b[0m \u001b[0mhook_name\u001b[0m\u001b[0;34m)\u001b[0m\u001b[0;34m\u001b[0m\u001b[0;34m\u001b[0m\u001b[0m\n\u001b[0;32m---> 85\u001b[0;31m             \u001b[0mbatch_hook\u001b[0m\u001b[0;34m(\u001b[0m\u001b[0mbatch\u001b[0m\u001b[0;34m,\u001b[0m \u001b[0mlogs\u001b[0m\u001b[0;34m)\u001b[0m\u001b[0;34m\u001b[0m\u001b[0;34m\u001b[0m\u001b[0m\n\u001b[0m\u001b[1;32m     86\u001b[0m         \u001b[0mself\u001b[0m\u001b[0;34m.\u001b[0m\u001b[0m_delta_ts\u001b[0m\u001b[0;34m[\u001b[0m\u001b[0mhook_name\u001b[0m\u001b[0;34m]\u001b[0m\u001b[0;34m.\u001b[0m\u001b[0mappend\u001b[0m\u001b[0;34m(\u001b[0m\u001b[0mtime\u001b[0m\u001b[0;34m.\u001b[0m\u001b[0mtime\u001b[0m\u001b[0;34m(\u001b[0m\u001b[0;34m)\u001b[0m \u001b[0;34m-\u001b[0m \u001b[0mt_before_callbacks\u001b[0m\u001b[0;34m)\u001b[0m\u001b[0;34m\u001b[0m\u001b[0;34m\u001b[0m\u001b[0m\n\u001b[1;32m     87\u001b[0m \u001b[0;34m\u001b[0m\u001b[0m\n",
            "\u001b[0;32m/usr/local/lib/python3.6/dist-packages/keras/callbacks.py\u001b[0m in \u001b[0;36mon_train_batch_end\u001b[0;34m(self, batch, logs)\u001b[0m\n\u001b[1;32m    364\u001b[0m         \"\"\"\n\u001b[1;32m    365\u001b[0m         \u001b[0;31m# For backwards compatibility\u001b[0m\u001b[0;34m\u001b[0m\u001b[0;34m\u001b[0m\u001b[0;34m\u001b[0m\u001b[0m\n\u001b[0;32m--> 366\u001b[0;31m         \u001b[0mself\u001b[0m\u001b[0;34m.\u001b[0m\u001b[0mon_batch_end\u001b[0m\u001b[0;34m(\u001b[0m\u001b[0mbatch\u001b[0m\u001b[0;34m,\u001b[0m \u001b[0mlogs\u001b[0m\u001b[0;34m=\u001b[0m\u001b[0mlogs\u001b[0m\u001b[0;34m)\u001b[0m\u001b[0;34m\u001b[0m\u001b[0;34m\u001b[0m\u001b[0m\n\u001b[0m\u001b[1;32m    367\u001b[0m \u001b[0;34m\u001b[0m\u001b[0m\n\u001b[1;32m    368\u001b[0m     \u001b[0;32mdef\u001b[0m \u001b[0mon_test_batch_begin\u001b[0m\u001b[0;34m(\u001b[0m\u001b[0mself\u001b[0m\u001b[0;34m,\u001b[0m \u001b[0mbatch\u001b[0m\u001b[0;34m,\u001b[0m \u001b[0mlogs\u001b[0m\u001b[0;34m=\u001b[0m\u001b[0;32mNone\u001b[0m\u001b[0;34m)\u001b[0m\u001b[0;34m:\u001b[0m\u001b[0;34m\u001b[0m\u001b[0;34m\u001b[0m\u001b[0m\n",
            "\u001b[0;32m/usr/local/lib/python3.6/dist-packages/keras/callbacks.py\u001b[0m in \u001b[0;36mon_batch_end\u001b[0;34m(self, batch, logs)\u001b[0m\n\u001b[1;32m    601\u001b[0m         \u001b[0;31m# will be handled by on_epoch_end.\u001b[0m\u001b[0;34m\u001b[0m\u001b[0;34m\u001b[0m\u001b[0;34m\u001b[0m\u001b[0m\n\u001b[1;32m    602\u001b[0m         \u001b[0;32mif\u001b[0m \u001b[0mself\u001b[0m\u001b[0;34m.\u001b[0m\u001b[0mverbose\u001b[0m \u001b[0;32mand\u001b[0m \u001b[0mself\u001b[0m\u001b[0;34m.\u001b[0m\u001b[0mseen\u001b[0m \u001b[0;34m<\u001b[0m \u001b[0mself\u001b[0m\u001b[0;34m.\u001b[0m\u001b[0mtarget\u001b[0m\u001b[0;34m:\u001b[0m\u001b[0;34m\u001b[0m\u001b[0;34m\u001b[0m\u001b[0m\n\u001b[0;32m--> 603\u001b[0;31m             \u001b[0mself\u001b[0m\u001b[0;34m.\u001b[0m\u001b[0mprogbar\u001b[0m\u001b[0;34m.\u001b[0m\u001b[0mupdate\u001b[0m\u001b[0;34m(\u001b[0m\u001b[0mself\u001b[0m\u001b[0;34m.\u001b[0m\u001b[0mseen\u001b[0m\u001b[0;34m,\u001b[0m \u001b[0mself\u001b[0m\u001b[0;34m.\u001b[0m\u001b[0mlog_values\u001b[0m\u001b[0;34m)\u001b[0m\u001b[0;34m\u001b[0m\u001b[0;34m\u001b[0m\u001b[0m\n\u001b[0m\u001b[1;32m    604\u001b[0m \u001b[0;34m\u001b[0m\u001b[0m\n\u001b[1;32m    605\u001b[0m     \u001b[0;32mdef\u001b[0m \u001b[0mon_epoch_end\u001b[0m\u001b[0;34m(\u001b[0m\u001b[0mself\u001b[0m\u001b[0;34m,\u001b[0m \u001b[0mepoch\u001b[0m\u001b[0;34m,\u001b[0m \u001b[0mlogs\u001b[0m\u001b[0;34m=\u001b[0m\u001b[0;32mNone\u001b[0m\u001b[0;34m)\u001b[0m\u001b[0;34m:\u001b[0m\u001b[0;34m\u001b[0m\u001b[0;34m\u001b[0m\u001b[0m\n",
            "\u001b[0;32m/usr/local/lib/python3.6/dist-packages/keras/utils/generic_utils.py\u001b[0m in \u001b[0;36mupdate\u001b[0;34m(self, current, values)\u001b[0m\n\u001b[1;32m    451\u001b[0m \u001b[0;34m\u001b[0m\u001b[0m\n\u001b[1;32m    452\u001b[0m             \u001b[0msys\u001b[0m\u001b[0;34m.\u001b[0m\u001b[0mstdout\u001b[0m\u001b[0;34m.\u001b[0m\u001b[0mwrite\u001b[0m\u001b[0;34m(\u001b[0m\u001b[0minfo\u001b[0m\u001b[0;34m)\u001b[0m\u001b[0;34m\u001b[0m\u001b[0;34m\u001b[0m\u001b[0m\n\u001b[0;32m--> 453\u001b[0;31m             \u001b[0msys\u001b[0m\u001b[0;34m.\u001b[0m\u001b[0mstdout\u001b[0m\u001b[0;34m.\u001b[0m\u001b[0mflush\u001b[0m\u001b[0;34m(\u001b[0m\u001b[0;34m)\u001b[0m\u001b[0;34m\u001b[0m\u001b[0;34m\u001b[0m\u001b[0m\n\u001b[0m\u001b[1;32m    454\u001b[0m \u001b[0;34m\u001b[0m\u001b[0m\n\u001b[1;32m    455\u001b[0m         \u001b[0;32melif\u001b[0m \u001b[0mself\u001b[0m\u001b[0;34m.\u001b[0m\u001b[0mverbose\u001b[0m \u001b[0;34m==\u001b[0m \u001b[0;36m2\u001b[0m\u001b[0;34m:\u001b[0m\u001b[0;34m\u001b[0m\u001b[0;34m\u001b[0m\u001b[0m\n",
            "\u001b[0;32m/usr/local/lib/python3.6/dist-packages/ipykernel/iostream.py\u001b[0m in \u001b[0;36mflush\u001b[0;34m(self)\u001b[0m\n\u001b[1;32m    319\u001b[0m             \u001b[0mevt\u001b[0m \u001b[0;34m=\u001b[0m \u001b[0mthreading\u001b[0m\u001b[0;34m.\u001b[0m\u001b[0mEvent\u001b[0m\u001b[0;34m(\u001b[0m\u001b[0;34m)\u001b[0m\u001b[0;34m\u001b[0m\u001b[0;34m\u001b[0m\u001b[0m\n\u001b[1;32m    320\u001b[0m             \u001b[0mself\u001b[0m\u001b[0;34m.\u001b[0m\u001b[0mpub_thread\u001b[0m\u001b[0;34m.\u001b[0m\u001b[0mschedule\u001b[0m\u001b[0;34m(\u001b[0m\u001b[0mevt\u001b[0m\u001b[0;34m.\u001b[0m\u001b[0mset\u001b[0m\u001b[0;34m)\u001b[0m\u001b[0;34m\u001b[0m\u001b[0;34m\u001b[0m\u001b[0m\n\u001b[0;32m--> 321\u001b[0;31m             \u001b[0mevt\u001b[0m\u001b[0;34m.\u001b[0m\u001b[0mwait\u001b[0m\u001b[0;34m(\u001b[0m\u001b[0;34m)\u001b[0m\u001b[0;34m\u001b[0m\u001b[0;34m\u001b[0m\u001b[0m\n\u001b[0m\u001b[1;32m    322\u001b[0m         \u001b[0;32melse\u001b[0m\u001b[0;34m:\u001b[0m\u001b[0;34m\u001b[0m\u001b[0;34m\u001b[0m\u001b[0m\n\u001b[1;32m    323\u001b[0m             \u001b[0mself\u001b[0m\u001b[0;34m.\u001b[0m\u001b[0m_flush\u001b[0m\u001b[0;34m(\u001b[0m\u001b[0;34m)\u001b[0m\u001b[0;34m\u001b[0m\u001b[0;34m\u001b[0m\u001b[0m\n",
            "\u001b[0;32m/usr/lib/python3.6/threading.py\u001b[0m in \u001b[0;36mwait\u001b[0;34m(self, timeout)\u001b[0m\n\u001b[1;32m    549\u001b[0m             \u001b[0msignaled\u001b[0m \u001b[0;34m=\u001b[0m \u001b[0mself\u001b[0m\u001b[0;34m.\u001b[0m\u001b[0m_flag\u001b[0m\u001b[0;34m\u001b[0m\u001b[0;34m\u001b[0m\u001b[0m\n\u001b[1;32m    550\u001b[0m             \u001b[0;32mif\u001b[0m \u001b[0;32mnot\u001b[0m \u001b[0msignaled\u001b[0m\u001b[0;34m:\u001b[0m\u001b[0;34m\u001b[0m\u001b[0;34m\u001b[0m\u001b[0m\n\u001b[0;32m--> 551\u001b[0;31m                 \u001b[0msignaled\u001b[0m \u001b[0;34m=\u001b[0m \u001b[0mself\u001b[0m\u001b[0;34m.\u001b[0m\u001b[0m_cond\u001b[0m\u001b[0;34m.\u001b[0m\u001b[0mwait\u001b[0m\u001b[0;34m(\u001b[0m\u001b[0mtimeout\u001b[0m\u001b[0;34m)\u001b[0m\u001b[0;34m\u001b[0m\u001b[0;34m\u001b[0m\u001b[0m\n\u001b[0m\u001b[1;32m    552\u001b[0m             \u001b[0;32mreturn\u001b[0m \u001b[0msignaled\u001b[0m\u001b[0;34m\u001b[0m\u001b[0;34m\u001b[0m\u001b[0m\n\u001b[1;32m    553\u001b[0m \u001b[0;34m\u001b[0m\u001b[0m\n",
            "\u001b[0;32m/usr/lib/python3.6/threading.py\u001b[0m in \u001b[0;36mwait\u001b[0;34m(self, timeout)\u001b[0m\n\u001b[1;32m    293\u001b[0m         \u001b[0;32mtry\u001b[0m\u001b[0;34m:\u001b[0m    \u001b[0;31m# restore state no matter what (e.g., KeyboardInterrupt)\u001b[0m\u001b[0;34m\u001b[0m\u001b[0;34m\u001b[0m\u001b[0m\n\u001b[1;32m    294\u001b[0m             \u001b[0;32mif\u001b[0m \u001b[0mtimeout\u001b[0m \u001b[0;32mis\u001b[0m \u001b[0;32mNone\u001b[0m\u001b[0;34m:\u001b[0m\u001b[0;34m\u001b[0m\u001b[0;34m\u001b[0m\u001b[0m\n\u001b[0;32m--> 295\u001b[0;31m                 \u001b[0mwaiter\u001b[0m\u001b[0;34m.\u001b[0m\u001b[0macquire\u001b[0m\u001b[0;34m(\u001b[0m\u001b[0;34m)\u001b[0m\u001b[0;34m\u001b[0m\u001b[0;34m\u001b[0m\u001b[0m\n\u001b[0m\u001b[1;32m    296\u001b[0m                 \u001b[0mgotit\u001b[0m \u001b[0;34m=\u001b[0m \u001b[0;32mTrue\u001b[0m\u001b[0;34m\u001b[0m\u001b[0;34m\u001b[0m\u001b[0m\n\u001b[1;32m    297\u001b[0m             \u001b[0;32melse\u001b[0m\u001b[0;34m:\u001b[0m\u001b[0;34m\u001b[0m\u001b[0;34m\u001b[0m\u001b[0m\n",
            "\u001b[0;31mKeyboardInterrupt\u001b[0m: "
          ]
        }
      ]
    },
    {
      "cell_type": "markdown",
      "metadata": {
        "id": "rFudTVVMhxZf",
        "colab_type": "text"
      },
      "source": [
        "#Implementación con AdaBoost"
      ]
    },
    {
      "cell_type": "code",
      "metadata": {
        "id": "FGZ4e2gTBEpS",
        "colab_type": "code",
        "colab": {}
      },
      "source": [
        "epocas = 20\n",
        "batchSize = 32\n",
        "\n",
        "estimadorBase = KerasClassifier(build_fn = crearModelo3, epochs = epocas, batch_size = batchSize, verbose = 0, pTasa = tasa, \n",
        "                                pAlpha = alpha, pOptimizer = optimizer)"
      ],
      "execution_count": 0,
      "outputs": []
    },
    {
      "cell_type": "code",
      "metadata": {
        "id": "9-J_0bGeBNZN",
        "colab_type": "code",
        "outputId": "feeb7097-03c4-446c-f6fc-f5b06bbb12fb",
        "colab": {
          "base_uri": "https://localhost:8080/",
          "height": 1000
        }
      },
      "source": [
        "numEstimadores = 10\n",
        "maxDepth = 1\n",
        "# estimadorBase=DecisionTreeClassifier(max_depth = max_d)\n",
        "adaBoost = AdaBoostClassifier(base_estimator = estimadorBase, n_estimators = numEstimadores) #Variar otros parametros como la tasa de aprendizaje\n",
        "adaBoost.fit(x_train, y_train)\n",
        "print(confusion_matrix(adaBoost.predict(x_train),y_train))\n",
        "print(confusion_matrix(adaBoost.predict(x_test),y_test))\n"
      ],
      "execution_count": 0,
      "outputs": [
        {
          "output_type": "stream",
          "text": [
            "Model: \"sequential_13\"\n",
            "_________________________________________________________________\n",
            "Layer (type)                 Output Shape              Param #   \n",
            "=================================================================\n",
            "conv3d_27 (Conv3D)           (None, 64, 64, 30, 5)     140       \n",
            "_________________________________________________________________\n",
            "max_pooling3d_27 (MaxPooling (None, 32, 32, 15, 5)     0         \n",
            "_________________________________________________________________\n",
            "flatten_13 (Flatten)         (None, 76800)             0         \n",
            "_________________________________________________________________\n",
            "dense_13 (Dense)             (None, 3)                 230403    \n",
            "=================================================================\n",
            "Total params: 230,543\n",
            "Trainable params: 230,543\n",
            "Non-trainable params: 0\n",
            "_________________________________________________________________\n",
            "Model: \"sequential_14\"\n",
            "_________________________________________________________________\n",
            "Layer (type)                 Output Shape              Param #   \n",
            "=================================================================\n",
            "conv3d_28 (Conv3D)           (None, 64, 64, 30, 5)     140       \n",
            "_________________________________________________________________\n",
            "max_pooling3d_28 (MaxPooling (None, 32, 32, 15, 5)     0         \n",
            "_________________________________________________________________\n",
            "flatten_14 (Flatten)         (None, 76800)             0         \n",
            "_________________________________________________________________\n",
            "dense_14 (Dense)             (None, 3)                 230403    \n",
            "=================================================================\n",
            "Total params: 230,543\n",
            "Trainable params: 230,543\n",
            "Non-trainable params: 0\n",
            "_________________________________________________________________\n",
            "Model: \"sequential_15\"\n",
            "_________________________________________________________________\n",
            "Layer (type)                 Output Shape              Param #   \n",
            "=================================================================\n",
            "conv3d_29 (Conv3D)           (None, 64, 64, 30, 5)     140       \n",
            "_________________________________________________________________\n",
            "max_pooling3d_29 (MaxPooling (None, 32, 32, 15, 5)     0         \n",
            "_________________________________________________________________\n",
            "flatten_15 (Flatten)         (None, 76800)             0         \n",
            "_________________________________________________________________\n",
            "dense_15 (Dense)             (None, 3)                 230403    \n",
            "=================================================================\n",
            "Total params: 230,543\n",
            "Trainable params: 230,543\n",
            "Non-trainable params: 0\n",
            "_________________________________________________________________\n",
            "Model: \"sequential_16\"\n",
            "_________________________________________________________________\n",
            "Layer (type)                 Output Shape              Param #   \n",
            "=================================================================\n",
            "conv3d_30 (Conv3D)           (None, 64, 64, 30, 5)     140       \n",
            "_________________________________________________________________\n",
            "max_pooling3d_30 (MaxPooling (None, 32, 32, 15, 5)     0         \n",
            "_________________________________________________________________\n",
            "flatten_16 (Flatten)         (None, 76800)             0         \n",
            "_________________________________________________________________\n",
            "dense_16 (Dense)             (None, 3)                 230403    \n",
            "=================================================================\n",
            "Total params: 230,543\n",
            "Trainable params: 230,543\n",
            "Non-trainable params: 0\n",
            "_________________________________________________________________\n",
            "Model: \"sequential_17\"\n",
            "_________________________________________________________________\n",
            "Layer (type)                 Output Shape              Param #   \n",
            "=================================================================\n",
            "conv3d_31 (Conv3D)           (None, 64, 64, 30, 5)     140       \n",
            "_________________________________________________________________\n",
            "max_pooling3d_31 (MaxPooling (None, 32, 32, 15, 5)     0         \n",
            "_________________________________________________________________\n",
            "flatten_17 (Flatten)         (None, 76800)             0         \n",
            "_________________________________________________________________\n",
            "dense_17 (Dense)             (None, 3)                 230403    \n",
            "=================================================================\n",
            "Total params: 230,543\n",
            "Trainable params: 230,543\n",
            "Non-trainable params: 0\n",
            "_________________________________________________________________\n",
            "Model: \"sequential_18\"\n",
            "_________________________________________________________________\n",
            "Layer (type)                 Output Shape              Param #   \n",
            "=================================================================\n",
            "conv3d_32 (Conv3D)           (None, 64, 64, 30, 5)     140       \n",
            "_________________________________________________________________\n",
            "max_pooling3d_32 (MaxPooling (None, 32, 32, 15, 5)     0         \n",
            "_________________________________________________________________\n",
            "flatten_18 (Flatten)         (None, 76800)             0         \n",
            "_________________________________________________________________\n",
            "dense_18 (Dense)             (None, 3)                 230403    \n",
            "=================================================================\n",
            "Total params: 230,543\n",
            "Trainable params: 230,543\n",
            "Non-trainable params: 0\n",
            "_________________________________________________________________\n",
            "Model: \"sequential_19\"\n",
            "_________________________________________________________________\n",
            "Layer (type)                 Output Shape              Param #   \n",
            "=================================================================\n",
            "conv3d_33 (Conv3D)           (None, 64, 64, 30, 5)     140       \n",
            "_________________________________________________________________\n",
            "max_pooling3d_33 (MaxPooling (None, 32, 32, 15, 5)     0         \n",
            "_________________________________________________________________\n",
            "flatten_19 (Flatten)         (None, 76800)             0         \n",
            "_________________________________________________________________\n",
            "dense_19 (Dense)             (None, 3)                 230403    \n",
            "=================================================================\n",
            "Total params: 230,543\n",
            "Trainable params: 230,543\n",
            "Non-trainable params: 0\n",
            "_________________________________________________________________\n",
            "Model: \"sequential_20\"\n",
            "_________________________________________________________________\n",
            "Layer (type)                 Output Shape              Param #   \n",
            "=================================================================\n",
            "conv3d_34 (Conv3D)           (None, 64, 64, 30, 5)     140       \n",
            "_________________________________________________________________\n",
            "max_pooling3d_34 (MaxPooling (None, 32, 32, 15, 5)     0         \n",
            "_________________________________________________________________\n",
            "flatten_20 (Flatten)         (None, 76800)             0         \n",
            "_________________________________________________________________\n",
            "dense_20 (Dense)             (None, 3)                 230403    \n",
            "=================================================================\n",
            "Total params: 230,543\n",
            "Trainable params: 230,543\n",
            "Non-trainable params: 0\n",
            "_________________________________________________________________\n",
            "Model: \"sequential_21\"\n",
            "_________________________________________________________________\n",
            "Layer (type)                 Output Shape              Param #   \n",
            "=================================================================\n",
            "conv3d_35 (Conv3D)           (None, 64, 64, 30, 5)     140       \n",
            "_________________________________________________________________\n",
            "max_pooling3d_35 (MaxPooling (None, 32, 32, 15, 5)     0         \n",
            "_________________________________________________________________\n",
            "flatten_21 (Flatten)         (None, 76800)             0         \n",
            "_________________________________________________________________\n",
            "dense_21 (Dense)             (None, 3)                 230403    \n",
            "=================================================================\n",
            "Total params: 230,543\n",
            "Trainable params: 230,543\n",
            "Non-trainable params: 0\n",
            "_________________________________________________________________\n",
            "Model: \"sequential_22\"\n",
            "_________________________________________________________________\n",
            "Layer (type)                 Output Shape              Param #   \n",
            "=================================================================\n",
            "conv3d_36 (Conv3D)           (None, 64, 64, 30, 5)     140       \n",
            "_________________________________________________________________\n",
            "max_pooling3d_36 (MaxPooling (None, 32, 32, 15, 5)     0         \n",
            "_________________________________________________________________\n",
            "flatten_22 (Flatten)         (None, 76800)             0         \n",
            "_________________________________________________________________\n",
            "dense_22 (Dense)             (None, 3)                 230403    \n",
            "=================================================================\n",
            "Total params: 230,543\n",
            "Trainable params: 230,543\n",
            "Non-trainable params: 0\n",
            "_________________________________________________________________\n",
            "[[1192 1197 1187]\n",
            " [ 134  132  140]\n",
            " [   0    0    0]]\n",
            "[[133 128 136]\n",
            " [ 16  18  12]\n",
            " [  0   0   0]]\n"
          ],
          "name": "stdout"
        }
      ]
    },
    {
      "cell_type": "code",
      "metadata": {
        "id": "MSIZinQvwnik",
        "colab_type": "code",
        "colab": {}
      },
      "source": [
        "def obtener_Resultados():\n",
        "    max_depths= [1,2,3,4,5]\n",
        "    n_estimatorss= [100,200,300,400,500,600,700,800,900,1000]\n",
        "    results=[]\n",
        "    for m in max_depths:\n",
        "        for n in n_estimatorss:\n",
        "            tree=DecisionTreeClassifier(max_depth=m)\n",
        "            adaBoost = AdaBoostClassifier(base_estimator = tree, n_estimators = m) #Variar otros parametros como la tasa de aprendizaje\n",
        "            adaBoost.fit(X_train,y_train)\n",
        "            results.append(Resultados(m, n, adaBoost.score(Prueba_X_N,Prueba_Y)))\n",
        "    return results"
      ],
      "execution_count": 0,
      "outputs": []
    }
  ]
}