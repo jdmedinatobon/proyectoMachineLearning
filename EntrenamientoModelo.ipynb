{
  "nbformat": 4,
  "nbformat_minor": 0,
  "metadata": {
    "colab": {
      "name": "EntrenamientoModelo.ipynb",
      "provenance": [],
      "collapsed_sections": [],
      "toc_visible": true,
      "include_colab_link": true
    },
    "kernelspec": {
      "name": "python3",
      "display_name": "Python 3"
    }
  },
  "cells": [
    {
      "cell_type": "markdown",
      "metadata": {
        "id": "view-in-github",
        "colab_type": "text"
      },
      "source": [
        "<a href=\"https://colab.research.google.com/github/jdmedinatobon/proyectoMachineLearning/blob/master/EntrenamientoModelo.ipynb\" target=\"_parent\"><img src=\"https://colab.research.google.com/assets/colab-badge.svg\" alt=\"Open In Colab\"/></a>"
      ]
    },
    {
      "cell_type": "code",
      "metadata": {
        "id": "ukiI7n1W4dQy",
        "colab_type": "code",
        "outputId": "46745d9b-8c57-478a-f196-67fa05090194",
        "colab": {
          "base_uri": "https://localhost:8080/",
          "height": 120
        }
      },
      "source": [
        "from google.colab import drive\n",
        "drive.mount(\"/content/drive\")"
      ],
      "execution_count": 0,
      "outputs": [
        {
          "output_type": "stream",
          "text": [
            "Go to this URL in a browser: https://accounts.google.com/o/oauth2/auth?client_id=947318989803-6bn6qk8qdgf4n4g3pfee6491hc0brc4i.apps.googleusercontent.com&redirect_uri=urn%3Aietf%3Awg%3Aoauth%3A2.0%3Aoob&scope=email%20https%3A%2F%2Fwww.googleapis.com%2Fauth%2Fdocs.test%20https%3A%2F%2Fwww.googleapis.com%2Fauth%2Fdrive%20https%3A%2F%2Fwww.googleapis.com%2Fauth%2Fdrive.photos.readonly%20https%3A%2F%2Fwww.googleapis.com%2Fauth%2Fpeopleapi.readonly&response_type=code\n",
            "\n",
            "Enter your authorization code:\n",
            "··········\n",
            "Mounted at /content/drive\n"
          ],
          "name": "stdout"
        }
      ]
    },
    {
      "cell_type": "code",
      "metadata": {
        "id": "01BgKuSC6gfa",
        "colab_type": "code",
        "outputId": "277e68fb-56c6-4175-ad19-b9946704e9fb",
        "colab": {
          "base_uri": "https://localhost:8080/",
          "height": 67
        }
      },
      "source": [
        "!pip3 install xgboost"
      ],
      "execution_count": 0,
      "outputs": [
        {
          "output_type": "stream",
          "text": [
            "Requirement already satisfied: xgboost in /usr/local/lib/python3.6/dist-packages (0.90)\n",
            "Requirement already satisfied: numpy in /tensorflow-2.0.0/python3.6 (from xgboost) (1.17.3)\n",
            "Requirement already satisfied: scipy in /usr/local/lib/python3.6/dist-packages (from xgboost) (1.3.1)\n"
          ],
          "name": "stdout"
        }
      ]
    },
    {
      "cell_type": "code",
      "metadata": {
        "id": "t-IiLjvWBoa_",
        "colab_type": "code",
        "outputId": "0f6393f6-2105-4fb3-d3eb-5819b1ccdacc",
        "colab": {
          "base_uri": "https://localhost:8080/",
          "height": 35
        }
      },
      "source": [
        "import numpy as np\n",
        "%tensorflow_version 1.x\n",
        "import tensorflow as tf\n",
        "import time\n",
        "\n",
        "from sklearn.neural_network import MLPClassifier\n",
        "from sklearn import preprocessing\n",
        "from sklearn.decomposition import PCA\n",
        "from sklearn.metrics import confusion_matrix \n",
        "from sklearn.tree import DecisionTreeClassifier\n",
        "from sklearn.model_selection import train_test_split \n",
        "from sklearn.ensemble import AdaBoostClassifier\n",
        "\n",
        "import matplotlib.pyplot as plt\n",
        "\n",
        "import tensorflow.keras as keras\n",
        "from keras import Sequential\n",
        "from keras.layers import Dense\n",
        "from keras import optimizers\n",
        "from keras.regularizers import l2\n",
        "from keras.wrappers.scikit_learn import KerasClassifier"
      ],
      "execution_count": 0,
      "outputs": [
        {
          "output_type": "stream",
          "text": [
            "Using TensorFlow backend.\n"
          ],
          "name": "stderr"
        }
      ]
    },
    {
      "cell_type": "code",
      "metadata": {
        "id": "LaqrAEP6StRB",
        "colab_type": "code",
        "colab": {}
      },
      "source": [
        "#pathDatos = \"drive/My Drive/datosDescriptoresPruebaV3.txt\"\n",
        "pathDatos = \"datosDescriptoresPruebaV4.txt\"\n",
        "separador = \";\"\n",
        "\n",
        "def importarDatos(pArchivo):\n",
        "\n",
        "  datos = []\n",
        "\n",
        "  archivo = open(pArchivo, \"r\")\n",
        "  lineas = archivo.readlines()\n",
        "  for linea in lineas:\n",
        "    linea = linea.replace('\\n','')\n",
        "    muestra = linea.split(separador)\n",
        "    muestra=np.array(muestra)\n",
        "\n",
        "    datos.append(muestra.astype(float))\n",
        "  datos=np.array(datos)\n",
        "  datosx=datos[:,0:datos[0].shape[0]-2]\n",
        "  datosy=datos[:,datos[0].shape[0]-1]\n",
        "  datosy=datosy.astype(int)\n",
        "  return datosx,datosy\n",
        "    \n",
        "def pruebaBinaria(pEtiquetas):\n",
        "  etiquetasBinarias = np.zeros(len(pEtiquetas))\n",
        "\n",
        "  for i in range(0,len(pEtiquetas)):\n",
        "    if(pEtiquetas[i] == 2):\n",
        "      etiquetasBinarias[i] = 1\n",
        "\n",
        "  return etiquetasBinarias"
      ],
      "execution_count": 0,
      "outputs": []
    },
    {
      "cell_type": "code",
      "metadata": {
        "id": "a2Cd-G8nTkJt",
        "colab_type": "code",
        "colab": {}
      },
      "source": [
        "datos_x, datos_y = importarDatos(pathDatos)\n",
        "\n",
        "datos_y_binarios = pruebaBinaria(datos_y)"
      ],
      "execution_count": 0,
      "outputs": []
    },
    {
      "cell_type": "markdown",
      "metadata": {
        "id": "j6hlaYJY_VCQ",
        "colab_type": "text"
      },
      "source": [
        "# Preprocesamiento"
      ]
    },
    {
      "cell_type": "code",
      "metadata": {
        "id": "_xfxUFQZ81x8",
        "colab_type": "code",
        "colab": {}
      },
      "source": [
        "#Funcion para normalizar los datos.\n",
        "#pDatos_Para_Normalizar: Son los datos con respecto a los cuales se normaliza.\n",
        "#pDatos: Son los datos a normalizar.\n",
        "def normalizar(pDatos_Para_Normalizar, pDatos):\n",
        " #Se inicializa el preprocesamiento de los datos\n",
        "  normalizar = preprocessing.Normalizer().fit(pDatos_Para_Normalizar) #se obtiene una funcion que permita a \n",
        "  #partir de la media y los valores maximos y minimos de los datos de entrenamiento de este modelo, normalizar los datos de prueba y de entrenamiento\n",
        "  dato_normal = normalizar.transform(pDatos) #Datos normailzados y con los cuales se entrenarán los modelos \n",
        "  return dato_normal\n",
        "\n",
        "#Funcion que calcula las componentes principales de x.\n",
        "#pNumComponentes: Es el numero de componentes principales que se van a calcular. Enviar -1 si se quiere calcular todas.\n",
        "def darComponentesPrincipales(x, pNumComponentes):\n",
        "\n",
        "    if(pNumComponentes != -1):\n",
        "      pca = PCA(n_components = pNumComponentes)\n",
        "    else:\n",
        "      pca = PCA()\n",
        "      \n",
        "    pca.fit(x)\n",
        "    return pca\n",
        "\n",
        "#Funcion que retorna las componentes utilizadas para blanquear los datos.\n",
        "def darBlanqueamiento(x):\n",
        "    pca = PCA(whiten = True)\n",
        "    pca.fit(x)\n",
        "    return pca\n"
      ],
      "execution_count": 0,
      "outputs": []
    },
    {
      "cell_type": "code",
      "metadata": {
        "id": "AartJZc6AF5m",
        "colab_type": "code",
        "colab": {}
      },
      "source": [
        "#Normalizar los datos\n",
        "datos_x_norm=normalizar(datos_x,datos_x)\n",
        "\n",
        "#Calcular los datos con el 99% de la varianza explicada en las componentes principales\n",
        "pca = darComponentesPrincipales(datos_x,1)\n",
        "datos_x_pca = pca.transform(datos_x)\n",
        "\n",
        "#Blanquear los datos\n",
        "blan = darBlanqueamiento(datos_x)\n",
        "datos_x_blan = blan.transform(datos_x)\n",
        "\n",
        "X_train, X_test, y_train, y_test = train_test_split(datos_x_blan, datos_y_binarios, random_state = 0, test_size=0.10)"
      ],
      "execution_count": 0,
      "outputs": []
    },
    {
      "cell_type": "code",
      "metadata": {
        "id": "LXn7YhVBJx-M",
        "colab_type": "code",
        "outputId": "acb75d92-77e5-47ef-a33d-645d207e80bd",
        "colab": {
          "base_uri": "https://localhost:8080/",
          "height": 424
        }
      },
      "source": [
        "#Grafica las componentes principales de los datos_x e indica el numero de componentes que suman el 97% de la varianza total.\n",
        "pca = darComponentesPrincipales(datos_x,-1)\n",
        "\n",
        "#plt.stem(pca.explained_variance_ratio_)\n",
        "plt.xlabel(\"Componentes\")\n",
        "plt.ylabel(\"Varianza Explicada\")\n",
        "plt.legend()\n",
        "#plt.show()\n",
        "\n",
        "print(pca.explained_variance_ratio_)\n",
        "\n",
        "#Grafica los datos_x con una sola componente principal indicando la clase a la que pertenece\n",
        "pca = darComponentesPrincipales(datos_x,1)\n",
        "numDatos = 100\n",
        "#plt.stem(pca.transform(datos_x), datos_y)\n",
        "plt.stem(np.transpose(pca.components_))\n",
        "plt.show()"
      ],
      "execution_count": 0,
      "outputs": [
        {
          "output_type": "stream",
          "text": [
            "No handles with labels found to put in legend.\n",
            "/usr/local/lib/python3.6/dist-packages/ipykernel_launcher.py:15: UserWarning: In Matplotlib 3.3 individual lines on a stem plot will be added as a LineCollection instead of individual lines. This significantly improves the performance of a stem plot. To remove this warning and switch to the new behaviour, set the \"use_line_collection\" keyword argument to True.\n",
            "  from ipykernel import kernelapp as app\n"
          ],
          "name": "stderr"
        },
        {
          "output_type": "stream",
          "text": [
            "[9.93795334e-01 6.08443862e-03 1.16279257e-04 3.93962031e-06\n",
            " 4.31161660e-09 3.28002860e-09 1.04783291e-09 3.18322124e-11\n",
            " 9.02145325e-12 1.98639627e-12 3.29976583e-13 1.23939512e-13\n",
            " 2.67584942e-14 1.43991802e-14 2.15033355e-19 1.50711844e-30]\n"
          ],
          "name": "stdout"
        },
        {
          "output_type": "display_data",
          "data": {
            "image/png": "[encoded data removed]",
            "text/plain": [
              "<Figure size 432x288 with 1 Axes>"
            ]
          },
          "metadata": {
            "tags": []
          }
        }
      ]
    },
    {
      "cell_type": "code",
      "metadata": {
        "id": "YLrzYY_-TRMB",
        "colab_type": "code",
        "outputId": "409f8535-e525-4a26-e1b9-0f717c6e2c9f",
        "colab": {
          "base_uri": "https://localhost:8080/",
          "height": 124
        }
      },
      "source": [
        "pca.components_"
      ],
      "execution_count": 0,
      "outputs": [
        {
          "output_type": "execute_result",
          "data": {
            "text/plain": [
              "array([[-1.65741581e-03, -2.47328372e-01,  1.31032793e-04,\n",
              "         3.39920167e-05,  1.35488620e-06, -2.52666013e-02,\n",
              "        -6.84032137e-07, -2.40859726e-01,  5.98112685e-06,\n",
              "        -2.61248799e-03, -9.38172302e-01, -4.18243042e-05,\n",
              "        -7.63373531e-05,  6.77900907e-09, -3.41833045e-05,\n",
              "        -5.14035774e-07]])"
            ]
          },
          "metadata": {
            "tags": []
          },
          "execution_count": 17
        }
      ]
    },
    {
      "cell_type": "code",
      "metadata": {
        "id": "Za3F5p4dTqDl",
        "colab_type": "code",
        "outputId": "9af75e4a-4163-46e9-adb1-28542892bfd6",
        "colab": {
          "base_uri": "https://localhost:8080/",
          "height": 144
        }
      },
      "source": [
        "n=10\n",
        "error=[]\n",
        "Proba_error_prueba=100000\n",
        "error_actual=1000000\n",
        "Proba_error_prueba_tan=100000\n",
        "modeloPrueba = MLPClassifier(activation = 'relu',hidden_layer_sizes=(n,2), max_iter=1, batch_size=2, solver='adam', tol=0.001, warm_start =True,momentum=0.6, learning_rate_init=0.001, learning_rate = 'adaptive', nesterovs_momentum=True, power_t=0.5)#0.6\n",
        "for i in range(0,150):\n",
        "    modeloPrueba.fit(X_train,y_train)\n",
        "    error_actual = 1-modeloPrueba.score(X_test,y_test)\n",
        "    error.append(error_actual)\n",
        "    if(error_actual<Proba_error_prueba):\n",
        "        N_neuronas=n\n",
        "        fcn_activacion=\"tanh\"\n",
        "        modelo = modeloPrueba\n",
        "        Proba_error_prueba = error_actual\n",
        "    if(error_actual<Proba_error_prueba_tan):\n",
        "        N_neuronas_tan=n\n",
        "        modelo_tan = modeloPrueba\n",
        "        Proba_error_prueba_tan = error_actual\n",
        "print(\"Número de neuronas utilizadas para la mejor probabilidad de error para tanh descenso de gradiente\")\n",
        "print(N_neuronas_tan)\n",
        "print(\"Mejor probabilidad de acierto para función de activación tanh con descenso de gradiente\")\n",
        "print(1-Proba_error_prueba_tan)"
      ],
      "execution_count": 0,
      "outputs": [
        {
          "output_type": "stream",
          "text": [
            "/usr/local/lib/python3.6/dist-packages/sklearn/neural_network/multilayer_perceptron.py:566: ConvergenceWarning: Stochastic Optimizer: Maximum iterations (1) reached and the optimization hasn't converged yet.\n",
            "  % self.max_iter, ConvergenceWarning)\n"
          ],
          "name": "stderr"
        },
        {
          "output_type": "stream",
          "text": [
            "Número de neuronas utilizadas para la mejor probabilidad de error para tanh descenso de gradiente\n",
            "10\n",
            "Mejor probabilidad de acierto para función de activación tanh con descenso de gradiente\n",
            "0.3416666666666667\n"
          ],
          "name": "stdout"
        }
      ]
    },
    {
      "cell_type": "code",
      "metadata": {
        "id": "_HG3i2Sr9Ns2",
        "colab_type": "code",
        "outputId": "3e1831d4-78fc-44f7-c1af-50b3385389ec",
        "colab": {
          "base_uri": "https://localhost:8080/",
          "height": 295
        }
      },
      "source": [
        "plt.plot((1-np.array(error)), label = \"Entrenamiento modelo tangente hiperbólico\") \n",
        "plt.xlabel('iteraciones') \n",
        "plt.ylabel('Probabilidad de acierto (%)') \n",
        "plt.title('probabilidad de acierto contra número de iteraciones para función de activación Tangente hiperbólico') \n",
        "plt.legend() \n",
        "plt.show()"
      ],
      "execution_count": 0,
      "outputs": [
        {
          "output_type": "display_data",
          "data": {
            "image/png": "[encoded data removed]",
            "text/plain": [
              "<Figure size 432x288 with 1 Axes>"
            ]
          },
          "metadata": {
            "tags": []
          }
        }
      ]
    },
    {
      "cell_type": "code",
      "metadata": {
        "id": "aVwoxdDH0FIR",
        "colab_type": "code",
        "outputId": "5440038d-af9c-4843-cc84-0b7137c05d39",
        "colab": {
          "base_uri": "https://localhost:8080/",
          "height": 88
        }
      },
      "source": [
        "dtree_model = DecisionTreeClassifier(max_depth = 3).fit(X_train, y_train) \n",
        "dtree_predictions = dtree_model.predict(X_test) \n",
        "\n",
        "# creating a confusion matrix \n",
        "cm = confusion_matrix(y_test, dtree_predictions)\n",
        "print(np.sum(np.diag(cm))/360)\n",
        "print(cm)"
      ],
      "execution_count": 0,
      "outputs": [
        {
          "output_type": "stream",
          "text": [
            "0.31666666666666665\n",
            "[[  4   0 122]\n",
            " [  3   2 118]\n",
            " [  3   0 108]]\n"
          ],
          "name": "stdout"
        }
      ]
    },
    {
      "cell_type": "markdown",
      "metadata": {
        "id": "HPtrsS9l74jh",
        "colab_type": "text"
      },
      "source": [
        "#Implementación con Keras"
      ]
    },
    {
      "cell_type": "code",
      "metadata": {
        "id": "2FBwvBcx70qs",
        "colab_type": "code",
        "colab": {}
      },
      "source": [
        "def graficarHistoriaAccuracy(pHist):\n",
        "  plt.plot(pHist.history['sparse_categorical_accuracy'], label = 'Accuracy')\n",
        "  plt.xlabel('Epoca')\n",
        "  plt.ylabel('Accuracy Entrenamiento')\n",
        "  plt.title(\"Accuracy de Entrenamiento vs Epoca\")\n",
        "  plt.legend()\n",
        "  plt.show()\n",
        "\n",
        "def graficarHistoriaValAccuracy(pHist):\n",
        "  plt.plot(hist.history['val_sparse_categorical_accuracy'], label = 'Accuracy Validacion')\n",
        "  plt.xlabel('Epoca')\n",
        "  plt.ylabel('Accuracy Validacion')\n",
        "  plt.title(\"Accuracy de Validacion vs Epoca\")\n",
        "  plt.legend()\n",
        "  plt.show()\n",
        "\n",
        "def crearModelo():\n",
        "\n",
        "  tasa = 0.001\n",
        "  alpha = 0.01\n",
        "\n",
        "  modelo = Sequential()\n",
        "  modelo.add(Dense(16, use_bias = True, kernel_initializer='random_uniform', input_dim = 16, activation = \"sigmoid\",activity_regularizer=l2(alpha)))\n",
        "  modelo.add(Dense(8, use_bias = True, activation = \"relu\"))\n",
        "  modelo.add(Dense(2, activation = \"softmax\"))\n",
        "\n",
        "  sgd = optimizers.SGD(lr = tasa)\n",
        "\n",
        "  modelo.compile(loss='sparse_categorical_crossentropy', optimizer = sgd, metrics = ['sparse_categorical_accuracy'])\n",
        "\n",
        "  return modelo\n",
        "\n",
        "modelo = crearModelo()\n",
        "\n",
        "hist = modelo.fit(X_train, y_train, validation_data=(X_test, y_test), epochs = 100, batch_size = 32)"
      ],
      "execution_count": 0,
      "outputs": []
    },
    {
      "cell_type": "code",
      "metadata": {
        "id": "k37HZ75vABmO",
        "colab_type": "code",
        "colab": {}
      },
      "source": [
        "graficarHistoriaAccuracy(hist)\n",
        "graficarHistoriaValAccuracy(hist)"
      ],
      "execution_count": 0,
      "outputs": []
    },
    {
      "cell_type": "markdown",
      "metadata": {
        "id": "rFudTVVMhxZf",
        "colab_type": "text"
      },
      "source": [
        "#Implementación con AdaBoost"
      ]
    },
    {
      "cell_type": "code",
      "metadata": {
        "id": "FGZ4e2gTBEpS",
        "colab_type": "code",
        "colab": {}
      },
      "source": [
        "numEstimadores = 10\n",
        "epocas = 100\n",
        "batchSize = 32\n",
        "\n",
        "estimadorBase = KerasClassifier(build_fn = crearModelo, epochs = epocas, batch_size = batchSize, verbose = 1)\n",
        "\n",
        "adaBoost = AdaBoostClassifier(base_estimator = modelo, n_estimators = numEstimadores) #Variar otros parametros como la tasa de aprendizaje\n",
        "adaBoost.fit(X_train, Y_train)"
      ],
      "execution_count": 0,
      "outputs": []
    },
    {
      "cell_type": "code",
      "metadata": {
        "id": "9-J_0bGeBNZN",
        "colab_type": "code",
        "outputId": "1706b426-a44f-4aab-cf23-93b8ff7a80f7",
        "colab": {
          "base_uri": "https://localhost:8080/",
          "height": 35
        }
      },
      "source": [
        "test[0]"
      ],
      "execution_count": 0,
      "outputs": [
        {
          "output_type": "execute_result",
          "data": {
            "text/plain": [
              "array([0.23551697, 0.28870574, 0.47577727], dtype=float32)"
            ]
          },
          "metadata": {
            "tags": []
          },
          "execution_count": 34
        }
      ]
    },
    {
      "cell_type": "code",
      "metadata": {
        "id": "-NhnIXZkBct1",
        "colab_type": "code",
        "outputId": "ff1d69bd-80c6-40d6-b694-ae85dcf3b117",
        "colab": {
          "base_uri": "https://localhost:8080/",
          "height": 35
        }
      },
      "source": [
        "2**12"
      ],
      "execution_count": 0,
      "outputs": [
        {
          "output_type": "execute_result",
          "data": {
            "text/plain": [
              "4096"
            ]
          },
          "metadata": {
            "tags": []
          },
          "execution_count": 96
        }
      ]
    },
    {
      "cell_type": "code",
      "metadata": {
        "id": "N0RAT6MKJJsX",
        "colab_type": "code",
        "colab": {}
      },
      "source": [
        ""
      ],
      "execution_count": 0,
      "outputs": []
    }
  ]
}