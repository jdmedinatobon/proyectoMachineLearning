{
  "nbformat": 4,
  "nbformat_minor": 0,
  "metadata": {
    "colab": {
      "name": "EntrenamientoModelo.ipynb",
      "provenance": [],
      "collapsed_sections": [],
      "toc_visible": true,
      "include_colab_link": true
    },
    "kernelspec": {
      "name": "python3",
      "display_name": "Python 3"
    }
  },
  "cells": [
    {
      "cell_type": "markdown",
      "metadata": {
        "id": "view-in-github",
        "colab_type": "text"
      },
      "source": [
        "<a href=\"https://colab.research.google.com/github/jdmedinatobon/proyectoMachineLearning/blob/master/EntrenamientoModelo.ipynb\" target=\"_parent\"><img src=\"https://colab.research.google.com/assets/colab-badge.svg\" alt=\"Open In Colab\"/></a>"
      ]
    },
    {
      "cell_type": "code",
      "metadata": {
        "id": "ukiI7n1W4dQy",
        "colab_type": "code",
        "outputId": "b89348a1-d538-4860-8fc4-7729ed664e71",
        "colab": {
          "base_uri": "https://localhost:8080/",
          "height": 128
        }
      },
      "source": [
        "from google.colab import drive\n",
        "drive.mount(\"/content/drive\")"
      ],
      "execution_count": 0,
      "outputs": [
        {
          "output_type": "stream",
          "text": [
            "Go to this URL in a browser: https://accounts.google.com/o/oauth2/auth?client_id=947318989803-6bn6qk8qdgf4n4g3pfee6491hc0brc4i.apps.googleusercontent.com&redirect_uri=urn%3Aietf%3Awg%3Aoauth%3A2.0%3Aoob&scope=email%20https%3A%2F%2Fwww.googleapis.com%2Fauth%2Fdocs.test%20https%3A%2F%2Fwww.googleapis.com%2Fauth%2Fdrive%20https%3A%2F%2Fwww.googleapis.com%2Fauth%2Fdrive.photos.readonly%20https%3A%2F%2Fwww.googleapis.com%2Fauth%2Fpeopleapi.readonly&response_type=code\n",
            "\n",
            "Enter your authorization code:\n",
            "··········\n",
            "Mounted at /content/drive\n"
          ],
          "name": "stdout"
        }
      ]
    },
    {
      "cell_type": "markdown",
      "metadata": {
        "id": "H7_KtSiR4BtV",
        "colab_type": "text"
      },
      "source": [
        ""
      ]
    },
    {
      "cell_type": "code",
      "metadata": {
        "id": "01BgKuSC6gfa",
        "colab_type": "code",
        "outputId": "350ea90b-d848-4905-9d95-95f1889fe1b5",
        "colab": {
          "base_uri": "https://localhost:8080/",
          "height": 305
        }
      },
      "source": [
        "!pip3 install xgboost\n",
        "!pip install seaborn"
      ],
      "execution_count": 17,
      "outputs": [
        {
          "output_type": "stream",
          "text": [
            "Requirement already satisfied: xgboost in /usr/local/lib/python3.6/dist-packages (0.90)\n",
            "Requirement already satisfied: numpy in /usr/local/lib/python3.6/dist-packages (from xgboost) (1.17.4)\n",
            "Requirement already satisfied: scipy in /usr/local/lib/python3.6/dist-packages (from xgboost) (1.3.2)\n",
            "Requirement already satisfied: seaborn in /usr/local/lib/python3.6/dist-packages (0.9.0)\n",
            "Requirement already satisfied: numpy>=1.9.3 in /usr/local/lib/python3.6/dist-packages (from seaborn) (1.17.4)\n",
            "Requirement already satisfied: matplotlib>=1.4.3 in /usr/local/lib/python3.6/dist-packages (from seaborn) (3.1.1)\n",
            "Requirement already satisfied: scipy>=0.14.0 in /usr/local/lib/python3.6/dist-packages (from seaborn) (1.3.2)\n",
            "Requirement already satisfied: pandas>=0.15.2 in /usr/local/lib/python3.6/dist-packages (from seaborn) (0.25.3)\n",
            "Requirement already satisfied: kiwisolver>=1.0.1 in /usr/local/lib/python3.6/dist-packages (from matplotlib>=1.4.3->seaborn) (1.1.0)\n",
            "Requirement already satisfied: python-dateutil>=2.1 in /usr/local/lib/python3.6/dist-packages (from matplotlib>=1.4.3->seaborn) (2.6.1)\n",
            "Requirement already satisfied: cycler>=0.10 in /usr/local/lib/python3.6/dist-packages (from matplotlib>=1.4.3->seaborn) (0.10.0)\n",
            "Requirement already satisfied: pyparsing!=2.0.4,!=2.1.2,!=2.1.6,>=2.0.1 in /usr/local/lib/python3.6/dist-packages (from matplotlib>=1.4.3->seaborn) (2.4.5)\n",
            "Requirement already satisfied: pytz>=2017.2 in /usr/local/lib/python3.6/dist-packages (from pandas>=0.15.2->seaborn) (2018.9)\n",
            "Requirement already satisfied: setuptools in /usr/local/lib/python3.6/dist-packages (from kiwisolver>=1.0.1->matplotlib>=1.4.3->seaborn) (41.4.0)\n",
            "Requirement already satisfied: six>=1.5 in /usr/local/lib/python3.6/dist-packages (from python-dateutil>=2.1->matplotlib>=1.4.3->seaborn) (1.12.0)\n"
          ],
          "name": "stdout"
        }
      ]
    },
    {
      "cell_type": "markdown",
      "metadata": {
        "id": "it7Li_GO34h8",
        "colab_type": "text"
      },
      "source": [
        "#Importación de Librerías"
      ]
    },
    {
      "cell_type": "code",
      "metadata": {
        "id": "t-IiLjvWBoa_",
        "colab_type": "code",
        "colab": {}
      },
      "source": [
        "import numpy as np\n",
        "import pandas as pd\n",
        "%tensorflow_version 1.x\n",
        "import tensorflow as tf\n",
        "import time\n",
        "\n",
        "from sklearn.neural_network import MLPClassifier\n",
        "from sklearn import preprocessing\n",
        "from sklearn.decomposition import PCA\n",
        "from sklearn.metrics import confusion_matrix \n",
        "from sklearn.tree import DecisionTreeClassifier\n",
        "from sklearn.model_selection import train_test_split \n",
        "from sklearn.ensemble import AdaBoostClassifier\n",
        "from sklearn.svm import SVC\n",
        "\n",
        "import matplotlib.pyplot as plt\n",
        "import seaborn as sns\n",
        "\n",
        "import tensorflow.keras as keras\n",
        "from keras import Sequential\n",
        "from keras.layers import Dense\n",
        "from keras import optimizers\n",
        "from keras.regularizers import l2\n",
        "from keras.wrappers.scikit_learn import KerasClassifier"
      ],
      "execution_count": 0,
      "outputs": []
    },
    {
      "cell_type": "markdown",
      "metadata": {
        "id": "s_n7G_vC5hq2",
        "colab_type": "text"
      },
      "source": [
        "#Clases"
      ]
    },
    {
      "cell_type": "code",
      "metadata": {
        "id": "97hMPFx15hEM",
        "colab_type": "code",
        "colab": {}
      },
      "source": [
        "#Esta no esta terminada.\n",
        "class Resultados:\n",
        "    def __init__(self, p_y_pred, p_y_true):#, p_labels):\n",
        "        self.y_pred = p_y_pred\n",
        "        self.y_true = p_y_true\n",
        "        #self.labels = p_labels\n",
        "\n",
        "    def darMatrizConfusion(self):\n",
        "      cm = confusion_matrix(self.y_pred, self.y_true)#, self.labels)\n",
        "      ax = plt.subplot()\n",
        "      sns.heatmap(cm, annot = True, ax = ax); #annot=True to annotate cells\n",
        " \n",
        "      # labels, title and ticks\n",
        "      ax.set_xlabel('Predicted labels');\n",
        "      ax.set_ylabel('True labels'); \n",
        "      ax.set_title('Confusion Matrix'); \n",
        "      ax.xaxis.set_ticklabels(['Clase0', 'Clase1', 'Clase2']);\n",
        "      ax.yaxis.set_ticklabels(['Clase0', 'Clase1', 'Clase2']);"
      ],
      "execution_count": 0,
      "outputs": []
    },
    {
      "cell_type": "code",
      "metadata": {
        "id": "LaqrAEP6StRB",
        "colab_type": "code",
        "colab": {}
      },
      "source": [
        "pathDatos = \"datosDescriptoresV1_2_of.txt\"\n",
        "#pathDatos = \"/content/drive/My Drive/datosDescriptoresV1_2_of.txt\"\n",
        "separador = \";\"\n",
        "\n",
        "def importarDatos(pArchivo):\n",
        "\n",
        "  datos = []\n",
        "\n",
        "  archivo = open(pArchivo, \"r\")\n",
        "  lineas = archivo.readlines()\n",
        "  for linea in lineas:\n",
        "    linea = linea.replace('\\n','')\n",
        "    muestra = linea.split(separador)\n",
        "    muestra=np.array(muestra)\n",
        "\n",
        "    datos.append(muestra.astype(float))\n",
        "  datos=np.array(datos)\n",
        "  datosx=datos[:,0:datos[0].shape[0]-2]\n",
        "  datosy=datos[:,datos[0].shape[0]-1]\n",
        "  datosy=datosy.astype(int)\n",
        "  return datosx,datosy\n",
        "    \n",
        "def pruebaBinaria(pEtiquetas):\n",
        "  etiquetasBinarias = np.zeros(len(pEtiquetas))\n",
        "  etiquetasBinarias[pEtiquetas==2]=1\n",
        "  return etiquetasBinarias"
      ],
      "execution_count": 0,
      "outputs": []
    },
    {
      "cell_type": "code",
      "metadata": {
        "id": "a2Cd-G8nTkJt",
        "colab_type": "code",
        "outputId": "aae39444-e954-4003-df30-1c2eaa5b0d99",
        "colab": {
          "base_uri": "https://localhost:8080/",
          "height": 53
        }
      },
      "source": [
        "datos_x, datos_y = importarDatos(pathDatos)\n",
        "print(datos_x.shape)\n",
        "#datos_x=datos_x[:,4::]\n",
        "print(datos_x.shape)\n",
        "\n",
        "datos_y_binarios = pruebaBinaria(datos_y)"
      ],
      "execution_count": 5,
      "outputs": [
        {
          "output_type": "stream",
          "text": [
            "(1800, 16)\n",
            "(1800, 16)\n"
          ],
          "name": "stdout"
        }
      ]
    },
    {
      "cell_type": "markdown",
      "metadata": {
        "id": "j6hlaYJY_VCQ",
        "colab_type": "text"
      },
      "source": [
        "# Preprocesamiento"
      ]
    },
    {
      "cell_type": "code",
      "metadata": {
        "id": "_xfxUFQZ81x8",
        "colab_type": "code",
        "colab": {}
      },
      "source": [
        "#Funcion para normalizar los datos.\n",
        "#pDatos_Para_Normalizar: Son los datos con respecto a los cuales se normaliza.\n",
        "#pDatos: Son los datos a normalizar.\n",
        "def normalizar(pDatos_Para_Normalizar, pDatos):\n",
        " #Se inicializa el preprocesamiento de los datos\n",
        "  normalizar = preprocessing.Normalizer().fit(pDatos_Para_Normalizar) #se obtiene una funcion que permita a \n",
        "  #partir de la media y los valores maximos y minimos de los datos de entrenamiento de este modelo, normalizar los datos de prueba y de entrenamiento\n",
        "  dato_normal = normalizar.transform(pDatos) #Datos normailzados y con los cuales se entrenarán los modelos \n",
        "  return dato_normal\n",
        "\n",
        "#Funcion que calcula las componentes principales de x.\n",
        "#pNumComponentes: Es el numero de componentes principales que se van a calcular. Enviar -1 si se quiere calcular todas.\n",
        "def darComponentesPrincipales(x, pNumComponentes):\n",
        "\n",
        "    if(pNumComponentes != -1):\n",
        "      pca = PCA(n_components = pNumComponentes)\n",
        "    else:\n",
        "      pca = PCA()\n",
        "      \n",
        "    pca.fit(x)\n",
        "    return pca\n",
        "\n",
        "#Funcion que retorna las componentes utilizadas para blanquear los datos.\n",
        "def darBlanqueamiento(x):\n",
        "    pca = PCA(whiten = True)\n",
        "    pca.fit(x)\n",
        "    return pca\n"
      ],
      "execution_count": 0,
      "outputs": []
    },
    {
      "cell_type": "code",
      "metadata": {
        "id": "AartJZc6AF5m",
        "colab_type": "code",
        "colab": {}
      },
      "source": [
        "#Normalizar los datos\n",
        "datos_x_norm=normalizar(datos_x,datos_x)\n",
        "\n",
        "#Calcular los datos con el 99% de la varianza explicada en las componentes principales\n",
        "pca = darComponentesPrincipales(datos_x_norm,-1)\n",
        "datos_x_pca = pca.transform(datos_x_norm)\n",
        "\n",
        "#Blanquear los datos\n",
        "blan = darBlanqueamiento(datos_x)\n",
        "datos_x_blan = blan.transform(datos_x)\n",
        "\n",
        "datos_x_norm=normalizar(datos_x,datos_x)\n",
        "\n",
        "x_train, x_test, y_train, y_test = train_test_split(datos_x_norm, datos_y, random_state = 0, test_size=0.10)"
      ],
      "execution_count": 0,
      "outputs": []
    },
    {
      "cell_type": "code",
      "metadata": {
        "id": "LXn7YhVBJx-M",
        "colab_type": "code",
        "outputId": "33d3e5da-9a95-45e6-c741-3a25baba9a10",
        "colab": {
          "base_uri": "https://localhost:8080/",
          "height": 424
        }
      },
      "source": [
        "#Grafica las componentes principales de los datos_x e indica el numero de componentes que suman el 97% de la varianza total.\n",
        "pca = darComponentesPrincipales(datos_x_norm,-1)\n",
        "\n",
        "#plt.stem(pca.explained_variance_ratio_)\n",
        "plt.xlabel(\"Componentes\")\n",
        "plt.ylabel(\"Varianza Explicada\")\n",
        "plt.legend()\n",
        "#plt.show()\n",
        "\n",
        "print(pca.explained_variance_ratio_)\n",
        "\n",
        "#Grafica los datos_x con una sola componente principal indicando la clase a la que pertenece\n",
        "pca = darComponentesPrincipales(datos_x_norm,-1)\n",
        "numDatos = 100\n",
        "#plt.stem(pca.transform(datos_x), datos_y)\n",
        "plt.stem((pca.explained_variance_ratio_))\n",
        "plt.show()"
      ],
      "execution_count": 8,
      "outputs": [
        {
          "output_type": "stream",
          "text": [
            "No handles with labels found to put in legend.\n",
            "/usr/local/lib/python3.6/dist-packages/ipykernel_launcher.py:15: UserWarning: In Matplotlib 3.3 individual lines on a stem plot will be added as a LineCollection instead of individual lines. This significantly improves the performance of a stem plot. To remove this warning and switch to the new behaviour, set the \"use_line_collection\" keyword argument to True.\n",
            "  from ipykernel import kernelapp as app\n"
          ],
          "name": "stderr"
        },
        {
          "output_type": "stream",
          "text": [
            "[8.74896458e-01 1.24885820e-01 2.17576890e-04 1.19972475e-07\n",
            " 2.18301771e-08 2.75024115e-09 1.93241326e-10 9.15460327e-12\n",
            " 4.77825490e-12 1.22717235e-12 1.63867270e-13 4.80582139e-14\n",
            " 2.26675649e-15 1.13387820e-19 1.25050351e-24 8.13155110e-26]\n"
          ],
          "name": "stdout"
        },
        {
          "output_type": "display_data",
          "data": {
            "image/png": "[encoded data removed]",
            "text/plain": [
              "<Figure size 432x288 with 1 Axes>"
            ]
          },
          "metadata": {
            "tags": []
          }
        }
      ]
    },
    {
      "cell_type": "code",
      "metadata": {
        "id": "Za3F5p4dTqDl",
        "colab_type": "code",
        "outputId": "209b6205-e084-40a7-928b-6b5628ee568e",
        "colab": {
          "base_uri": "https://localhost:8080/",
          "height": 146
        }
      },
      "source": [
        "n=10\n",
        "error=[]\n",
        "Proba_error_prueba=100000\n",
        "error_actual=1000000\n",
        "Proba_error_prueba_tan=100000\n",
        "modeloPrueba = MLPClassifier(activation = 'relu',hidden_layer_sizes=(n,2), max_iter=1, batch_size=2, solver='adam', tol=0.001, warm_start =True,momentum=0.6, learning_rate_init=0.001, learning_rate = 'adaptive', nesterovs_momentum=True, power_t=0.5)#0.6\n",
        "for i in range(0,150):\n",
        "    modeloPrueba.fit(X_train,y_train)\n",
        "    error_actual = 1-modeloPrueba.score(X_test,y_test)\n",
        "    error.append(error_actual)\n",
        "    if(error_actual<Proba_error_prueba):\n",
        "        N_neuronas=n\n",
        "        fcn_activacion=\"tanh\"\n",
        "        modelo = modeloPrueba\n",
        "        Proba_error_prueba = error_actual\n",
        "    if(error_actual<Proba_error_prueba_tan):\n",
        "        N_neuronas_tan=n\n",
        "        modelo_tan = modeloPrueba\n",
        "        Proba_error_prueba_tan = error_actual\n",
        "print(\"Número de neuronas utilizadas para la mejor probabilidad de error para tanh descenso de gradiente\")\n",
        "print(N_neuronas_tan)\n",
        "print(\"Mejor probabilidad de acierto para función de activación tanh con descenso de gradiente\")\n",
        "print(1-Proba_error_prueba_tan)"
      ],
      "execution_count": 0,
      "outputs": [
        {
          "output_type": "stream",
          "text": [
            "/usr/local/lib/python3.6/dist-packages/sklearn/neural_network/multilayer_perceptron.py:566: ConvergenceWarning: Stochastic Optimizer: Maximum iterations (1) reached and the optimization hasn't converged yet.\n",
            "  % self.max_iter, ConvergenceWarning)\n"
          ],
          "name": "stderr"
        },
        {
          "output_type": "stream",
          "text": [
            "Número de neuronas utilizadas para la mejor probabilidad de error para tanh descenso de gradiente\n",
            "10\n",
            "Mejor probabilidad de acierto para función de activación tanh con descenso de gradiente\n",
            "0.3388888888888889\n"
          ],
          "name": "stdout"
        }
      ]
    },
    {
      "cell_type": "code",
      "metadata": {
        "id": "_HG3i2Sr9Ns2",
        "colab_type": "code",
        "outputId": "a9b9720a-e8ef-4252-86eb-6afaef2c2d1a",
        "colab": {
          "base_uri": "https://localhost:8080/",
          "height": 295
        }
      },
      "source": [
        "plt.plot((1-np.array(error)), label = \"Entrenamiento modelo tangente hiperbólico\") \n",
        "plt.xlabel('iteraciones') \n",
        "plt.ylabel('Probabilidad de acierto (%)') \n",
        "plt.title('probabilidad de acierto contra número de iteraciones para función de activación Tangente hiperbólico') \n",
        "plt.legend() \n",
        "plt.show()"
      ],
      "execution_count": 0,
      "outputs": [
        {
          "output_type": "display_data",
          "data": {
            "image/png": "[encoded data removed]",
            "text/plain": [
              "<Figure size 432x288 with 1 Axes>"
            ]
          },
          "metadata": {
            "tags": []
          }
        }
      ]
    },
    {
      "cell_type": "code",
      "metadata": {
        "id": "aVwoxdDH0FIR",
        "colab_type": "code",
        "outputId": "a2f2aa4f-813c-4983-f2f9-ed38cc0b83c5",
        "colab": {
          "base_uri": "https://localhost:8080/",
          "height": 50
        }
      },
      "source": [
        "#dtree_model = DecisionTreeClassifier(max_depth = 50).fit(X_train, y_train) \n",
        "#dtree_predictions = dtree_model.predict(X_test) \n",
        "\n",
        "rng = np.random.RandomState(1)\n",
        "tree=DecisionTreeClassifier(max_depth=5)\n",
        "Boosting = AdaBoostClassifier(base_estimator =tree, n_estimators=1000, learning_rate=1.0, random_state=rng)\n",
        "Boosting.fit(X_train,y_train)\n",
        "print(\"Porcentaje de acierto utilizando datos normalizados\")\n",
        "Boosting.score(X_test,y_test)\n",
        "\n",
        "# creating a confusion matrix \n",
        "#cm = confusion_matrix(y_test, dtree_predictions)\n",
        "#print(np.sum(np.diag(cm))/360)\n",
        "#print(cm)"
      ],
      "execution_count": 0,
      "outputs": [
        {
          "output_type": "stream",
          "text": [
            "Porcentaje de acierto utilizando datos normalizados\n"
          ],
          "name": "stdout"
        },
        {
          "output_type": "execute_result",
          "data": {
            "text/plain": [
              "0.3611111111111111"
            ]
          },
          "metadata": {
            "tags": []
          },
          "execution_count": 28
        }
      ]
    },
    {
      "cell_type": "markdown",
      "metadata": {
        "id": "pYGUJLph1YYE",
        "colab_type": "text"
      },
      "source": [
        "#Implementación con SVM"
      ]
    },
    {
      "cell_type": "code",
      "metadata": {
        "id": "-7PIfdYf1ejO",
        "colab_type": "code",
        "colab": {
          "base_uri": "https://localhost:8080/",
          "height": 331
        },
        "outputId": "3cba53d6-a5a9-48c2-aa72-3051997d3bb7"
      },
      "source": [
        "modelo = SVC(C = 1, kernel = 'rbf', gamma = 'scale')\n",
        "modelo.fit(x_train, y_train)\n",
        "\n",
        "print(\"Error de Entrenamiento con SVM: {}\".format(1-modelo.score(x_train,y_train)))\n",
        "print(\"Error de Validación con SVM: {}\".format(1-modelo.score(x_test,y_test)))\n",
        "\n",
        "resultadosSVM = Resultados(modelo.predict(x_test), y_test)\n",
        "\n",
        "#Esto no esta terminado y por eso se ve fea\n",
        "resultadosSVM.darMatrizConfusion()"
      ],
      "execution_count": 24,
      "outputs": [
        {
          "output_type": "stream",
          "text": [
            "Error de Entrenamiento con SVM: 0.6654320987654321\n",
            "Error de Validación con SVM: 0.6777777777777778\n"
          ],
          "name": "stdout"
        },
        {
          "output_type": "display_data",
          "data": {
            "image/png": "[encoded data removed]",
            "text/plain": [
              "<Figure size 432x288 with 2 Axes>"
            ]
          },
          "metadata": {
            "tags": []
          }
        }
      ]
    },
    {
      "cell_type": "markdown",
      "metadata": {
        "id": "HPtrsS9l74jh",
        "colab_type": "text"
      },
      "source": [
        "#Implementación con Keras"
      ]
    },
    {
      "cell_type": "code",
      "metadata": {
        "id": "2FBwvBcx70qs",
        "colab_type": "code",
        "colab": {}
      },
      "source": [
        "def graficarHistoriaAccuracy(pHist):\n",
        "  plt.plot(pHist.history['sparse_categorical_accuracy'], label = 'Accuracy')\n",
        "  plt.xlabel('Epoca')\n",
        "  plt.ylabel('Accuracy Entrenamiento')\n",
        "  plt.title(\"Accuracy de Entrenamiento vs Epoca\")\n",
        "  plt.legend()\n",
        "  plt.show()\n",
        "\n",
        "def graficarHistoriaValAccuracy(pHist):\n",
        "  plt.plot(hist.history['val_sparse_categorical_accuracy'], label = 'Accuracy Validacion')\n",
        "  plt.xlabel('Epoca')\n",
        "  plt.ylabel('Accuracy Validacion')\n",
        "  plt.title(\"Accuracy de Validacion vs Epoca\")\n",
        "  plt.legend()\n",
        "  plt.show()\n",
        "\n",
        "def crearModelo():\n",
        "\n",
        "  tasa = 0.005\n",
        "  alpha = 0\n",
        "\n",
        "  modelo = Sequential()\n",
        "  modelo.add(Dense(64, use_bias = True, kernel_initializer='random_uniform', input_dim = 16, activation = \"relu\",activity_regularizer=l2(alpha)))\n",
        "  modelo.add(Dense(32, use_bias = True, activation = \"relu\"))\n",
        "  modelo.add(Dense(16, use_bias = True, activation = \"sigmoid\"))\n",
        "  modelo.add(Dense(3, activation = \"softmax\"))\n",
        "\n",
        "  sgd = optimizers.SGD(lr = tasa)\n",
        "\n",
        "  modelo.compile(loss='sparse_categorical_crossentropy', optimizer = sgd, metrics = ['sparse_categorical_accuracy'])\n",
        "\n",
        "  return modelo\n",
        "\n",
        "modelo = crearModelo()\n",
        "hist = modelo.fit(X_train, y_train, validation_data=(X_test, y_test), epochs = 100, batch_size = 32)\n",
        "graficarHistoriaAccuracy(hist)\n",
        "graficarHistoriaValAccuracy(hist)"
      ],
      "execution_count": 0,
      "outputs": []
    },
    {
      "cell_type": "markdown",
      "metadata": {
        "id": "rFudTVVMhxZf",
        "colab_type": "text"
      },
      "source": [
        "#Implementación con AdaBoost"
      ]
    },
    {
      "cell_type": "code",
      "metadata": {
        "id": "FGZ4e2gTBEpS",
        "colab_type": "code",
        "outputId": "9f1209c6-d65e-4a3d-fb09-c7c27a549278",
        "colab": {
          "base_uri": "https://localhost:8080/",
          "height": 53
        }
      },
      "source": [
        "epocas = 100\n",
        "batchSize = 32\n",
        "\n",
        "estimadorBase = KerasClassifier(build_fn = crearModelo, epochs = epocas, batch_size = batchSize, verbose = 0)\n",
        "\n",
        "print(\"Calculando...\")\n"
      ],
      "execution_count": 0,
      "outputs": [
        {
          "output_type": "stream",
          "text": [
            "0.3345679012345679\n",
            "0.32222222222222224\n"
          ],
          "name": "stdout"
        }
      ]
    },
    {
      "cell_type": "code",
      "metadata": {
        "id": "9-J_0bGeBNZN",
        "colab_type": "code",
        "outputId": "37823f3c-0242-4904-bebb-1b9e68772263",
        "colab": {
          "base_uri": "https://localhost:8080/",
          "height": 126
        }
      },
      "source": [
        "\n",
        "numEstimadores = 1000\n",
        "max_d=10\n",
        "estimadorBase=DecisionTreeClassifier(max_depth=max_d)\n",
        "adaBoost = AdaBoostClassifier(base_estimator = estimadorBase, n_estimators = numEstimadores) #Variar otros parametros como la tasa de aprendizaje\n",
        "adaBoost.fit(X_train, y_train)\n",
        "print(confusion_matrix(adaBoost.predict(X_train),y_train))\n",
        "print(confusion_matrix(adaBoost.predict(X_test),y_test))\n"
      ],
      "execution_count": 0,
      "outputs": [
        {
          "output_type": "stream",
          "text": [
            "[[539   0   0]\n",
            " [  0 539   0]\n",
            " [  0   0 542]]\n",
            "[[20 26 15]\n",
            " [18 18 23]\n",
            " [23 17 20]]\n"
          ],
          "name": "stdout"
        }
      ]
    },
    {
      "cell_type": "code",
      "metadata": {
        "id": "MSIZinQvwnik",
        "colab_type": "code",
        "colab": {}
      },
      "source": [
        "def obtener_Resultados():\n",
        "    max_depths= [1,2,3,4,5]\n",
        "    n_estimatorss= [100,200,300,400,500,600,700,800,900,1000]\n",
        "    results=[]\n",
        "    for m in max_depths:\n",
        "        for n in n_estimatorss:\n",
        "            tree=DecisionTreeClassifier(max_depth=m)\n",
        "            adaBoost = AdaBoostClassifier(base_estimator = tree, n_estimators = m) #Variar otros parametros como la tasa de aprendizaje\n",
        "            adaBoost.fit(X_train,y_train)\n",
        "            results.append(Resultados(m, n, adaBoost.score(Prueba_X_N,Prueba_Y)))\n",
        "    return results"
      ],
      "execution_count": 0,
      "outputs": []
    }
  ]
}