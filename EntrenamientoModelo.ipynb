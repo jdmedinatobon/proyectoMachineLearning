{
  "nbformat": 4,
  "nbformat_minor": 0,
  "metadata": {
    "colab": {
      "name": "EntrenamientoModelo.ipynb",
      "provenance": [],
      "collapsed_sections": [],
      "toc_visible": true,
      "include_colab_link": true
    },
    "kernelspec": {
      "name": "python3",
      "display_name": "Python 3"
    }
  },
  "cells": [
    {
      "cell_type": "markdown",
      "metadata": {
        "id": "view-in-github",
        "colab_type": "text"
      },
      "source": [
        "<a href=\"https://colab.research.google.com/github/jdmedinatobon/proyectoMachineLearning/blob/master/EntrenamientoModelo.ipynb\" target=\"_parent\"><img src=\"https://colab.research.google.com/assets/colab-badge.svg\" alt=\"Open In Colab\"/></a>"
      ]
    },
    {
      "cell_type": "code",
      "metadata": {
        "id": "ukiI7n1W4dQy",
        "colab_type": "code",
        "outputId": "46745d9b-8c57-478a-f196-67fa05090194",
        "colab": {
          "base_uri": "https://localhost:8080/",
          "height": 120
        }
      },
      "source": [
        "from google.colab import drive\n",
        "drive.mount(\"/content/drive\")"
      ],
      "execution_count": 0,
      "outputs": [
        {
          "output_type": "stream",
          "text": [
            "Go to this URL in a browser: https://accounts.google.com/o/oauth2/auth?client_id=947318989803-6bn6qk8qdgf4n4g3pfee6491hc0brc4i.apps.googleusercontent.com&redirect_uri=urn%3Aietf%3Awg%3Aoauth%3A2.0%3Aoob&scope=email%20https%3A%2F%2Fwww.googleapis.com%2Fauth%2Fdocs.test%20https%3A%2F%2Fwww.googleapis.com%2Fauth%2Fdrive%20https%3A%2F%2Fwww.googleapis.com%2Fauth%2Fdrive.photos.readonly%20https%3A%2F%2Fwww.googleapis.com%2Fauth%2Fpeopleapi.readonly&response_type=code\n",
            "\n",
            "Enter your authorization code:\n",
            "··········\n",
            "Mounted at /content/drive\n"
          ],
          "name": "stdout"
        }
      ]
    },
    {
      "cell_type": "code",
      "metadata": {
        "id": "01BgKuSC6gfa",
        "colab_type": "code",
        "outputId": "277e68fb-56c6-4175-ad19-b9946704e9fb",
        "colab": {
          "base_uri": "https://localhost:8080/",
          "height": 67
        }
      },
      "source": [
        "!pip3 install xgboost"
      ],
      "execution_count": 0,
      "outputs": [
        {
          "output_type": "stream",
          "text": [
            "Requirement already satisfied: xgboost in /usr/local/lib/python3.6/dist-packages (0.90)\n",
            "Requirement already satisfied: numpy in /tensorflow-2.0.0/python3.6 (from xgboost) (1.17.3)\n",
            "Requirement already satisfied: scipy in /usr/local/lib/python3.6/dist-packages (from xgboost) (1.3.1)\n"
          ],
          "name": "stdout"
        }
      ]
    },
    {
      "cell_type": "code",
      "metadata": {
        "id": "t-IiLjvWBoa_",
        "colab_type": "code",
        "colab": {}
      },
      "source": [
        "import numpy as np\n",
        "%tensorflow_version 1.x\n",
        "import tensorflow as tf\n",
        "import time\n",
        "\n",
        "from sklearn.neural_network import MLPClassifier\n",
        "from sklearn import preprocessing\n",
        "from sklearn.decomposition import PCA\n",
        "from sklearn.metrics import confusion_matrix \n",
        "from sklearn.tree import DecisionTreeClassifier\n",
        "from sklearn.model_selection import train_test_split \n",
        "\n",
        "import matplotlib.pyplot as plt\n",
        "\n",
        "import tensorflow.keras as keras\n",
        "from keras import Sequential\n",
        "from keras.layers import Dense\n",
        "from keras import optimizers\n",
        "from keras.regularizers import l2"
      ],
      "execution_count": 0,
      "outputs": []
    },
    {
      "cell_type": "code",
      "metadata": {
        "id": "LaqrAEP6StRB",
        "colab_type": "code",
        "colab": {}
      },
      "source": [
        "#pathDatos = \"drive/My Drive/datosDescriptoresPruebaV3.txt\"\n",
        "pathDatos = \"datosDescriptoresPruebaV3.txt\"\n",
        "separador = \";\"\n",
        "\n",
        "def importarDatos(pArchivo):\n",
        "\n",
        "  datos = []\n",
        "\n",
        "  archivo = open(pArchivo, \"r\")\n",
        "  lineas = archivo.readlines()\n",
        "  for linea in lineas:\n",
        "    linea = linea.replace('\\n','')\n",
        "    muestra = linea.split(separador)\n",
        "    muestra=np.array(muestra)\n",
        "\n",
        "    datos.append(muestra.astype(float))\n",
        "  datos=np.array(datos)\n",
        "  datosx=datos[:,0:datos[0].shape[0]-2]\n",
        "  datosy=datos[:,datos[0].shape[0]-1]\n",
        "  datosy=datosy.astype(int)\n",
        "  return datosx,datosy\n",
        "    \n",
        "def pruebaBinaria(pEtiquetas):\n",
        "  etiquetasBinarias = np.zeros(len(pEtiquetas))\n",
        "\n",
        "  for i in range(0,len(pEtiquetas)):\n",
        "    if(pEtiquetas[i] == 2):\n",
        "      etiquetasBinarias[i] = 1\n",
        "\n",
        "  return etiquetasBinarias"
      ],
      "execution_count": 0,
      "outputs": []
    },
    {
      "cell_type": "code",
      "metadata": {
        "id": "a2Cd-G8nTkJt",
        "colab_type": "code",
        "colab": {
          "base_uri": "https://localhost:8080/",
          "height": 35
        },
        "outputId": "6c4dec76-901e-48ad-877c-7412b8390887"
      },
      "source": [
        "datos_x, datos_y = importarDatos(pathDatos)\n",
        "\n",
        "datos_y_binarios = pruebaBinaria(datos_y)"
      ],
      "execution_count": 85,
      "outputs": [
        {
          "output_type": "execute_result",
          "data": {
            "text/plain": [
              "array([0., 0., 1., ..., 0., 1., 1.])"
            ]
          },
          "metadata": {
            "tags": []
          },
          "execution_count": 85
        }
      ]
    },
    {
      "cell_type": "markdown",
      "metadata": {
        "id": "j6hlaYJY_VCQ",
        "colab_type": "text"
      },
      "source": [
        "# Preprocesamiento"
      ]
    },
    {
      "cell_type": "code",
      "metadata": {
        "id": "_xfxUFQZ81x8",
        "colab_type": "code",
        "colab": {}
      },
      "source": [
        "#Funcion para normalizar los datos.\n",
        "#pDatos_Para_Normalizar: Son los datos con respecto a los cuales se normaliza.\n",
        "#pDatos: Son los datos a normalizar.\n",
        "def normalizar(pDatos_Para_Normalizar, pDatos):\n",
        " #Se inicializa el preprocesamiento de los datos\n",
        "  normalizar = preprocessing.Normalizer().fit(pDatos_Para_Normalizar) #se obtiene una funcion que permita a \n",
        "  #partir de la media y los valores maximos y minimos de los datos de entrenamiento de este modelo, normalizar los datos de prueba y de entrenamiento\n",
        "  dato_normal = normalizar.transform(pDatos) #Datos normailzados y con los cuales se entrenarán los modelos \n",
        "  return dato_normal\n",
        "\n",
        "#Funcion que calcula las componentes principales de x.\n",
        "#pNumComponentes: Es el numero de componentes principales que se van a calcular. Enviar -1 si se quiere calcular todas.\n",
        "def darComponentesPrincipales(x, pNumComponentes):\n",
        "\n",
        "    if(pNumComponentes != -1):\n",
        "      pca = PCA(n_components = pNumComponentes)\n",
        "    else:\n",
        "      pca = PCA()\n",
        "      \n",
        "    pca.fit(x)\n",
        "    return pca\n",
        "\n",
        "#Funcion que retorna las componentes utilizadas para blanquear los datos.\n",
        "def darBlanqueamiento(x):\n",
        "    pca = PCA(whiten = True)\n",
        "    pca.fit(x)\n",
        "    return pca\n"
      ],
      "execution_count": 0,
      "outputs": []
    },
    {
      "cell_type": "code",
      "metadata": {
        "id": "AartJZc6AF5m",
        "colab_type": "code",
        "colab": {}
      },
      "source": [
        "#Normalizar los datos\n",
        "datos_x_norm=normalizar(datos_x,datos_x)\n",
        "\n",
        "#Calcular los datos con el 99% de la varianza explicada en las componentes principales\n",
        "pca = darComponentesPrincipales(datos_x,1)\n",
        "datos_x_pca = pca.transform(datos_x)\n",
        "\n",
        "#Blanquear los datos\n",
        "blan = darBlanqueamiento(datos_x)\n",
        "datos_x_blan = blan.transform(datos_x)\n",
        "\n",
        "X_train, X_test, y_train, y_test = train_test_split(datos_x_blan, datos_y_binarios, random_state = 0, test_size=0.10)"
      ],
      "execution_count": 0,
      "outputs": []
    },
    {
      "cell_type": "code",
      "metadata": {
        "id": "LXn7YhVBJx-M",
        "colab_type": "code",
        "colab": {
          "base_uri": "https://localhost:8080/",
          "height": 708
        },
        "outputId": "88db3409-ba3e-417c-fc6f-d34e3b78645c"
      },
      "source": [
        "#Grafica las componentes principales de los datos_x e indica el numero de componentes que suman el 97% de la varianza total.\n",
        "pca = darComponentesPrincipales(datos_x,-1)\n",
        "\n",
        "plt.stem(pca.explained_variance_ratio_)\n",
        "plt.xlabel(\"Componentes\")\n",
        "plt.ylabel(\"Varianza Explicada\")\n",
        "plt.legend()\n",
        "plt.show()\n",
        "\n",
        "print(pca.explained_variance_ratio_)\n",
        "\n",
        "#Grafica los datos_x con una sola componente principal indicando la clase a la que pertenece\n",
        "pca = darComponentesPrincipales(datos_x,1)\n",
        "numDatos = 100\n",
        "plt.stem(pca.transform(datos_x), datos_y)\n",
        "plt.show()"
      ],
      "execution_count": 71,
      "outputs": [
        {
          "output_type": "stream",
          "text": [
            "/usr/local/lib/python3.6/dist-packages/ipykernel_launcher.py:3: UserWarning: In Matplotlib 3.3 individual lines on a stem plot will be added as a LineCollection instead of individual lines. This significantly improves the performance of a stem plot. To remove this warning and switch to the new behaviour, set the \"use_line_collection\" keyword argument to True.\n",
            "  This is separate from the ipykernel package so we can avoid doing imports until\n",
            "No handles with labels found to put in legend.\n"
          ],
          "name": "stderr"
        },
        {
          "output_type": "display_data",
          "data": {
            "image/png": "[encoded data removed]",
            "text/plain": [
              "<Figure size 432x288 with 1 Axes>"
            ]
          },
          "metadata": {
            "tags": []
          }
        },
        {
          "output_type": "stream",
          "text": [
            "[9.94067934e-01 5.81216613e-03 1.16287703e-04 3.60314856e-06\n",
            " 4.31372811e-09 3.55194064e-09 1.06854382e-09 3.50782015e-11\n",
            " 9.01059961e-12 2.72415959e-12 3.29013989e-13 1.16731195e-13\n",
            " 2.91716009e-14 1.40728851e-14 2.24243879e-19 8.60678167e-30]\n"
          ],
          "name": "stdout"
        },
        {
          "output_type": "stream",
          "text": [
            "/usr/local/lib/python3.6/dist-packages/ipykernel_launcher.py:14: UserWarning: In Matplotlib 3.3 individual lines on a stem plot will be added as a LineCollection instead of individual lines. This significantly improves the performance of a stem plot. To remove this warning and switch to the new behaviour, set the \"use_line_collection\" keyword argument to True.\n",
            "  \n"
          ],
          "name": "stderr"
        },
        {
          "output_type": "display_data",
          "data": {
            "image/png": "[encoded data removed]",
            "text/plain": [
              "<Figure size 432x288 with 1 Axes>"
            ]
          },
          "metadata": {
            "tags": []
          }
        }
      ]
    },
    {
      "cell_type": "code",
      "metadata": {
        "id": "Za3F5p4dTqDl",
        "colab_type": "code",
        "outputId": "9af75e4a-4163-46e9-adb1-28542892bfd6",
        "colab": {
          "base_uri": "https://localhost:8080/",
          "height": 144
        }
      },
      "source": [
        "n=10\n",
        "error=[]\n",
        "Proba_error_prueba=100000\n",
        "error_actual=1000000\n",
        "Proba_error_prueba_tan=100000\n",
        "modeloPrueba = MLPClassifier(activation = 'relu',hidden_layer_sizes=(n,2), max_iter=1, batch_size=2, solver='adam', tol=0.001, warm_start =True,momentum=0.6, learning_rate_init=0.001, learning_rate = 'adaptive', nesterovs_momentum=True, power_t=0.5)#0.6\n",
        "for i in range(0,150):\n",
        "    modeloPrueba.fit(X_train,y_train)\n",
        "    error_actual = 1-modeloPrueba.score(X_test,y_test)\n",
        "    error.append(error_actual)\n",
        "    if(error_actual<Proba_error_prueba):\n",
        "        N_neuronas=n\n",
        "        fcn_activacion=\"tanh\"\n",
        "        modelo = modeloPrueba\n",
        "        Proba_error_prueba = error_actual\n",
        "    if(error_actual<Proba_error_prueba_tan):\n",
        "        N_neuronas_tan=n\n",
        "        modelo_tan = modeloPrueba\n",
        "        Proba_error_prueba_tan = error_actual\n",
        "print(\"Número de neuronas utilizadas para la mejor probabilidad de error para tanh descenso de gradiente\")\n",
        "print(N_neuronas_tan)\n",
        "print(\"Mejor probabilidad de acierto para función de activación tanh con descenso de gradiente\")\n",
        "print(1-Proba_error_prueba_tan)"
      ],
      "execution_count": 46,
      "outputs": [
        {
          "output_type": "stream",
          "text": [
            "/usr/local/lib/python3.6/dist-packages/sklearn/neural_network/multilayer_perceptron.py:566: ConvergenceWarning: Stochastic Optimizer: Maximum iterations (1) reached and the optimization hasn't converged yet.\n",
            "  % self.max_iter, ConvergenceWarning)\n"
          ],
          "name": "stderr"
        },
        {
          "output_type": "stream",
          "text": [
            "Número de neuronas utilizadas para la mejor probabilidad de error para tanh descenso de gradiente\n",
            "10\n",
            "Mejor probabilidad de acierto para función de activación tanh con descenso de gradiente\n",
            "0.3416666666666667\n"
          ],
          "name": "stdout"
        }
      ]
    },
    {
      "cell_type": "code",
      "metadata": {
        "id": "_HG3i2Sr9Ns2",
        "colab_type": "code",
        "outputId": "3e1831d4-78fc-44f7-c1af-50b3385389ec",
        "colab": {
          "base_uri": "https://localhost:8080/",
          "height": 295
        }
      },
      "source": [
        "plt.plot((1-np.array(error)), label = \"Entrenamiento modelo tangente hiperbólico\") \n",
        "plt.xlabel('iteraciones') \n",
        "plt.ylabel('Probabilidad de acierto (%)') \n",
        "plt.title('probabilidad de acierto contra número de iteraciones para función de activación Tangente hiperbólico') \n",
        "plt.legend() \n",
        "plt.show()"
      ],
      "execution_count": 44,
      "outputs": [
        {
          "output_type": "display_data",
          "data": {
            "image/png": "[encoded data removed]",
            "text/plain": [
              "<Figure size 432x288 with 1 Axes>"
            ]
          },
          "metadata": {
            "tags": []
          }
        }
      ]
    },
    {
      "cell_type": "code",
      "metadata": {
        "id": "aVwoxdDH0FIR",
        "colab_type": "code",
        "outputId": "5440038d-af9c-4843-cc84-0b7137c05d39",
        "colab": {
          "base_uri": "https://localhost:8080/",
          "height": 88
        }
      },
      "source": [
        "dtree_model = DecisionTreeClassifier(max_depth = 3).fit(X_train, y_train) \n",
        "dtree_predictions = dtree_model.predict(X_test) \n",
        "\n",
        "# creating a confusion matrix \n",
        "cm = confusion_matrix(y_test, dtree_predictions)\n",
        "print(np.sum(np.diag(cm))/360)\n",
        "print(cm)"
      ],
      "execution_count": 41,
      "outputs": [
        {
          "output_type": "stream",
          "text": [
            "0.31666666666666665\n",
            "[[  4   0 122]\n",
            " [  3   2 118]\n",
            " [  3   0 108]]\n"
          ],
          "name": "stdout"
        }
      ]
    },
    {
      "cell_type": "markdown",
      "metadata": {
        "id": "HPtrsS9l74jh",
        "colab_type": "text"
      },
      "source": [
        "#Implementación con Keras"
      ]
    },
    {
      "cell_type": "code",
      "metadata": {
        "id": "2FBwvBcx70qs",
        "colab_type": "code",
        "outputId": "cd6ab6e7-31b9-40e4-9d0b-85aab1239693",
        "colab": {
          "base_uri": "https://localhost:8080/",
          "height": 1000
        }
      },
      "source": [
        "def graficarHistoriaAccuracy(pHist):\n",
        "  plt.plot(pHist.history['sparse_categorical_accuracy'], label = 'Accuracy')\n",
        "  plt.xlabel('Epoca')\n",
        "  plt.ylabel('Accuracy Entrenamiento')\n",
        "  plt.title(\"Accuracy de Entrenamiento vs Epoca\")\n",
        "  plt.legend()\n",
        "  plt.show()\n",
        "\n",
        "def graficarHistoriaValAccuracy(pHist):\n",
        "  plt.plot(hist.history['val_sparse_categorical_accuracy'], label = 'Accuracy Validacion')\n",
        "  plt.xlabel('Epoca')\n",
        "  plt.ylabel('Accuracy Validacion')\n",
        "  plt.title(\"Accuracy de Validacion vs Epoca\")\n",
        "  plt.legend()\n",
        "  plt.show()\n",
        "\n",
        "tasa = 0.001\n",
        "alpha = 0.01\n",
        "\n",
        "modelo = Sequential()\n",
        "modelo.add(Dense(16, use_bias = True, kernel_initializer='random_uniform', input_dim = 16, activation = \"sigmoid\",activity_regularizer=l2(alpha)))\n",
        "modelo.add(Dense(8, use_bias = True, activation = \"relu\"))\n",
        "modelo.add(Dense(2, activation = \"softmax\"))\n",
        "\n",
        "sgd = optimizers.SGD(lr = tasa)\n",
        "\n",
        "modelo.compile(loss='sparse_categorical_crossentropy', optimizer = sgd, metrics = ['sparse_categorical_accuracy'])\n",
        "hist = modelo.fit(X_train, y_train, validation_data=(X_test, y_test), epochs = 100, batch_size = 1800)"
      ],
      "execution_count": 92,
      "outputs": [
        {
          "output_type": "stream",
          "text": [
            "Train on 1620 samples, validate on 180 samples\n",
            "Epoch 1/100\n",
            "1620/1620 [==============================] - 1s 754us/step - loss: 65.4152 - sparse_categorical_accuracy: 0.6654 - val_loss: 7.7766 - val_sparse_categorical_accuracy: 0.6778\n",
            "Epoch 2/100\n",
            "1620/1620 [==============================] - 0s 6us/step - loss: 64.9012 - sparse_categorical_accuracy: 0.6654 - val_loss: 7.7205 - val_sparse_categorical_accuracy: 0.6778\n",
            "Epoch 3/100\n",
            "1620/1620 [==============================] - 0s 5us/step - loss: 64.3913 - sparse_categorical_accuracy: 0.6654 - val_loss: 7.6649 - val_sparse_categorical_accuracy: 0.6778\n",
            "Epoch 4/100\n",
            "1620/1620 [==============================] - 0s 4us/step - loss: 63.8854 - sparse_categorical_accuracy: 0.6654 - val_loss: 7.6097 - val_sparse_categorical_accuracy: 0.6778\n",
            "Epoch 5/100\n",
            "1620/1620 [==============================] - 0s 3us/step - loss: 63.3836 - sparse_categorical_accuracy: 0.6654 - val_loss: 7.5550 - val_sparse_categorical_accuracy: 0.6778\n",
            "Epoch 6/100\n",
            "1620/1620 [==============================] - 0s 5us/step - loss: 62.8860 - sparse_categorical_accuracy: 0.6654 - val_loss: 7.5007 - val_sparse_categorical_accuracy: 0.6778\n",
            "Epoch 7/100\n",
            "1620/1620 [==============================] - 0s 4us/step - loss: 62.3924 - sparse_categorical_accuracy: 0.6654 - val_loss: 7.4469 - val_sparse_categorical_accuracy: 0.6778\n",
            "Epoch 8/100\n",
            "1620/1620 [==============================] - 0s 6us/step - loss: 61.9029 - sparse_categorical_accuracy: 0.6654 - val_loss: 7.3935 - val_sparse_categorical_accuracy: 0.6778\n",
            "Epoch 9/100\n",
            "1620/1620 [==============================] - 0s 5us/step - loss: 61.4174 - sparse_categorical_accuracy: 0.6654 - val_loss: 7.3405 - val_sparse_categorical_accuracy: 0.6778\n",
            "Epoch 10/100\n",
            "1620/1620 [==============================] - 0s 5us/step - loss: 60.9361 - sparse_categorical_accuracy: 0.6654 - val_loss: 7.2880 - val_sparse_categorical_accuracy: 0.6778\n",
            "Epoch 11/100\n",
            "1620/1620 [==============================] - 0s 3us/step - loss: 60.4587 - sparse_categorical_accuracy: 0.6654 - val_loss: 7.2360 - val_sparse_categorical_accuracy: 0.6778\n",
            "Epoch 12/100\n",
            "1620/1620 [==============================] - 0s 4us/step - loss: 59.9855 - sparse_categorical_accuracy: 0.6654 - val_loss: 7.1843 - val_sparse_categorical_accuracy: 0.6778\n",
            "Epoch 13/100\n",
            "1620/1620 [==============================] - 0s 4us/step - loss: 59.5162 - sparse_categorical_accuracy: 0.6654 - val_loss: 7.1332 - val_sparse_categorical_accuracy: 0.6778\n",
            "Epoch 14/100\n",
            "1620/1620 [==============================] - 0s 5us/step - loss: 59.0510 - sparse_categorical_accuracy: 0.6654 - val_loss: 7.0824 - val_sparse_categorical_accuracy: 0.6778\n",
            "Epoch 15/100\n",
            "1620/1620 [==============================] - 0s 4us/step - loss: 58.5899 - sparse_categorical_accuracy: 0.6654 - val_loss: 7.0321 - val_sparse_categorical_accuracy: 0.6778\n",
            "Epoch 16/100\n",
            "1620/1620 [==============================] - 0s 4us/step - loss: 58.1327 - sparse_categorical_accuracy: 0.6654 - val_loss: 6.9823 - val_sparse_categorical_accuracy: 0.6778\n",
            "Epoch 17/100\n",
            "1620/1620 [==============================] - 0s 4us/step - loss: 57.6795 - sparse_categorical_accuracy: 0.6654 - val_loss: 6.9328 - val_sparse_categorical_accuracy: 0.6778\n",
            "Epoch 18/100\n",
            "1620/1620 [==============================] - 0s 4us/step - loss: 57.2303 - sparse_categorical_accuracy: 0.6654 - val_loss: 6.8839 - val_sparse_categorical_accuracy: 0.6778\n",
            "Epoch 19/100\n",
            "1620/1620 [==============================] - 0s 4us/step - loss: 56.7850 - sparse_categorical_accuracy: 0.6654 - val_loss: 6.8353 - val_sparse_categorical_accuracy: 0.6778\n",
            "Epoch 20/100\n",
            "1620/1620 [==============================] - 0s 4us/step - loss: 56.3437 - sparse_categorical_accuracy: 0.6654 - val_loss: 6.7872 - val_sparse_categorical_accuracy: 0.6778\n",
            "Epoch 21/100\n",
            "1620/1620 [==============================] - 0s 4us/step - loss: 55.9063 - sparse_categorical_accuracy: 0.6654 - val_loss: 6.7395 - val_sparse_categorical_accuracy: 0.6778\n",
            "Epoch 22/100\n",
            "1620/1620 [==============================] - 0s 4us/step - loss: 55.4728 - sparse_categorical_accuracy: 0.6654 - val_loss: 6.6922 - val_sparse_categorical_accuracy: 0.6778\n",
            "Epoch 23/100\n",
            "1620/1620 [==============================] - 0s 4us/step - loss: 55.0432 - sparse_categorical_accuracy: 0.6654 - val_loss: 6.6453 - val_sparse_categorical_accuracy: 0.6778\n",
            "Epoch 24/100\n",
            "1620/1620 [==============================] - 0s 4us/step - loss: 54.6175 - sparse_categorical_accuracy: 0.6654 - val_loss: 6.5989 - val_sparse_categorical_accuracy: 0.6778\n",
            "Epoch 25/100\n",
            "1620/1620 [==============================] - 0s 4us/step - loss: 54.1957 - sparse_categorical_accuracy: 0.6654 - val_loss: 6.5529 - val_sparse_categorical_accuracy: 0.6778\n",
            "Epoch 26/100\n",
            "1620/1620 [==============================] - 0s 5us/step - loss: 53.7777 - sparse_categorical_accuracy: 0.6654 - val_loss: 6.5073 - val_sparse_categorical_accuracy: 0.6778\n",
            "Epoch 27/100\n",
            "1620/1620 [==============================] - 0s 4us/step - loss: 53.3635 - sparse_categorical_accuracy: 0.6654 - val_loss: 6.4621 - val_sparse_categorical_accuracy: 0.6778\n",
            "Epoch 28/100\n",
            "1620/1620 [==============================] - 0s 5us/step - loss: 52.9531 - sparse_categorical_accuracy: 0.6654 - val_loss: 6.4174 - val_sparse_categorical_accuracy: 0.6778\n",
            "Epoch 29/100\n",
            "1620/1620 [==============================] - 0s 4us/step - loss: 52.5465 - sparse_categorical_accuracy: 0.6654 - val_loss: 6.3730 - val_sparse_categorical_accuracy: 0.6778\n",
            "Epoch 30/100\n",
            "1620/1620 [==============================] - 0s 5us/step - loss: 52.1436 - sparse_categorical_accuracy: 0.6654 - val_loss: 6.3291 - val_sparse_categorical_accuracy: 0.6778\n",
            "Epoch 31/100\n",
            "1620/1620 [==============================] - 0s 5us/step - loss: 51.7445 - sparse_categorical_accuracy: 0.6654 - val_loss: 6.2856 - val_sparse_categorical_accuracy: 0.6778\n",
            "Epoch 32/100\n",
            "1620/1620 [==============================] - 0s 5us/step - loss: 51.3491 - sparse_categorical_accuracy: 0.6654 - val_loss: 6.2424 - val_sparse_categorical_accuracy: 0.6778\n",
            "Epoch 33/100\n",
            "1620/1620 [==============================] - 0s 5us/step - loss: 50.9574 - sparse_categorical_accuracy: 0.6654 - val_loss: 6.1997 - val_sparse_categorical_accuracy: 0.6778\n",
            "Epoch 34/100\n",
            "1620/1620 [==============================] - 0s 5us/step - loss: 50.5693 - sparse_categorical_accuracy: 0.6654 - val_loss: 6.1574 - val_sparse_categorical_accuracy: 0.6778\n",
            "Epoch 35/100\n",
            "1620/1620 [==============================] - 0s 5us/step - loss: 50.1849 - sparse_categorical_accuracy: 0.6654 - val_loss: 6.1154 - val_sparse_categorical_accuracy: 0.6778\n",
            "Epoch 36/100\n",
            "1620/1620 [==============================] - 0s 4us/step - loss: 49.8041 - sparse_categorical_accuracy: 0.6654 - val_loss: 6.0739 - val_sparse_categorical_accuracy: 0.6778\n",
            "Epoch 37/100\n",
            "1620/1620 [==============================] - 0s 5us/step - loss: 49.4269 - sparse_categorical_accuracy: 0.6654 - val_loss: 6.0328 - val_sparse_categorical_accuracy: 0.6778\n",
            "Epoch 38/100\n",
            "1620/1620 [==============================] - 0s 5us/step - loss: 49.0532 - sparse_categorical_accuracy: 0.6654 - val_loss: 5.9920 - val_sparse_categorical_accuracy: 0.6778\n",
            "Epoch 39/100\n",
            "1620/1620 [==============================] - 0s 4us/step - loss: 48.6831 - sparse_categorical_accuracy: 0.6654 - val_loss: 5.9516 - val_sparse_categorical_accuracy: 0.6778\n",
            "Epoch 40/100\n",
            "1620/1620 [==============================] - 0s 4us/step - loss: 48.3165 - sparse_categorical_accuracy: 0.6654 - val_loss: 5.9116 - val_sparse_categorical_accuracy: 0.6778\n",
            "Epoch 41/100\n",
            "1620/1620 [==============================] - 0s 5us/step - loss: 47.9534 - sparse_categorical_accuracy: 0.6654 - val_loss: 5.8720 - val_sparse_categorical_accuracy: 0.6778\n",
            "Epoch 42/100\n",
            "1620/1620 [==============================] - 0s 5us/step - loss: 47.5938 - sparse_categorical_accuracy: 0.6654 - val_loss: 5.8328 - val_sparse_categorical_accuracy: 0.6778\n",
            "Epoch 43/100\n",
            "1620/1620 [==============================] - 0s 5us/step - loss: 47.2376 - sparse_categorical_accuracy: 0.6654 - val_loss: 5.7939 - val_sparse_categorical_accuracy: 0.6778\n",
            "Epoch 44/100\n",
            "1620/1620 [==============================] - 0s 5us/step - loss: 46.8848 - sparse_categorical_accuracy: 0.6654 - val_loss: 5.7554 - val_sparse_categorical_accuracy: 0.6778\n",
            "Epoch 45/100\n",
            "1620/1620 [==============================] - 0s 5us/step - loss: 46.5354 - sparse_categorical_accuracy: 0.6654 - val_loss: 5.7173 - val_sparse_categorical_accuracy: 0.6778\n",
            "Epoch 46/100\n",
            "1620/1620 [==============================] - 0s 5us/step - loss: 46.1894 - sparse_categorical_accuracy: 0.6654 - val_loss: 5.6796 - val_sparse_categorical_accuracy: 0.6778\n",
            "Epoch 47/100\n",
            "1620/1620 [==============================] - 0s 4us/step - loss: 45.8467 - sparse_categorical_accuracy: 0.6654 - val_loss: 5.6422 - val_sparse_categorical_accuracy: 0.6778\n",
            "Epoch 48/100\n",
            "1620/1620 [==============================] - 0s 4us/step - loss: 45.5073 - sparse_categorical_accuracy: 0.6654 - val_loss: 5.6051 - val_sparse_categorical_accuracy: 0.6778\n",
            "Epoch 49/100\n",
            "1620/1620 [==============================] - 0s 5us/step - loss: 45.1712 - sparse_categorical_accuracy: 0.6654 - val_loss: 5.5684 - val_sparse_categorical_accuracy: 0.6778\n",
            "Epoch 50/100\n",
            "1620/1620 [==============================] - 0s 5us/step - loss: 44.8384 - sparse_categorical_accuracy: 0.6654 - val_loss: 5.5321 - val_sparse_categorical_accuracy: 0.6778\n",
            "Epoch 51/100\n",
            "1620/1620 [==============================] - 0s 6us/step - loss: 44.5088 - sparse_categorical_accuracy: 0.6654 - val_loss: 5.4961 - val_sparse_categorical_accuracy: 0.6778\n",
            "Epoch 52/100\n",
            "1620/1620 [==============================] - 0s 6us/step - loss: 44.1824 - sparse_categorical_accuracy: 0.6654 - val_loss: 5.4605 - val_sparse_categorical_accuracy: 0.6778\n",
            "Epoch 53/100\n",
            "1620/1620 [==============================] - 0s 6us/step - loss: 43.8591 - sparse_categorical_accuracy: 0.6654 - val_loss: 5.4252 - val_sparse_categorical_accuracy: 0.6778\n",
            "Epoch 54/100\n",
            "1620/1620 [==============================] - 0s 4us/step - loss: 43.5390 - sparse_categorical_accuracy: 0.6654 - val_loss: 5.3903 - val_sparse_categorical_accuracy: 0.6778\n",
            "Epoch 55/100\n",
            "1620/1620 [==============================] - 0s 4us/step - loss: 43.2220 - sparse_categorical_accuracy: 0.6654 - val_loss: 5.3557 - val_sparse_categorical_accuracy: 0.6778\n",
            "Epoch 56/100\n",
            "1620/1620 [==============================] - 0s 7us/step - loss: 42.9081 - sparse_categorical_accuracy: 0.6654 - val_loss: 5.3214 - val_sparse_categorical_accuracy: 0.6778\n",
            "Epoch 57/100\n",
            "1620/1620 [==============================] - 0s 6us/step - loss: 42.5973 - sparse_categorical_accuracy: 0.6654 - val_loss: 5.2875 - val_sparse_categorical_accuracy: 0.6778\n",
            "Epoch 58/100\n",
            "1620/1620 [==============================] - 0s 6us/step - loss: 42.2895 - sparse_categorical_accuracy: 0.6654 - val_loss: 5.2539 - val_sparse_categorical_accuracy: 0.6778\n",
            "Epoch 59/100\n",
            "1620/1620 [==============================] - 0s 4us/step - loss: 41.9847 - sparse_categorical_accuracy: 0.6654 - val_loss: 5.2206 - val_sparse_categorical_accuracy: 0.6778\n",
            "Epoch 60/100\n",
            "1620/1620 [==============================] - 0s 4us/step - loss: 41.6829 - sparse_categorical_accuracy: 0.6654 - val_loss: 5.1877 - val_sparse_categorical_accuracy: 0.6778\n",
            "Epoch 61/100\n",
            "1620/1620 [==============================] - 0s 4us/step - loss: 41.3840 - sparse_categorical_accuracy: 0.6654 - val_loss: 5.1550 - val_sparse_categorical_accuracy: 0.6778\n",
            "Epoch 62/100\n",
            "1620/1620 [==============================] - 0s 5us/step - loss: 41.0881 - sparse_categorical_accuracy: 0.6654 - val_loss: 5.1227 - val_sparse_categorical_accuracy: 0.6778\n",
            "Epoch 63/100\n",
            "1620/1620 [==============================] - 0s 6us/step - loss: 40.7951 - sparse_categorical_accuracy: 0.6654 - val_loss: 5.0907 - val_sparse_categorical_accuracy: 0.6778\n",
            "Epoch 64/100\n",
            "1620/1620 [==============================] - 0s 4us/step - loss: 40.5049 - sparse_categorical_accuracy: 0.6654 - val_loss: 5.0590 - val_sparse_categorical_accuracy: 0.6778\n",
            "Epoch 65/100\n",
            "1620/1620 [==============================] - 0s 5us/step - loss: 40.2176 - sparse_categorical_accuracy: 0.6654 - val_loss: 5.0277 - val_sparse_categorical_accuracy: 0.6778\n",
            "Epoch 66/100\n",
            "1620/1620 [==============================] - 0s 4us/step - loss: 39.9331 - sparse_categorical_accuracy: 0.6654 - val_loss: 4.9966 - val_sparse_categorical_accuracy: 0.6778\n",
            "Epoch 67/100\n",
            "1620/1620 [==============================] - 0s 5us/step - loss: 39.6514 - sparse_categorical_accuracy: 0.6654 - val_loss: 4.9658 - val_sparse_categorical_accuracy: 0.6778\n",
            "Epoch 68/100\n",
            "1620/1620 [==============================] - 0s 5us/step - loss: 39.3725 - sparse_categorical_accuracy: 0.6654 - val_loss: 4.9354 - val_sparse_categorical_accuracy: 0.6778\n",
            "Epoch 69/100\n",
            "1620/1620 [==============================] - 0s 5us/step - loss: 39.0963 - sparse_categorical_accuracy: 0.6654 - val_loss: 4.9052 - val_sparse_categorical_accuracy: 0.6778\n",
            "Epoch 70/100\n",
            "1620/1620 [==============================] - 0s 5us/step - loss: 38.8228 - sparse_categorical_accuracy: 0.6654 - val_loss: 4.8753 - val_sparse_categorical_accuracy: 0.6778\n",
            "Epoch 71/100\n",
            "1620/1620 [==============================] - 0s 5us/step - loss: 38.5520 - sparse_categorical_accuracy: 0.6654 - val_loss: 4.8457 - val_sparse_categorical_accuracy: 0.6778\n",
            "Epoch 72/100\n",
            "1620/1620 [==============================] - 0s 4us/step - loss: 38.2838 - sparse_categorical_accuracy: 0.6654 - val_loss: 4.8164 - val_sparse_categorical_accuracy: 0.6778\n",
            "Epoch 73/100\n",
            "1620/1620 [==============================] - 0s 4us/step - loss: 38.0183 - sparse_categorical_accuracy: 0.6654 - val_loss: 4.7874 - val_sparse_categorical_accuracy: 0.6778\n",
            "Epoch 74/100\n",
            "1620/1620 [==============================] - 0s 4us/step - loss: 37.7554 - sparse_categorical_accuracy: 0.6654 - val_loss: 4.7587 - val_sparse_categorical_accuracy: 0.6778\n",
            "Epoch 75/100\n",
            "1620/1620 [==============================] - 0s 5us/step - loss: 37.4951 - sparse_categorical_accuracy: 0.6654 - val_loss: 4.7302 - val_sparse_categorical_accuracy: 0.6778\n",
            "Epoch 76/100\n",
            "1620/1620 [==============================] - 0s 3us/step - loss: 37.2373 - sparse_categorical_accuracy: 0.6654 - val_loss: 4.7021 - val_sparse_categorical_accuracy: 0.6778\n",
            "Epoch 77/100\n",
            "1620/1620 [==============================] - 0s 5us/step - loss: 36.9820 - sparse_categorical_accuracy: 0.6654 - val_loss: 4.6742 - val_sparse_categorical_accuracy: 0.6778\n",
            "Epoch 78/100\n",
            "1620/1620 [==============================] - 0s 4us/step - loss: 36.7293 - sparse_categorical_accuracy: 0.6654 - val_loss: 4.6466 - val_sparse_categorical_accuracy: 0.6778\n",
            "Epoch 79/100\n",
            "1620/1620 [==============================] - 0s 4us/step - loss: 36.4790 - sparse_categorical_accuracy: 0.6654 - val_loss: 4.6192 - val_sparse_categorical_accuracy: 0.6778\n",
            "Epoch 80/100\n",
            "1620/1620 [==============================] - 0s 5us/step - loss: 36.2312 - sparse_categorical_accuracy: 0.6654 - val_loss: 4.5921 - val_sparse_categorical_accuracy: 0.6778\n",
            "Epoch 81/100\n",
            "1620/1620 [==============================] - 0s 5us/step - loss: 35.9858 - sparse_categorical_accuracy: 0.6654 - val_loss: 4.5653 - val_sparse_categorical_accuracy: 0.6778\n",
            "Epoch 82/100\n",
            "1620/1620 [==============================] - 0s 4us/step - loss: 35.7428 - sparse_categorical_accuracy: 0.6654 - val_loss: 4.5387 - val_sparse_categorical_accuracy: 0.6778\n",
            "Epoch 83/100\n",
            "1620/1620 [==============================] - 0s 4us/step - loss: 35.5022 - sparse_categorical_accuracy: 0.6654 - val_loss: 4.5124 - val_sparse_categorical_accuracy: 0.6778\n",
            "Epoch 84/100\n",
            "1620/1620 [==============================] - 0s 4us/step - loss: 35.2639 - sparse_categorical_accuracy: 0.6654 - val_loss: 4.4864 - val_sparse_categorical_accuracy: 0.6778\n",
            "Epoch 85/100\n",
            "1620/1620 [==============================] - 0s 4us/step - loss: 35.0279 - sparse_categorical_accuracy: 0.6654 - val_loss: 4.4606 - val_sparse_categorical_accuracy: 0.6778\n",
            "Epoch 86/100\n",
            "1620/1620 [==============================] - 0s 4us/step - loss: 34.7943 - sparse_categorical_accuracy: 0.6654 - val_loss: 4.4350 - val_sparse_categorical_accuracy: 0.6778\n",
            "Epoch 87/100\n",
            "1620/1620 [==============================] - 0s 3us/step - loss: 34.5629 - sparse_categorical_accuracy: 0.6654 - val_loss: 4.4097 - val_sparse_categorical_accuracy: 0.6778\n",
            "Epoch 88/100\n",
            "1620/1620 [==============================] - 0s 4us/step - loss: 34.3338 - sparse_categorical_accuracy: 0.6654 - val_loss: 4.3846 - val_sparse_categorical_accuracy: 0.6778\n",
            "Epoch 89/100\n",
            "1620/1620 [==============================] - 0s 6us/step - loss: 34.1069 - sparse_categorical_accuracy: 0.6654 - val_loss: 4.3598 - val_sparse_categorical_accuracy: 0.6778\n",
            "Epoch 90/100\n",
            "1620/1620 [==============================] - 0s 6us/step - loss: 33.8822 - sparse_categorical_accuracy: 0.6654 - val_loss: 4.3352 - val_sparse_categorical_accuracy: 0.6778\n",
            "Epoch 91/100\n",
            "1620/1620 [==============================] - 0s 5us/step - loss: 33.6597 - sparse_categorical_accuracy: 0.6654 - val_loss: 4.3109 - val_sparse_categorical_accuracy: 0.6778\n",
            "Epoch 92/100\n",
            "1620/1620 [==============================] - 0s 5us/step - loss: 33.4394 - sparse_categorical_accuracy: 0.6654 - val_loss: 4.2868 - val_sparse_categorical_accuracy: 0.6778\n",
            "Epoch 93/100\n",
            "1620/1620 [==============================] - 0s 4us/step - loss: 33.2212 - sparse_categorical_accuracy: 0.6654 - val_loss: 4.2629 - val_sparse_categorical_accuracy: 0.6778\n",
            "Epoch 94/100\n",
            "1620/1620 [==============================] - 0s 5us/step - loss: 33.0051 - sparse_categorical_accuracy: 0.6654 - val_loss: 4.2393 - val_sparse_categorical_accuracy: 0.6778\n",
            "Epoch 95/100\n",
            "1620/1620 [==============================] - 0s 6us/step - loss: 32.7911 - sparse_categorical_accuracy: 0.6654 - val_loss: 4.2159 - val_sparse_categorical_accuracy: 0.6778\n",
            "Epoch 96/100\n",
            "1620/1620 [==============================] - 0s 6us/step - loss: 32.5792 - sparse_categorical_accuracy: 0.6654 - val_loss: 4.1927 - val_sparse_categorical_accuracy: 0.6778\n",
            "Epoch 97/100\n",
            "1620/1620 [==============================] - 0s 5us/step - loss: 32.3693 - sparse_categorical_accuracy: 0.6654 - val_loss: 4.1697 - val_sparse_categorical_accuracy: 0.6778\n",
            "Epoch 98/100\n",
            "1620/1620 [==============================] - 0s 6us/step - loss: 32.1614 - sparse_categorical_accuracy: 0.6654 - val_loss: 4.1470 - val_sparse_categorical_accuracy: 0.6778\n",
            "Epoch 99/100\n",
            "1620/1620 [==============================] - 0s 5us/step - loss: 31.9556 - sparse_categorical_accuracy: 0.6654 - val_loss: 4.1244 - val_sparse_categorical_accuracy: 0.6778\n",
            "Epoch 100/100\n",
            "1620/1620 [==============================] - 0s 6us/step - loss: 31.7517 - sparse_categorical_accuracy: 0.6654 - val_loss: 4.1021 - val_sparse_categorical_accuracy: 0.6778\n"
          ],
          "name": "stdout"
        }
      ]
    },
    {
      "cell_type": "code",
      "metadata": {
        "id": "k37HZ75vABmO",
        "colab_type": "code",
        "colab": {
          "base_uri": "https://localhost:8080/",
          "height": 573
        },
        "outputId": "bacac945-5ed5-4430-a2ef-369aad877cf7"
      },
      "source": [
        "graficarHistoriaAccuracy(hist)\n",
        "graficarHistoriaValAccuracy(hist)"
      ],
      "execution_count": 94,
      "outputs": [
        {
          "output_type": "display_data",
          "data": {
            "image/png": "[encoded data removed]",
            "text/plain": [
              "<Figure size 432x288 with 1 Axes>"
            ]
          },
          "metadata": {
            "tags": []
          }
        },
        {
          "output_type": "display_data",
          "data": {
            "image/png": "[encoded data removed]",
            "text/plain": [
              "<Figure size 432x288 with 1 Axes>"
            ]
          },
          "metadata": {
            "tags": []
          }
        }
      ]
    },
    {
      "cell_type": "code",
      "metadata": {
        "id": "FGZ4e2gTBEpS",
        "colab_type": "code",
        "colab": {
          "base_uri": "https://localhost:8080/",
          "height": 910
        },
        "outputId": "bbfbb682-8bc5-41ed-f8d6-373710dec45a"
      },
      "source": [
        "test = modelo.predict(datos_x_blan)\n",
        "test[0:50,:]"
      ],
      "execution_count": 93,
      "outputs": [
        {
          "output_type": "execute_result",
          "data": {
            "text/plain": [
              "array([[0.59737176, 0.4026282 ],\n",
              "       [0.5976125 , 0.40238744],\n",
              "       [0.5901384 , 0.40986168],\n",
              "       [0.588655  , 0.41134498],\n",
              "       [0.59023446, 0.4097655 ],\n",
              "       [0.5977707 , 0.40222928],\n",
              "       [0.5874153 , 0.41258472],\n",
              "       [0.59335154, 0.4066485 ],\n",
              "       [0.58992577, 0.41007423],\n",
              "       [0.59132147, 0.4086786 ],\n",
              "       [0.60221136, 0.39778858],\n",
              "       [0.5933601 , 0.40663987],\n",
              "       [0.5881667 , 0.41183332],\n",
              "       [0.58639866, 0.41360134],\n",
              "       [0.5932587 , 0.40674135],\n",
              "       [0.59035987, 0.40964016],\n",
              "       [0.5933212 , 0.40667877],\n",
              "       [0.5941713 , 0.40582868],\n",
              "       [0.58985025, 0.41014972],\n",
              "       [0.59549314, 0.4045068 ],\n",
              "       [0.5947673 , 0.40523276],\n",
              "       [0.59511876, 0.4048812 ],\n",
              "       [0.5852383 , 0.4147617 ],\n",
              "       [0.5982741 , 0.40172586],\n",
              "       [0.5991279 , 0.4008721 ],\n",
              "       [0.6008706 , 0.3991294 ],\n",
              "       [0.5953157 , 0.40468433],\n",
              "       [0.5941522 , 0.40584776],\n",
              "       [0.59535766, 0.4046423 ],\n",
              "       [0.59977955, 0.40022045],\n",
              "       [0.5969347 , 0.4030654 ],\n",
              "       [0.5860161 , 0.41398388],\n",
              "       [0.58610356, 0.4138964 ],\n",
              "       [0.5911228 , 0.40887722],\n",
              "       [0.58879215, 0.41120777],\n",
              "       [0.5906774 , 0.40932265],\n",
              "       [0.5928137 , 0.40718633],\n",
              "       [0.5918908 , 0.40810922],\n",
              "       [0.5919743 , 0.4080256 ],\n",
              "       [0.58982867, 0.4101714 ],\n",
              "       [0.5869204 , 0.4130796 ],\n",
              "       [0.5947395 , 0.40526053],\n",
              "       [0.5902379 , 0.40976205],\n",
              "       [0.5951119 , 0.40488812],\n",
              "       [0.5936298 , 0.40637022],\n",
              "       [0.5932018 , 0.4067982 ],\n",
              "       [0.59375185, 0.40624818],\n",
              "       [0.598595  , 0.40140495],\n",
              "       [0.5908152 , 0.4091848 ],\n",
              "       [0.5947011 , 0.40529886]], dtype=float32)"
            ]
          },
          "metadata": {
            "tags": []
          },
          "execution_count": 93
        }
      ]
    },
    {
      "cell_type": "code",
      "metadata": {
        "id": "9-J_0bGeBNZN",
        "colab_type": "code",
        "colab": {
          "base_uri": "https://localhost:8080/",
          "height": 35
        },
        "outputId": "1706b426-a44f-4aab-cf23-93b8ff7a80f7"
      },
      "source": [
        "test[0]"
      ],
      "execution_count": 34,
      "outputs": [
        {
          "output_type": "execute_result",
          "data": {
            "text/plain": [
              "array([0.23551697, 0.28870574, 0.47577727], dtype=float32)"
            ]
          },
          "metadata": {
            "tags": []
          },
          "execution_count": 34
        }
      ]
    },
    {
      "cell_type": "code",
      "metadata": {
        "id": "-NhnIXZkBct1",
        "colab_type": "code",
        "colab": {
          "base_uri": "https://localhost:8080/",
          "height": 35
        },
        "outputId": "ff1d69bd-80c6-40d6-b694-ae85dcf3b117"
      },
      "source": [
        "2**12"
      ],
      "execution_count": 96,
      "outputs": [
        {
          "output_type": "execute_result",
          "data": {
            "text/plain": [
              "4096"
            ]
          },
          "metadata": {
            "tags": []
          },
          "execution_count": 96
        }
      ]
    },
    {
      "cell_type": "code",
      "metadata": {
        "id": "N0RAT6MKJJsX",
        "colab_type": "code",
        "colab": {}
      },
      "source": [
        ""
      ],
      "execution_count": 0,
      "outputs": []
    }
  ]
}