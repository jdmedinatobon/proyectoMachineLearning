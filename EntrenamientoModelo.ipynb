{
  "nbformat": 4,
  "nbformat_minor": 0,
  "metadata": {
    "colab": {
      "name": "EntrenamientoModelo.ipynb",
      "provenance": [],
      "collapsed_sections": [],
      "toc_visible": true,
      "include_colab_link": true
    },
    "kernelspec": {
      "name": "python3",
      "display_name": "Python 3"
    }
  },
  "cells": [
    {
      "cell_type": "markdown",
      "metadata": {
        "id": "view-in-github",
        "colab_type": "text"
      },
      "source": [
        "<a href=\"https://colab.research.google.com/github/jdmedinatobon/proyectoMachineLearning/blob/master/EntrenamientoModelo.ipynb\" target=\"_parent\"><img src=\"https://colab.research.google.com/assets/colab-badge.svg\" alt=\"Open In Colab\"/></a>"
      ]
    },
    {
      "cell_type": "code",
      "metadata": {
        "id": "ukiI7n1W4dQy",
        "colab_type": "code",
        "outputId": "46745d9b-8c57-478a-f196-67fa05090194",
        "colab": {
          "base_uri": "https://localhost:8080/",
          "height": 120
        }
      },
      "source": [
        "from google.colab import drive\n",
        "drive.mount(\"/content/drive\")"
      ],
      "execution_count": 0,
      "outputs": [
        {
          "output_type": "stream",
          "text": [
            "Go to this URL in a browser: https://accounts.google.com/o/oauth2/auth?client_id=947318989803-6bn6qk8qdgf4n4g3pfee6491hc0brc4i.apps.googleusercontent.com&redirect_uri=urn%3Aietf%3Awg%3Aoauth%3A2.0%3Aoob&scope=email%20https%3A%2F%2Fwww.googleapis.com%2Fauth%2Fdocs.test%20https%3A%2F%2Fwww.googleapis.com%2Fauth%2Fdrive%20https%3A%2F%2Fwww.googleapis.com%2Fauth%2Fdrive.photos.readonly%20https%3A%2F%2Fwww.googleapis.com%2Fauth%2Fpeopleapi.readonly&response_type=code\n",
            "\n",
            "Enter your authorization code:\n",
            "··········\n",
            "Mounted at /content/drive\n"
          ],
          "name": "stdout"
        }
      ]
    },
    {
      "cell_type": "code",
      "metadata": {
        "id": "01BgKuSC6gfa",
        "colab_type": "code",
        "outputId": "277e68fb-56c6-4175-ad19-b9946704e9fb",
        "colab": {
          "base_uri": "https://localhost:8080/",
          "height": 67
        }
      },
      "source": [
        "!pip3 install xgboost"
      ],
      "execution_count": 0,
      "outputs": [
        {
          "output_type": "stream",
          "text": [
            "Requirement already satisfied: xgboost in /usr/local/lib/python3.6/dist-packages (0.90)\n",
            "Requirement already satisfied: numpy in /tensorflow-2.0.0/python3.6 (from xgboost) (1.17.3)\n",
            "Requirement already satisfied: scipy in /usr/local/lib/python3.6/dist-packages (from xgboost) (1.3.1)\n"
          ],
          "name": "stdout"
        }
      ]
    },
    {
      "cell_type": "code",
      "metadata": {
        "id": "t-IiLjvWBoa_",
        "colab_type": "code",
        "colab": {}
      },
      "source": [
        "import numpy as np\n",
        "%tensorflow_version 2.x\n",
        "import tensorflow as tf\n",
        "import time\n",
        "\n",
        "from sklearn.neural_network import MLPClassifier\n",
        "from sklearn import preprocessing\n",
        "from sklearn.decomposition import PCA\n",
        "from sklearn.metrics import confusion_matrix \n",
        "from sklearn.tree import DecisionTreeClassifier\n",
        "from sklearn.model_selection import train_test_split \n",
        "\n",
        "import matplotlib.pyplot as plt"
      ],
      "execution_count": 0,
      "outputs": []
    },
    {
      "cell_type": "code",
      "metadata": {
        "id": "LaqrAEP6StRB",
        "colab_type": "code",
        "colab": {}
      },
      "source": [
        "#pathDatos = \"drive/My Drive/datosDescriptoresPruebaV3.txt\"\n",
        "pathDatos = \"datosDescriptoresPruebaV4.txt\"\n",
        "separador = \";\"\n",
        "\n",
        "def importarDatos(pArchivo):\n",
        "\n",
        "  datos = []\n",
        "\n",
        "  archivo = open(pArchivo, \"r\")\n",
        "  lineas = archivo.readlines()\n",
        "  for linea in lineas:\n",
        "    linea = linea.replace('\\n','')\n",
        "    muestra = linea.split(separador)\n",
        "    muestra=np.array(muestra)\n",
        "\n",
        "    datos.append(muestra.astype(float))\n",
        "  datos=np.array(datos)\n",
        "  datosx=datos[:,0:datos[0].shape[0]-2]\n",
        "  datosy=datos[:,datos[0].shape[0]-1]\n",
        "  datosy=datosy.astype(int)\n",
        "  return datosx,datosy\n",
        "    "
      ],
      "execution_count": 0,
      "outputs": []
    },
    {
      "cell_type": "code",
      "metadata": {
        "id": "a2Cd-G8nTkJt",
        "colab_type": "code",
        "colab": {}
      },
      "source": [
        "datos_x, datos_y = importarDatos(pathDatos)"
      ],
      "execution_count": 0,
      "outputs": []
    },
    {
      "cell_type": "markdown",
      "metadata": {
        "id": "j6hlaYJY_VCQ",
        "colab_type": "text"
      },
      "source": [
        "# Preprocesamiento"
      ]
    },
    {
      "cell_type": "code",
      "metadata": {
        "id": "_xfxUFQZ81x8",
        "colab_type": "code",
        "colab": {}
      },
      "source": [
        "#Funcion para normalizar los datos.\n",
        "#pDatos_Para_Normalizar: Son los datos con respecto a los cuales se normaliza.\n",
        "#pDatos: Son los datos a normalizar.\n",
        "def normalizar(pDatos_Para_Normalizar, pDatos):\n",
        " #Se inicializa el preprocesamiento de los datos\n",
        "  normalizar = preprocessing.Normalizer().fit(pDatos_Para_Normalizar) #se obtiene una funcion que permita a \n",
        "  #partir de la media y los valores maximos y minimos de los datos de entrenamiento de este modelo, normalizar los datos de prueba y de entrenamiento\n",
        "  dato_normal = normalizar.transform(pDatos) #Datos normailzados y con los cuales se entrenarán los modelos \n",
        "  return dato_normal\n",
        "\n",
        "#Funcion que calcula las componentes principales de x.\n",
        "#pNumComponentes: Es el numero de componentes principales que se van a calcular. Enviar -1 si se quiere calcular todas.\n",
        "def darComponentesPrincipales(x, pNumComponentes):\n",
        "\n",
        "    if(pNumComponentes != -1):\n",
        "      pca = PCA(n_components = pNumComponentes)\n",
        "    else:\n",
        "      pca = PCA()\n",
        "      \n",
        "    pca.fit(x)\n",
        "    return pca\n",
        "\n",
        "#Funcion que retorna las componentes utilizadas para blanquear los datos.\n",
        "def darBlanqueamiento(x):\n",
        "    pca = PCA(whiten = True)\n",
        "    pca.fit(x)\n",
        "    return pca\n"
      ],
      "execution_count": 0,
      "outputs": []
    },
    {
      "cell_type": "code",
      "metadata": {
        "id": "AartJZc6AF5m",
        "colab_type": "code",
        "colab": {}
      },
      "source": [
        "#Normalizar los datos\n",
        "datos_x_norm=normalizar(datos_x,datos_x)\n",
        "\n",
        "#Calcular los datos con el 99% de la varianza explicada en las componentes principales\n",
        "pca = darComponentesPrincipales(datos_x,1)\n",
        "datos_x_pca = pca.transform(datos_x)\n",
        "\n",
        "#Blanquear los datos\n",
        "blan = darBlanqueamiento(datos_x)\n",
        "datos_x_blan = blan.transform(datos_x)"
      ],
      "execution_count": 0,
      "outputs": []
    },
    {
      "cell_type": "code",
      "metadata": {
        "id": "LXn7YhVBJx-M",
        "colab_type": "code",
        "colab": {
          "base_uri": "https://localhost:8080/",
          "height": 636
        },
        "outputId": "5eecd980-47b2-4459-f439-c9abf2f0fe20"
      },
      "source": [
        "#Grafica las componentes principales de los datos_x e indica el numero de componentes que suman el 97% de la varianza total.\n",
        "pca = darComponentesPrincipales(datos_x,-1)\n",
        "\n",
        "plt.stem(pca.explained_variance_ratio_)\n",
        "plt.xlabel(\"Componentes\")\n",
        "plt.ylabel(\"Varianza Explicada\")\n",
        "plt.legend()\n",
        "plt.show()\n",
        "\n",
        "#Grafica los datos_x con una sola componente principal indicando la clase a la que pertenece\n",
        "pca = darComponentesPrincipales(datos_x,1)\n",
        "numDatos = 100\n",
        "plt.stem(pca.transform(datos_x[0:numDatos,:]), datos_y[0:numDatos])\n",
        "plt.show()"
      ],
      "execution_count": 52,
      "outputs": [
        {
          "output_type": "stream",
          "text": [
            "/usr/local/lib/python3.6/dist-packages/ipykernel_launcher.py:3: UserWarning: In Matplotlib 3.3 individual lines on a stem plot will be added as a LineCollection instead of individual lines. This significantly improves the performance of a stem plot. To remove this warning and switch to the new behaviour, set the \"use_line_collection\" keyword argument to True.\n",
            "  This is separate from the ipykernel package so we can avoid doing imports until\n",
            "No handles with labels found to put in legend.\n"
          ],
          "name": "stderr"
        },
        {
          "output_type": "display_data",
          "data": {
            "image/png": "[encoded data removed]",
            "text/plain": [
              "<Figure size 432x288 with 1 Axes>"
            ]
          },
          "metadata": {
            "tags": []
          }
        },
        {
          "output_type": "stream",
          "text": [
            "/usr/local/lib/python3.6/dist-packages/ipykernel_launcher.py:12: UserWarning: In Matplotlib 3.3 individual lines on a stem plot will be added as a LineCollection instead of individual lines. This significantly improves the performance of a stem plot. To remove this warning and switch to the new behaviour, set the \"use_line_collection\" keyword argument to True.\n",
            "  if sys.path[0] == '':\n"
          ],
          "name": "stderr"
        },
        {
          "output_type": "display_data",
          "data": {
            "image/png": "[encoded data removed]",
            "text/plain": [
              "<Figure size 432x288 with 1 Axes>"
            ]
          },
          "metadata": {
            "tags": []
          }
        }
      ]
    },
    {
      "cell_type": "code",
      "metadata": {
        "id": "s4wn9k61Vk47",
        "colab_type": "code",
        "colab": {
          "base_uri": "https://localhost:8080/",
          "height": 142
        },
        "outputId": "228e93f1-3bfc-445c-f23b-0419a4f45175"
      },
      "source": [
        "datos_x_pca"
      ],
      "execution_count": 53,
      "outputs": [
        {
          "output_type": "execute_result",
          "data": {
            "text/plain": [
              "array([[-2034.68334115],\n",
              "       [-1801.77867286],\n",
              "       [  314.05759728],\n",
              "       ...,\n",
              "       [ -977.37097232],\n",
              "       [-1706.17453033],\n",
              "       [-1194.26742689]])"
            ]
          },
          "metadata": {
            "tags": []
          },
          "execution_count": 53
        }
      ]
    },
    {
      "cell_type": "code",
      "metadata": {
        "id": "Za3F5p4dTqDl",
        "colab_type": "code",
        "outputId": "9af75e4a-4163-46e9-adb1-28542892bfd6",
        "colab": {
          "base_uri": "https://localhost:8080/",
          "height": 144
        }
      },
      "source": [
        "n=10\n",
        "error=[]\n",
        "Proba_error_prueba=100000\n",
        "error_actual=1000000\n",
        "Proba_error_prueba_tan=100000\n",
        "modeloPrueba = MLPClassifier(activation = 'relu',hidden_layer_sizes=(n,2), max_iter=1, batch_size=2, solver='adam', tol=0.001, warm_start =True,momentum=0.6, learning_rate_init=0.001, learning_rate = 'adaptive', nesterovs_momentum=True, power_t=0.5)#0.6\n",
        "for i in range(0,150):\n",
        "    modeloPrueba.fit(X_train,y_train)\n",
        "    error_actual = 1-modeloPrueba.score(X_test,y_test)\n",
        "    error.append(error_actual)\n",
        "    if(error_actual<Proba_error_prueba):\n",
        "        N_neuronas=n\n",
        "        fcn_activacion=\"tanh\"\n",
        "        modelo = modeloPrueba\n",
        "        Proba_error_prueba = error_actual\n",
        "    if(error_actual<Proba_error_prueba_tan):\n",
        "        N_neuronas_tan=n\n",
        "        modelo_tan = modeloPrueba\n",
        "        Proba_error_prueba_tan = error_actual\n",
        "print(\"Número de neuronas utilizadas para la mejor probabilidad de error para tanh descenso de gradiente\")\n",
        "print(N_neuronas_tan)\n",
        "print(\"Mejor probabilidad de acierto para función de activación tanh con descenso de gradiente\")\n",
        "print(1-Proba_error_prueba_tan)"
      ],
      "execution_count": 46,
      "outputs": [
        {
          "output_type": "stream",
          "text": [
            "/usr/local/lib/python3.6/dist-packages/sklearn/neural_network/multilayer_perceptron.py:566: ConvergenceWarning: Stochastic Optimizer: Maximum iterations (1) reached and the optimization hasn't converged yet.\n",
            "  % self.max_iter, ConvergenceWarning)\n"
          ],
          "name": "stderr"
        },
        {
          "output_type": "stream",
          "text": [
            "Número de neuronas utilizadas para la mejor probabilidad de error para tanh descenso de gradiente\n",
            "10\n",
            "Mejor probabilidad de acierto para función de activación tanh con descenso de gradiente\n",
            "0.3416666666666667\n"
          ],
          "name": "stdout"
        }
      ]
    },
    {
      "cell_type": "code",
      "metadata": {
        "id": "_HG3i2Sr9Ns2",
        "colab_type": "code",
        "outputId": "3e1831d4-78fc-44f7-c1af-50b3385389ec",
        "colab": {
          "base_uri": "https://localhost:8080/",
          "height": 295
        }
      },
      "source": [
        "plt.plot((1-np.array(error)), label = \"Entrenamiento modelo tangente hiperbólico\") \n",
        "plt.xlabel('iteraciones') \n",
        "plt.ylabel('Probabilidad de acierto (%)') \n",
        "plt.title('probabilidad de acierto contra número de iteraciones para función de activación Tangente hiperbólico') \n",
        "plt.legend() \n",
        "plt.show()"
      ],
      "execution_count": 44,
      "outputs": [
        {
          "output_type": "display_data",
          "data": {
            "image/png": "[encoded data removed]",
            "text/plain": [
              "<Figure size 432x288 with 1 Axes>"
            ]
          },
          "metadata": {
            "tags": []
          }
        }
      ]
    },
    {
      "cell_type": "code",
      "metadata": {
        "id": "AYdqQz5qDotd",
        "colab_type": "code",
        "colab": {}
      },
      "source": [
        "X_train, X_test, y_train, y_test = train_test_split(datos_x_norm, datos_y, random_state = 0, test_size=0.20)"
      ],
      "execution_count": 0,
      "outputs": []
    },
    {
      "cell_type": "code",
      "metadata": {
        "id": "aVwoxdDH0FIR",
        "colab_type": "code",
        "outputId": "5440038d-af9c-4843-cc84-0b7137c05d39",
        "colab": {
          "base_uri": "https://localhost:8080/",
          "height": 88
        }
      },
      "source": [
        "dtree_model = DecisionTreeClassifier(max_depth = 3).fit(X_train, y_train) \n",
        "dtree_predictions = dtree_model.predict(X_test) \n",
        "\n",
        "# creating a confusion matrix \n",
        "cm = confusion_matrix(y_test, dtree_predictions)\n",
        "print(np.sum(np.diag(cm))/360)\n",
        "print(cm)"
      ],
      "execution_count": 41,
      "outputs": [
        {
          "output_type": "stream",
          "text": [
            "0.31666666666666665\n",
            "[[  4   0 122]\n",
            " [  3   2 118]\n",
            " [  3   0 108]]\n"
          ],
          "name": "stdout"
        }
      ]
    },
    {
      "cell_type": "code",
      "metadata": {
        "id": "2FBwvBcx70qs",
        "colab_type": "code",
        "outputId": "6c67a2d9-9e22-48b8-f66c-aafed64f64c2",
        "colab": {
          "base_uri": "https://localhost:8080/",
          "height": 249
        }
      },
      "source": [
        "datos_x_norm"
      ],
      "execution_count": 42,
      "outputs": [
        {
          "output_type": "execute_result",
          "data": {
            "text/plain": [
              "array([[ 2.00802469e-03,  2.08159178e-01,  5.74083077e-05, ...,\n",
              "         2.05213051e-08,  2.61703600e-04, -1.40333790e-05],\n",
              "       [ 2.01978252e-03,  2.07934006e-01,  5.87525468e-05, ...,\n",
              "         2.09035121e-08,  2.64878897e-04, -1.42335148e-05],\n",
              "       [ 2.14116057e-03,  2.05385420e-01,  6.88649152e-05, ...,\n",
              "         2.42346178e-08,  2.99630330e-04, -1.62191285e-05],\n",
              "       ...,\n",
              "       [ 2.05666040e-03,  2.09774671e-01,  8.09594820e-05, ...,\n",
              "         2.03463920e-08,  2.81999590e-04, -1.42662637e-05],\n",
              "       [ 2.01785103e-03,  2.10850644e-01,  7.74006859e-05, ...,\n",
              "         1.92859502e-08,  2.70922835e-04, -1.36446522e-05],\n",
              "       [ 2.04631188e-03,  2.10431470e-01,  7.99645414e-05, ...,\n",
              "         2.00402798e-08,  2.78511856e-04, -1.40764213e-05]])"
            ]
          },
          "metadata": {
            "tags": []
          },
          "execution_count": 42
        }
      ]
    },
    {
      "cell_type": "code",
      "metadata": {
        "id": "pyAUGBPbElAy",
        "colab_type": "code",
        "colab": {}
      },
      "source": [
        ""
      ],
      "execution_count": 0,
      "outputs": []
    }
  ]
}