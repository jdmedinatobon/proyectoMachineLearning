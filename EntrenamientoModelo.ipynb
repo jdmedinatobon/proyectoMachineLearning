{
  "nbformat": 4,
  "nbformat_minor": 0,
  "metadata": {
    "colab": {
      "name": "EntrenamientoModelo.ipynb",
      "provenance": [],
      "collapsed_sections": [],
      "toc_visible": true,
      "include_colab_link": true
    },
    "kernelspec": {
      "name": "python3",
      "display_name": "Python 3"
    }
  },
  "cells": [
    {
      "cell_type": "markdown",
      "metadata": {
        "id": "view-in-github",
        "colab_type": "text"
      },
      "source": [
        "<a href=\"https://colab.research.google.com/github/jdmedinatobon/proyectoMachineLearning/blob/master/EntrenamientoModelo.ipynb\" target=\"_parent\"><img src=\"https://colab.research.google.com/assets/colab-badge.svg\" alt=\"Open In Colab\"/></a>"
      ]
    },
    {
      "cell_type": "code",
      "metadata": {
        "id": "ukiI7n1W4dQy",
        "colab_type": "code",
        "colab": {}
      },
      "source": [
        "from google.colab import drive\n",
        "drive.mount(\"/content/drive\")"
      ],
      "execution_count": 0,
      "outputs": []
    },
    {
      "cell_type": "code",
      "metadata": {
        "id": "01BgKuSC6gfa",
        "colab_type": "code",
        "outputId": "277e68fb-56c6-4175-ad19-b9946704e9fb",
        "colab": {
          "base_uri": "https://localhost:8080/",
          "height": 67
        }
      },
      "source": [
        "!pip3 install xgboost"
      ],
      "execution_count": 0,
      "outputs": [
        {
          "output_type": "stream",
          "text": [
            "Requirement already satisfied: xgboost in /usr/local/lib/python3.6/dist-packages (0.90)\n",
            "Requirement already satisfied: numpy in /tensorflow-2.0.0/python3.6 (from xgboost) (1.17.3)\n",
            "Requirement already satisfied: scipy in /usr/local/lib/python3.6/dist-packages (from xgboost) (1.3.1)\n"
          ],
          "name": "stdout"
        }
      ]
    },
    {
      "cell_type": "code",
      "metadata": {
        "id": "t-IiLjvWBoa_",
        "colab_type": "code",
        "outputId": "56dcc571-c7a9-4363-ffb2-1e04849f267f",
        "colab": {
          "base_uri": "https://localhost:8080/",
          "height": 34
        }
      },
      "source": [
        "import numpy as np\n",
        "%tensorflow_version 1.x\n",
        "import tensorflow as tf\n",
        "import time\n",
        "\n",
        "from sklearn.neural_network import MLPClassifier\n",
        "from sklearn import preprocessing\n",
        "from sklearn.decomposition import PCA\n",
        "from sklearn.metrics import confusion_matrix \n",
        "from sklearn.tree import DecisionTreeClassifier\n",
        "from sklearn.model_selection import train_test_split \n",
        "from sklearn.ensemble import AdaBoostClassifier\n",
        "\n",
        "import matplotlib.pyplot as plt\n",
        "\n",
        "import tensorflow.keras as keras\n",
        "from keras import Sequential\n",
        "from keras.layers import Dense\n",
        "from keras import optimizers\n",
        "from keras.regularizers import l2\n",
        "from keras.wrappers.scikit_learn import KerasClassifier"
      ],
      "execution_count": 2,
      "outputs": [
        {
          "output_type": "stream",
          "text": [
            "Using TensorFlow backend.\n"
          ],
          "name": "stderr"
        }
      ]
    },
    {
      "cell_type": "code",
      "metadata": {
        "id": "LaqrAEP6StRB",
        "colab_type": "code",
        "colab": {}
      },
      "source": [
        "#pathDatos = \"drive/My Drive/datosDescriptoresPruebaV3.txt\"\n",
        "pathDatos = \"datosDescriptoresV1_2_of.txt\"\n",
        "separador = \";\"\n",
        "\n",
        "def importarDatos(pArchivo):\n",
        "\n",
        "  datos = []\n",
        "\n",
        "  archivo = open(pArchivo, \"r\")\n",
        "  lineas = archivo.readlines()\n",
        "  for linea in lineas:\n",
        "    linea = linea.replace('\\n','')\n",
        "    muestra = linea.split(separador)\n",
        "    muestra=np.array(muestra)\n",
        "\n",
        "    datos.append(muestra.astype(float))\n",
        "  datos=np.array(datos)\n",
        "  datosx=datos[:,0:datos[0].shape[0]-2]\n",
        "  datosy=datos[:,datos[0].shape[0]-1]\n",
        "  datosy=datosy.astype(int)\n",
        "  return datosx,datosy\n",
        "    \n",
        "def pruebaBinaria(pEtiquetas):\n",
        "  etiquetasBinarias = np.zeros(len(pEtiquetas))\n",
        "  etiquetasBinarias[pEtiquetas==2]=1\n",
        "  return etiquetasBinarias"
      ],
      "execution_count": 0,
      "outputs": []
    },
    {
      "cell_type": "code",
      "metadata": {
        "id": "a2Cd-G8nTkJt",
        "colab_type": "code",
        "colab": {}
      },
      "source": [
        "datos_x, datos_y = importarDatos(pathDatos)\n",
        "\n",
        "datos_y_binarios = pruebaBinaria(datos_y)"
      ],
      "execution_count": 0,
      "outputs": []
    },
    {
      "cell_type": "markdown",
      "metadata": {
        "id": "j6hlaYJY_VCQ",
        "colab_type": "text"
      },
      "source": [
        "# Preprocesamiento"
      ]
    },
    {
      "cell_type": "code",
      "metadata": {
        "id": "_xfxUFQZ81x8",
        "colab_type": "code",
        "colab": {}
      },
      "source": [
        "#Funcion para normalizar los datos.\n",
        "#pDatos_Para_Normalizar: Son los datos con respecto a los cuales se normaliza.\n",
        "#pDatos: Son los datos a normalizar.\n",
        "def normalizar(pDatos_Para_Normalizar, pDatos):\n",
        " #Se inicializa el preprocesamiento de los datos\n",
        "  normalizar = preprocessing.Normalizer().fit(pDatos_Para_Normalizar) #se obtiene una funcion que permita a \n",
        "  #partir de la media y los valores maximos y minimos de los datos de entrenamiento de este modelo, normalizar los datos de prueba y de entrenamiento\n",
        "  dato_normal = normalizar.transform(pDatos) #Datos normailzados y con los cuales se entrenarán los modelos \n",
        "  return dato_normal\n",
        "\n",
        "#Funcion que calcula las componentes principales de x.\n",
        "#pNumComponentes: Es el numero de componentes principales que se van a calcular. Enviar -1 si se quiere calcular todas.\n",
        "def darComponentesPrincipales(x, pNumComponentes):\n",
        "\n",
        "    if(pNumComponentes != -1):\n",
        "      pca = PCA(n_components = pNumComponentes)\n",
        "    else:\n",
        "      pca = PCA()\n",
        "      \n",
        "    pca.fit(x)\n",
        "    return pca\n",
        "\n",
        "#Funcion que retorna las componentes utilizadas para blanquear los datos.\n",
        "def darBlanqueamiento(x):\n",
        "    pca = PCA(whiten = True)\n",
        "    pca.fit(x)\n",
        "    return pca\n"
      ],
      "execution_count": 0,
      "outputs": []
    },
    {
      "cell_type": "code",
      "metadata": {
        "id": "AartJZc6AF5m",
        "colab_type": "code",
        "colab": {}
      },
      "source": [
        "#Normalizar los datos\n",
        "datos_x_norm=normalizar(datos_x,datos_x)\n",
        "\n",
        "#Calcular los datos con el 99% de la varianza explicada en las componentes principales\n",
        "pca = darComponentesPrincipales(datos_x,-1)\n",
        "datos_x_pca = pca.transform(datos_x)\n",
        "\n",
        "#Blanquear los datos\n",
        "blan = darBlanqueamiento(datos_x)\n",
        "datos_x_blan = blan.transform(datos_x)\n",
        "\n",
        "datos_x_norm=normalizar(datos_x,datos_x)\n",
        "X_train, X_test, y_train, y_test = train_test_split(datos_x_norm, datos_y, random_state = 0, test_size=0.10)"
      ],
      "execution_count": 0,
      "outputs": []
    },
    {
      "cell_type": "code",
      "metadata": {
        "id": "LXn7YhVBJx-M",
        "colab_type": "code",
        "outputId": "0030c579-1c70-4885-d238-ec2cec900311",
        "colab": {
          "base_uri": "https://localhost:8080/",
          "height": 417
        }
      },
      "source": [
        "#Grafica las componentes principales de los datos_x e indica el numero de componentes que suman el 97% de la varianza total.\n",
        "pca = darComponentesPrincipales(datos_x,-1)\n",
        "\n",
        "#plt.stem(pca.explained_variance_ratio_)\n",
        "plt.xlabel(\"Componentes\")\n",
        "plt.ylabel(\"Varianza Explicada\")\n",
        "plt.legend()\n",
        "#plt.show()\n",
        "\n",
        "print(pca.explained_variance_ratio_)\n",
        "\n",
        "#Grafica los datos_x con una sola componente principal indicando la clase a la que pertenece\n",
        "pca = darComponentesPrincipales(datos_x_norm,-1)\n",
        "numDatos = 100\n",
        "#plt.stem(pca.transform(datos_x), datos_y)\n",
        "plt.stem((pca.explained_variance_ratio_))\n",
        "plt.show()"
      ],
      "execution_count": 12,
      "outputs": [
        {
          "output_type": "stream",
          "text": [
            "No handles with labels found to put in legend.\n",
            "/usr/local/lib/python3.6/dist-packages/ipykernel_launcher.py:15: UserWarning: In Matplotlib 3.3 individual lines on a stem plot will be added as a LineCollection instead of individual lines. This significantly improves the performance of a stem plot. To remove this warning and switch to the new behaviour, set the \"use_line_collection\" keyword argument to True.\n",
            "  from ipykernel import kernelapp as app\n"
          ],
          "name": "stderr"
        },
        {
          "output_type": "stream",
          "text": [
            "[9.99890645e-01 9.60769843e-05 1.32760680e-05 2.10621449e-09\n",
            " 3.57271342e-13 2.79541314e-14 1.59217814e-14 1.44448284e-15\n",
            " 2.38031189e-16 5.75687902e-17 6.39884395e-18 3.57093395e-19\n",
            " 1.95669807e-19 1.22412531e-23 1.34916748e-28 1.11047389e-30]\n"
          ],
          "name": "stdout"
        },
        {
          "output_type": "display_data",
          "data": {
            "image/png": "[encoded data removed]",
            "text/plain": [
              "<Figure size 432x288 with 1 Axes>"
            ]
          },
          "metadata": {
            "tags": []
          }
        }
      ]
    },
    {
      "cell_type": "code",
      "metadata": {
        "id": "YLrzYY_-TRMB",
        "colab_type": "code",
        "outputId": "409f8535-e525-4a26-e1b9-0f717c6e2c9f",
        "colab": {
          "base_uri": "https://localhost:8080/",
          "height": 124
        }
      },
      "source": [
        "pca.components_"
      ],
      "execution_count": 0,
      "outputs": [
        {
          "output_type": "execute_result",
          "data": {
            "text/plain": [
              "array([[-1.65741581e-03, -2.47328372e-01,  1.31032793e-04,\n",
              "         3.39920167e-05,  1.35488620e-06, -2.52666013e-02,\n",
              "        -6.84032137e-07, -2.40859726e-01,  5.98112685e-06,\n",
              "        -2.61248799e-03, -9.38172302e-01, -4.18243042e-05,\n",
              "        -7.63373531e-05,  6.77900907e-09, -3.41833045e-05,\n",
              "        -5.14035774e-07]])"
            ]
          },
          "metadata": {
            "tags": []
          },
          "execution_count": 17
        }
      ]
    },
    {
      "cell_type": "code",
      "metadata": {
        "id": "Za3F5p4dTqDl",
        "colab_type": "code",
        "outputId": "9af75e4a-4163-46e9-adb1-28542892bfd6",
        "colab": {
          "base_uri": "https://localhost:8080/",
          "height": 144
        }
      },
      "source": [
        "n=10\n",
        "error=[]\n",
        "Proba_error_prueba=100000\n",
        "error_actual=1000000\n",
        "Proba_error_prueba_tan=100000\n",
        "modeloPrueba = MLPClassifier(activation = 'relu',hidden_layer_sizes=(n,2), max_iter=1, batch_size=2, solver='adam', tol=0.001, warm_start =True,momentum=0.6, learning_rate_init=0.001, learning_rate = 'adaptive', nesterovs_momentum=True, power_t=0.5)#0.6\n",
        "for i in range(0,150):\n",
        "    modeloPrueba.fit(X_train,y_train)\n",
        "    error_actual = 1-modeloPrueba.score(X_test,y_test)\n",
        "    error.append(error_actual)\n",
        "    if(error_actual<Proba_error_prueba):\n",
        "        N_neuronas=n\n",
        "        fcn_activacion=\"tanh\"\n",
        "        modelo = modeloPrueba\n",
        "        Proba_error_prueba = error_actual\n",
        "    if(error_actual<Proba_error_prueba_tan):\n",
        "        N_neuronas_tan=n\n",
        "        modelo_tan = modeloPrueba\n",
        "        Proba_error_prueba_tan = error_actual\n",
        "print(\"Número de neuronas utilizadas para la mejor probabilidad de error para tanh descenso de gradiente\")\n",
        "print(N_neuronas_tan)\n",
        "print(\"Mejor probabilidad de acierto para función de activación tanh con descenso de gradiente\")\n",
        "print(1-Proba_error_prueba_tan)"
      ],
      "execution_count": 0,
      "outputs": [
        {
          "output_type": "stream",
          "text": [
            "/usr/local/lib/python3.6/dist-packages/sklearn/neural_network/multilayer_perceptron.py:566: ConvergenceWarning: Stochastic Optimizer: Maximum iterations (1) reached and the optimization hasn't converged yet.\n",
            "  % self.max_iter, ConvergenceWarning)\n"
          ],
          "name": "stderr"
        },
        {
          "output_type": "stream",
          "text": [
            "Número de neuronas utilizadas para la mejor probabilidad de error para tanh descenso de gradiente\n",
            "10\n",
            "Mejor probabilidad de acierto para función de activación tanh con descenso de gradiente\n",
            "0.3416666666666667\n"
          ],
          "name": "stdout"
        }
      ]
    },
    {
      "cell_type": "code",
      "metadata": {
        "id": "_HG3i2Sr9Ns2",
        "colab_type": "code",
        "outputId": "3e1831d4-78fc-44f7-c1af-50b3385389ec",
        "colab": {
          "base_uri": "https://localhost:8080/",
          "height": 295
        }
      },
      "source": [
        "plt.plot((1-np.array(error)), label = \"Entrenamiento modelo tangente hiperbólico\") \n",
        "plt.xlabel('iteraciones') \n",
        "plt.ylabel('Probabilidad de acierto (%)') \n",
        "plt.title('probabilidad de acierto contra número de iteraciones para función de activación Tangente hiperbólico') \n",
        "plt.legend() \n",
        "plt.show()"
      ],
      "execution_count": 0,
      "outputs": [
        {
          "output_type": "display_data",
          "data": {
            "image/png": "[encoded data removed]",
            "text/plain": [
              "<Figure size 432x288 with 1 Axes>"
            ]
          },
          "metadata": {
            "tags": []
          }
        }
      ]
    },
    {
      "cell_type": "code",
      "metadata": {
        "id": "aVwoxdDH0FIR",
        "colab_type": "code",
        "outputId": "a2f2aa4f-813c-4983-f2f9-ed38cc0b83c5",
        "colab": {
          "base_uri": "https://localhost:8080/",
          "height": 50
        }
      },
      "source": [
        "#dtree_model = DecisionTreeClassifier(max_depth = 50).fit(X_train, y_train) \n",
        "#dtree_predictions = dtree_model.predict(X_test) \n",
        "\n",
        "rng = np.random.RandomState(1)\n",
        "tree=DecisionTreeClassifier(max_depth=5)\n",
        "Boosting = AdaBoostClassifier(base_estimator =tree, n_estimators=1000, learning_rate=1.0, random_state=rng)\n",
        "Boosting.fit(X_train,y_train)\n",
        "print(\"Porcentaje de acierto utilizando datos normalizados\")\n",
        "Boosting.score(X_test,y_test)\n",
        "\n",
        "# creating a confusion matrix \n",
        "#cm = confusion_matrix(y_test, dtree_predictions)\n",
        "#print(np.sum(np.diag(cm))/360)\n",
        "#print(cm)"
      ],
      "execution_count": 28,
      "outputs": [
        {
          "output_type": "stream",
          "text": [
            "Porcentaje de acierto utilizando datos normalizados\n"
          ],
          "name": "stdout"
        },
        {
          "output_type": "execute_result",
          "data": {
            "text/plain": [
              "0.3611111111111111"
            ]
          },
          "metadata": {
            "tags": []
          },
          "execution_count": 28
        }
      ]
    },
    {
      "cell_type": "markdown",
      "metadata": {
        "id": "HPtrsS9l74jh",
        "colab_type": "text"
      },
      "source": [
        "#Implementación con Keras"
      ]
    },
    {
      "cell_type": "code",
      "metadata": {
        "id": "2FBwvBcx70qs",
        "colab_type": "code",
        "colab": {}
      },
      "source": [
        "def graficarHistoriaAccuracy(pHist):\n",
        "  plt.plot(pHist.history['sparse_categorical_accuracy'], label = 'Accuracy')\n",
        "  plt.xlabel('Epoca')\n",
        "  plt.ylabel('Accuracy Entrenamiento')\n",
        "  plt.title(\"Accuracy de Entrenamiento vs Epoca\")\n",
        "  plt.legend()\n",
        "  plt.show()\n",
        "\n",
        "def graficarHistoriaValAccuracy(pHist):\n",
        "  plt.plot(hist.history['val_sparse_categorical_accuracy'], label = 'Accuracy Validacion')\n",
        "  plt.xlabel('Epoca')\n",
        "  plt.ylabel('Accuracy Validacion')\n",
        "  plt.title(\"Accuracy de Validacion vs Epoca\")\n",
        "  plt.legend()\n",
        "  plt.show()\n",
        "\n",
        "def crearModelo():\n",
        "\n",
        "  tasa = 0.001\n",
        "  alpha = 0.01\n",
        "\n",
        "  modelo = Sequential()\n",
        "  modelo.add(Dense(16, use_bias = True, kernel_initializer='random_uniform', input_dim = 16, activation = \"sigmoid\",activity_regularizer=l2(alpha)))\n",
        "  modelo.add(Dense(8, use_bias = True, activation = \"relu\"))\n",
        "  modelo.add(Dense(2, activation = \"softmax\"))\n",
        "\n",
        "  sgd = optimizers.SGD(lr = tasa)\n",
        "\n",
        "  modelo.compile(loss='sparse_categorical_crossentropy', optimizer = sgd, metrics = ['sparse_categorical_accuracy'])\n",
        "\n",
        "  return modelo\n",
        "\n",
        "modelo = crearModelo()\n",
        "\n",
        "hist = modelo.fit(X_train, y_train, validation_data=(X_test, y_test), epochs = 100, batch_size = 32)"
      ],
      "execution_count": 0,
      "outputs": []
    },
    {
      "cell_type": "code",
      "metadata": {
        "id": "k37HZ75vABmO",
        "colab_type": "code",
        "colab": {}
      },
      "source": [
        "graficarHistoriaAccuracy(hist)\n",
        "graficarHistoriaValAccuracy(hist)"
      ],
      "execution_count": 0,
      "outputs": []
    },
    {
      "cell_type": "markdown",
      "metadata": {
        "id": "rFudTVVMhxZf",
        "colab_type": "text"
      },
      "source": [
        "#Implementación con AdaBoost"
      ]
    },
    {
      "cell_type": "code",
      "metadata": {
        "id": "FGZ4e2gTBEpS",
        "colab_type": "code",
        "colab": {
          "base_uri": "https://localhost:8080/",
          "height": 229
        },
        "outputId": "93bbf4fd-4218-4b49-f614-067f6eaee6a2"
      },
      "source": [
        "numEstimadores = 10\n",
        "epocas = 100\n",
        "batchSize = 32\n",
        "\n",
        "estimadorBase = KerasClassifier(build_fn = crearModelo, epochs = epocas, batch_size = batchSize, verbose = 1)\n",
        "\n",
        "adaBoost = AdaBoostClassifier(base_estimator = modelo, n_estimators = numEstimadores) #Variar otros parametros como la tasa de aprendizaje\n",
        "adaBoost.fit(X_train, Y_train)"
      ],
      "execution_count": 15,
      "outputs": [
        {
          "output_type": "error",
          "ename": "NameError",
          "evalue": "ignored",
          "traceback": [
            "\u001b[0;31m---------------------------------------------------------------------------\u001b[0m",
            "\u001b[0;31mNameError\u001b[0m                                 Traceback (most recent call last)",
            "\u001b[0;32m<ipython-input-15-f01c8b0fcf27>\u001b[0m in \u001b[0;36m<module>\u001b[0;34m()\u001b[0m\n\u001b[1;32m      3\u001b[0m \u001b[0mbatchSize\u001b[0m \u001b[0;34m=\u001b[0m \u001b[0;36m32\u001b[0m\u001b[0;34m\u001b[0m\u001b[0;34m\u001b[0m\u001b[0m\n\u001b[1;32m      4\u001b[0m \u001b[0;34m\u001b[0m\u001b[0m\n\u001b[0;32m----> 5\u001b[0;31m \u001b[0mestimadorBase\u001b[0m \u001b[0;34m=\u001b[0m \u001b[0mKerasClassifier\u001b[0m\u001b[0;34m(\u001b[0m\u001b[0mbuild_fn\u001b[0m \u001b[0;34m=\u001b[0m \u001b[0mcrearModelo\u001b[0m\u001b[0;34m,\u001b[0m \u001b[0mepochs\u001b[0m \u001b[0;34m=\u001b[0m \u001b[0mepocas\u001b[0m\u001b[0;34m,\u001b[0m \u001b[0mbatch_size\u001b[0m \u001b[0;34m=\u001b[0m \u001b[0mbatchSize\u001b[0m\u001b[0;34m,\u001b[0m \u001b[0mverbose\u001b[0m \u001b[0;34m=\u001b[0m \u001b[0;36m1\u001b[0m\u001b[0;34m)\u001b[0m\u001b[0;34m\u001b[0m\u001b[0;34m\u001b[0m\u001b[0m\n\u001b[0m\u001b[1;32m      6\u001b[0m \u001b[0;34m\u001b[0m\u001b[0m\n\u001b[1;32m      7\u001b[0m \u001b[0madaBoost\u001b[0m \u001b[0;34m=\u001b[0m \u001b[0mAdaBoostClassifier\u001b[0m\u001b[0;34m(\u001b[0m\u001b[0mbase_estimator\u001b[0m \u001b[0;34m=\u001b[0m \u001b[0mmodelo\u001b[0m\u001b[0;34m,\u001b[0m \u001b[0mn_estimators\u001b[0m \u001b[0;34m=\u001b[0m \u001b[0mnumEstimadores\u001b[0m\u001b[0;34m)\u001b[0m \u001b[0;31m#Variar otros parametros como la tasa de aprendizaje\u001b[0m\u001b[0;34m\u001b[0m\u001b[0;34m\u001b[0m\u001b[0m\n",
            "\u001b[0;31mNameError\u001b[0m: name 'crearModelo' is not defined"
          ]
        }
      ]
    },
    {
      "cell_type": "code",
      "metadata": {
        "id": "9-J_0bGeBNZN",
        "colab_type": "code",
        "outputId": "1706b426-a44f-4aab-cf23-93b8ff7a80f7",
        "colab": {
          "base_uri": "https://localhost:8080/",
          "height": 35
        }
      },
      "source": [
        "test[0]"
      ],
      "execution_count": 0,
      "outputs": [
        {
          "output_type": "execute_result",
          "data": {
            "text/plain": [
              "array([0.23551697, 0.28870574, 0.47577727], dtype=float32)"
            ]
          },
          "metadata": {
            "tags": []
          },
          "execution_count": 34
        }
      ]
    },
    {
      "cell_type": "code",
      "metadata": {
        "id": "-NhnIXZkBct1",
        "colab_type": "code",
        "outputId": "ff1d69bd-80c6-40d6-b694-ae85dcf3b117",
        "colab": {
          "base_uri": "https://localhost:8080/",
          "height": 35
        }
      },
      "source": [
        "2**12"
      ],
      "execution_count": 0,
      "outputs": [
        {
          "output_type": "execute_result",
          "data": {
            "text/plain": [
              "4096"
            ]
          },
          "metadata": {
            "tags": []
          },
          "execution_count": 96
        }
      ]
    },
    {
      "cell_type": "code",
      "metadata": {
        "id": "N0RAT6MKJJsX",
        "colab_type": "code",
        "colab": {}
      },
      "source": [
        ""
      ],
      "execution_count": 0,
      "outputs": []
    }
  ]
}